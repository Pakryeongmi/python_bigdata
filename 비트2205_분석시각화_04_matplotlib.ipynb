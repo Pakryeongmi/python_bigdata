{
  "nbformat": 4,
  "nbformat_minor": 0,
  "metadata": {
    "colab": {
      "name": "비트2205 분석시각화 04-matplotlib.ipynb",
      "provenance": [],
      "mount_file_id": "1igLfkFmCv76WWBLC40QpLZf_G9XyM1Tw",
      "authorship_tag": "ABX9TyMdCw5XwOYnxYL1nT/YIuCR",
      "include_colab_link": true
    },
    "kernelspec": {
      "name": "python3",
      "display_name": "Python 3"
    },
    "language_info": {
      "name": "python"
    }
  },
  "cells": [
    {
      "cell_type": "markdown",
      "metadata": {
        "id": "view-in-github",
        "colab_type": "text"
      },
      "source": [
        "<a href=\"https://colab.research.google.com/github/Pakryeongmi/python_bigdata/blob/main/%EB%B9%84%ED%8A%B82205_%EB%B6%84%EC%84%9D%EC%8B%9C%EA%B0%81%ED%99%94_04_matplotlib.ipynb\" target=\"_parent\"><img src=\"https://colab.research.google.com/assets/colab-badge.svg\" alt=\"Open In Colab\"/></a>"
      ]
    },
    {
      "cell_type": "markdown",
      "source": [
        "## plot\n",
        "plot([x], y, [fmt], *, data=None, **kwargs)\n",
        "\n",
        "plot([x], y, [fmt], [x2], y2, [fmt2], ..., **kwargs)"
      ],
      "metadata": {
        "id": "NunkK5JsdPXF"
      }
    },
    {
      "cell_type": "code",
      "execution_count": null,
      "metadata": {
        "id": "m6tXuigUc4n5"
      },
      "outputs": [],
      "source": [
        "import matplotlib.pyplot as plt"
      ]
    },
    {
      "cell_type": "code",
      "source": [
        "plt.figure(figsize = (4,3))\n",
        "plt.plot([4,2,3,6])\n",
        "plt.title('only y values')\n",
        "plt.show()"
      ],
      "metadata": {
        "colab": {
          "base_uri": "https://localhost:8080/",
          "height": 227
        },
        "id": "35LIekj3dCcF",
        "outputId": "968e9b7a-d64f-4b09-9a2e-3f1e661138b6"
      },
      "execution_count": null,
      "outputs": [
        {
          "output_type": "display_data",
          "data": {
            "text/plain": [
              "<Figure size 288x216 with 1 Axes>"
            ],
            "image/png": "[encoded data removed]"
          },
          "metadata": {
            "needs_background": "light"
          }
        }
      ]
    },
    {
      "cell_type": "code",
      "source": [
        "plt.figure(figsize = (4,3))\n",
        "plt.plot([1,2,9,10],[4,2,3,6])\n",
        "plt.title('x and y values')\n",
        "plt.show()"
      ],
      "metadata": {
        "id": "Y5wR4LI_dOS-",
        "colab": {
          "base_uri": "https://localhost:8080/",
          "height": 227
        },
        "outputId": "fd145d57-c667-4c39-8c33-9c8145c9672e"
      },
      "execution_count": null,
      "outputs": [
        {
          "output_type": "display_data",
          "data": {
            "text/plain": [
              "<Figure size 288x216 with 1 Axes>"
            ],
            "image/png": "[encoded data removed]"
          },
          "metadata": {
            "needs_background": "light"
          }
        }
      ]
    },
    {
      "cell_type": "markdown",
      "source": [
        "fmt = '[marker][line][color]'\n",
        "\n",
        "marker : 점의 위치에 표시할 도형\n",
        "\n",
        "line : 점과 점 사이의 연결 선 형태\n",
        "\n",
        "color : 색상"
      ],
      "metadata": {
        "id": "LbdlqDV9fUQ0"
      }
    },
    {
      "cell_type": "code",
      "source": [
        "plt.figure(figsize = (4,3))\n",
        "plt.plot([1,2],[1,1], '.', label='.')\n",
        "plt.plot([1,2],[2,2], 'o', label='o')\n",
        "plt.plot([1,2],[3,3], '*', label='*')\n",
        "plt.title('marker')\n",
        "plt.legend(loc='upper center')\n",
        "plt.show()"
      ],
      "metadata": {
        "colab": {
          "base_uri": "https://localhost:8080/",
          "height": 227
        },
        "id": "IGRFxzm7fKaX",
        "outputId": "1d4a7c45-c0a5-47aa-cec2-9c3045950638"
      },
      "execution_count": null,
      "outputs": [
        {
          "output_type": "display_data",
          "data": {
            "text/plain": [
              "<Figure size 288x216 with 1 Axes>"
            ],
            "image/png": "[encoded data removed]"
          },
          "metadata": {
            "needs_background": "light"
          }
        }
      ]
    },
    {
      "cell_type": "code",
      "source": [
        "plt.figure(figsize = (4,3))\n",
        "plt.plot([1,2],[1,1], '.-', label='1 .-')\n",
        "plt.plot([1,2],[2,2], 'o--', label='2 o--')\n",
        "plt.plot([1,2],[3,3], '*-.', label='3 *-.')\n",
        "plt.title('marker and line style')\n",
        "plt.legend()\n",
        "plt.show()"
      ],
      "metadata": {
        "colab": {
          "base_uri": "https://localhost:8080/",
          "height": 227
        },
        "id": "dHikioSkgGQW",
        "outputId": "3aecbd00-8e49-4cfd-d40d-ca12739dd046"
      },
      "execution_count": null,
      "outputs": [
        {
          "output_type": "display_data",
          "data": {
            "text/plain": [
              "<Figure size 288x216 with 1 Axes>"
            ],
            "image/png": "[encoded data removed]"
          },
          "metadata": {
            "needs_background": "light"
          }
        }
      ]
    },
    {
      "cell_type": "code",
      "source": [
        "plt.figure(figsize = (4,3))\n",
        "plt.plot([1,2],[1,1], '.-r', label='1 .-r')\n",
        "plt.plot([1,2],[2,2], 'o--b', label='2 o--b')\n",
        "plt.plot([1,2],[3,3], '*-.m', label='3 *-.m')\n",
        "plt.title('marker and line style and color')\n",
        "plt.legend()\n",
        "plt.show()"
      ],
      "metadata": {
        "colab": {
          "base_uri": "https://localhost:8080/",
          "height": 227
        },
        "id": "LyGFuejwglVT",
        "outputId": "8946c630-eb90-45c1-e30c-c820b95b5b72"
      },
      "execution_count": null,
      "outputs": [
        {
          "output_type": "display_data",
          "data": {
            "text/plain": [
              "<Figure size 288x216 with 1 Axes>"
            ],
            "image/png": "[encoded data removed]"
          },
          "metadata": {
            "needs_background": "light"
          }
        }
      ]
    },
    {
      "cell_type": "code",
      "source": [
        "plt.figure(figsize = (4,3))\n",
        "plt.plot([1,2],[1,1], '.-', color='purple', label='1 .-')\n",
        "plt.plot([1,2],[2,2], 'o--', color='#7F7F00', label='2 o--')\n",
        "plt.plot([1,2],[3,3], '*-.', color='r', label='3 *-.')\n",
        "plt.title('use color option')\n",
        "plt.legend()\n",
        "plt.show()"
      ],
      "metadata": {
        "colab": {
          "base_uri": "https://localhost:8080/",
          "height": 227
        },
        "id": "3SeMnPTSg1OG",
        "outputId": "c751e9ee-d58d-4ee7-9596-44a0750acaa6"
      },
      "execution_count": null,
      "outputs": [
        {
          "output_type": "display_data",
          "data": {
            "text/plain": [
              "<Figure size 288x216 with 1 Axes>"
            ],
            "image/png": "[encoded data removed]"
          },
          "metadata": {
            "needs_background": "light"
          }
        }
      ]
    },
    {
      "cell_type": "code",
      "source": [
        "plt.figure(figsize=(3,3))\n",
        "xs = [x/10 for x in range(-50, 50)] #-5 ~ 5 step:0.1\n",
        "ys = [2*x**2+3 for x in xs] #y = 2x^2 + 3\n",
        "plt.plot(xs, ys, label='y=2xx+3')\n",
        "plt.xlim(-25, 25) #x축\n",
        "plt.ylim(0, 50) #y축\n",
        "plt.vlines(0, 0, 50) #중앙축\n",
        "plt.legend(loc='lower left')\n",
        "plt.show()"
      ],
      "metadata": {
        "colab": {
          "base_uri": "https://localhost:8080/",
          "height": 215
        },
        "id": "H8RkDNc3pfW2",
        "outputId": "ff309483-bda4-4366-9411-f1716de29569"
      },
      "execution_count": null,
      "outputs": [
        {
          "output_type": "display_data",
          "data": {
            "text/plain": [
              "<Figure size 216x216 with 1 Axes>"
            ],
            "image/png": "[encoded data removed]"
          },
          "metadata": {
            "needs_background": "light"
          }
        }
      ]
    },
    {
      "cell_type": "code",
      "source": [
        "plt.figure(figsize=(10, 10))\n",
        "xs = [x/10 for x in range(-50, 50)] #-5 ~ 5 step:0.1\n",
        "ys = [2*x**2+3 for x in xs] #y = 2x^2+3\n",
        "ys2 = [2*x+1 for x in xs] #y=2x+1\n",
        "ys3 = [2*x**2+1 for x in xs] #y=2x^2+1\n",
        "\n",
        "plt.plot(xs, ys, '.', label='y=2xx+3')\n",
        "plt.plot(xs, ys2, '-', label='y=2x+1')\n",
        "plt.plot(xs, ys3, '--', label='y=2xx+1')\n",
        "plt.xlim(-25, 25)\n",
        "plt.ylim(0, 50)\n",
        "plt.vlines(0, 0, 50)\n",
        "plt.legend(loc='lower left')\n",
        "plt.show()"
      ],
      "metadata": {
        "colab": {
          "base_uri": "https://localhost:8080/",
          "height": 596
        },
        "id": "kZR22Wcgh7ue",
        "outputId": "a8ff3a5c-f708-4a61-862a-7e3de68602b0"
      },
      "execution_count": null,
      "outputs": [
        {
          "output_type": "display_data",
          "data": {
            "text/plain": [
              "<Figure size 720x720 with 1 Axes>"
            ],
            "image/png": "[encoded data removed]"
          },
          "metadata": {
            "needs_background": "light"
          }
        }
      ]
    },
    {
      "cell_type": "code",
      "source": [
        "plt.plot(xs, ys) #디폴트 figure (figure(1))에 그려줌\n",
        "plt.figure(2) #이번에 그림을 그릴 figure를 선택\n",
        "plt.plot(xs, ys2)\n",
        "plt.figure(3) #figure(그림을 그릴 도면)\n",
        "plt.plot(xs, ys3)\n",
        "plt.show()"
      ],
      "metadata": {
        "colab": {
          "base_uri": "https://localhost:8080/",
          "height": 761
        },
        "id": "X-xT9eMfsa5R",
        "outputId": "14292df7-7826-42aa-acc4-f6633bb7c708"
      },
      "execution_count": null,
      "outputs": [
        {
          "output_type": "display_data",
          "data": {
            "text/plain": [
              "<Figure size 432x288 with 1 Axes>"
            ],
            "image/png": "[encoded data removed]"
          },
          "metadata": {
            "needs_background": "light"
          }
        },
        {
          "output_type": "display_data",
          "data": {
            "text/plain": [
              "<Figure size 432x288 with 1 Axes>"
            ],
            "image/png": "[encoded data removed]"
          },
          "metadata": {
            "needs_background": "light"
          }
        },
        {
          "output_type": "display_data",
          "data": {
            "text/plain": [
              "<Figure size 432x288 with 1 Axes>"
            ],
            "image/png": "[encoded data removed]"
          },
          "metadata": {
            "needs_background": "light"
          }
        }
      ]
    },
    {
      "cell_type": "code",
      "source": [
        "ax = plt.subplot(2,2,1) #하나의 figure를 2,2(4분할)로 나누어서 1번째꺼를 쓰겠다\n",
        "ax.set_title('um')\n",
        "plt.plot(xs, ys)\n",
        "plt.subplot(2,2,2)\n",
        "plt.plot(xs, ys2)\n",
        "plt.subplot(2,2,3)\n",
        "plt.plot(xs, ys3)\n",
        "plt.subplot(2,2,4)\n",
        "plt.show()"
      ],
      "metadata": {
        "colab": {
          "base_uri": "https://localhost:8080/",
          "height": 281
        },
        "id": "bWPDkdvDtUfe",
        "outputId": "0b72f144-f2a2-47bc-a817-9897ff75e0d4"
      },
      "execution_count": null,
      "outputs": [
        {
          "output_type": "display_data",
          "data": {
            "text/plain": [
              "<Figure size 432x288 with 4 Axes>"
            ],
            "image/png": "[encoded data removed]"
          },
          "metadata": {
            "needs_background": "light"
          }
        }
      ]
    },
    {
      "cell_type": "code",
      "source": [
        ""
      ],
      "metadata": {
        "id": "wt7mrQ5juw5g"
      },
      "execution_count": null,
      "outputs": []
    },
    {
      "cell_type": "markdown",
      "source": [
        "## scatter\n",
        "Axes.scatter(x, y, s=None, c=None, marker=None, cmap=None, norm=None, vmin=None, vmax=None, alpha=None, linewidths=None, *, edgecolors=None, plotnonfinite=False, data=None, **kwargs)[source]"
      ],
      "metadata": {
        "id": "u0yjxqA1izBU"
      }
    },
    {
      "cell_type": "code",
      "source": [
        "plt.figure(figsize = (4,3))\n",
        "plt.scatter([1,2],[1,1], label='first')\n",
        "plt.scatter([1,2],[1,1],[1,8], label='second')\n",
        "plt.title('scatter')\n",
        "plt.legend()\n",
        "plt.show()"
      ],
      "metadata": {
        "colab": {
          "base_uri": "https://localhost:8080/",
          "height": 227
        },
        "id": "V_Vm1HBVi57e",
        "outputId": "4890119f-50ed-425e-e1e5-a6f2a43b9c59"
      },
      "execution_count": null,
      "outputs": [
        {
          "output_type": "display_data",
          "data": {
            "text/plain": [
              "<Figure size 288x216 with 1 Axes>"
            ],
            "image/png": "[encoded data removed]"
          },
          "metadata": {
            "needs_background": "light"
          }
        }
      ]
    },
    {
      "cell_type": "code",
      "source": [
        "import pandas as pd\n",
        "temp = [25.2, 35.7, 45.2]\n",
        "sales = [1000, 2000, 2500]\n",
        "dict_data = {'temp':temp, 'sales':sales}\n",
        "df = pd.DataFrame(dict_data, columns = ['temp', 'sales'])\n",
        "df"
      ],
      "metadata": {
        "colab": {
          "base_uri": "https://localhost:8080/",
          "height": 143
        },
        "id": "uS19bbRKjTsY",
        "outputId": "dd839516-7ee7-4b45-992b-c79a18d14fe0"
      },
      "execution_count": null,
      "outputs": [
        {
          "output_type": "execute_result",
          "data": {
            "text/plain": [
              "   temp  sales\n",
              "0  25.2   1000\n",
              "1  35.7   2000\n",
              "2  45.2   2500"
            ],
            "text/html": [
              "\n",
              "  <div id=\"df-727c18ac-daa3-4d78-b451-a47e92445a64\">\n",
              "    <div class=\"colab-df-container\">\n",
              "      <div>\n",
              "<style scoped>\n",
              "    .dataframe tbody tr th:only-of-type {\n",
              "        vertical-align: middle;\n",
              "    }\n",
              "\n",
              "    .dataframe tbody tr th {\n",
              "        vertical-align: top;\n",
              "    }\n",
              "\n",
              "    .dataframe thead th {\n",
              "        text-align: right;\n",
              "    }\n",
              "</style>\n",
              "<table border=\"1\" class=\"dataframe\">\n",
              "  <thead>\n",
              "    <tr style=\"text-align: right;\">\n",
              "      <th></th>\n",
              "      <th>temp</th>\n",
              "      <th>sales</th>\n",
              "    </tr>\n",
              "  </thead>\n",
              "  <tbody>\n",
              "    <tr>\n",
              "      <th>0</th>\n",
              "      <td>25.2</td>\n",
              "      <td>1000</td>\n",
              "    </tr>\n",
              "    <tr>\n",
              "      <th>1</th>\n",
              "      <td>35.7</td>\n",
              "      <td>2000</td>\n",
              "    </tr>\n",
              "    <tr>\n",
              "      <th>2</th>\n",
              "      <td>45.2</td>\n",
              "      <td>2500</td>\n",
              "    </tr>\n",
              "  </tbody>\n",
              "</table>\n",
              "</div>\n",
              "      <button class=\"colab-df-convert\" onclick=\"convertToInteractive('df-727c18ac-daa3-4d78-b451-a47e92445a64')\"\n",
              "              title=\"Convert this dataframe to an interactive table.\"\n",
              "              style=\"display:none;\">\n",
              "        \n",
              "  <svg xmlns=\"http://www.w3.org/2000/svg\" height=\"24px\"viewBox=\"0 0 24 24\"\n",
              "       width=\"24px\">\n",
              "    <path d=\"M0 0h24v24H0V0z\" fill=\"none\"/>\n",
              "    <path d=\"M18.56 5.44l.94 2.06.94-2.06 2.06-.94-2.06-.94-.94-2.06-.94 2.06-2.06.94zm-11 1L8.5 8.5l.94-2.06 2.06-.94-2.06-.94L8.5 2.5l-.94 2.06-2.06.94zm10 10l.94 2.06.94-2.06 2.06-.94-2.06-.94-.94-2.06-.94 2.06-2.06.94z\"/><path d=\"M17.41 7.96l-1.37-1.37c-.4-.4-.92-.59-1.43-.59-.52 0-1.04.2-1.43.59L10.3 9.45l-7.72 7.72c-.78.78-.78 2.05 0 2.83L4 21.41c.39.39.9.59 1.41.59.51 0 1.02-.2 1.41-.59l7.78-7.78 2.81-2.81c.8-.78.8-2.07 0-2.86zM5.41 20L4 18.59l7.72-7.72 1.47 1.35L5.41 20z\"/>\n",
              "  </svg>\n",
              "      </button>\n",
              "      \n",
              "  <style>\n",
              "    .colab-df-container {\n",
              "      display:flex;\n",
              "      flex-wrap:wrap;\n",
              "      gap: 12px;\n",
              "    }\n",
              "\n",
              "    .colab-df-convert {\n",
              "      background-color: #E8F0FE;\n",
              "      border: none;\n",
              "      border-radius: 50%;\n",
              "      cursor: pointer;\n",
              "      display: none;\n",
              "      fill: #1967D2;\n",
              "      height: 32px;\n",
              "      padding: 0 0 0 0;\n",
              "      width: 32px;\n",
              "    }\n",
              "\n",
              "    .colab-df-convert:hover {\n",
              "      background-color: #E2EBFA;\n",
              "      box-shadow: 0px 1px 2px rgba(60, 64, 67, 0.3), 0px 1px 3px 1px rgba(60, 64, 67, 0.15);\n",
              "      fill: #174EA6;\n",
              "    }\n",
              "\n",
              "    [theme=dark] .colab-df-convert {\n",
              "      background-color: #3B4455;\n",
              "      fill: #D2E3FC;\n",
              "    }\n",
              "\n",
              "    [theme=dark] .colab-df-convert:hover {\n",
              "      background-color: #434B5C;\n",
              "      box-shadow: 0px 1px 3px 1px rgba(0, 0, 0, 0.15);\n",
              "      filter: drop-shadow(0px 1px 2px rgba(0, 0, 0, 0.3));\n",
              "      fill: #FFFFFF;\n",
              "    }\n",
              "  </style>\n",
              "\n",
              "      <script>\n",
              "        const buttonEl =\n",
              "          document.querySelector('#df-727c18ac-daa3-4d78-b451-a47e92445a64 button.colab-df-convert');\n",
              "        buttonEl.style.display =\n",
              "          google.colab.kernel.accessAllowed ? 'block' : 'none';\n",
              "\n",
              "        async function convertToInteractive(key) {\n",
              "          const element = document.querySelector('#df-727c18ac-daa3-4d78-b451-a47e92445a64');\n",
              "          const dataTable =\n",
              "            await google.colab.kernel.invokeFunction('convertToInteractive',\n",
              "                                                     [key], {});\n",
              "          if (!dataTable) return;\n",
              "\n",
              "          const docLinkHtml = 'Like what you see? Visit the ' +\n",
              "            '<a target=\"_blank\" href=https://colab.research.google.com/notebooks/data_table.ipynb>data table notebook</a>'\n",
              "            + ' to learn more about interactive tables.';\n",
              "          element.innerHTML = '';\n",
              "          dataTable['output_type'] = 'display_data';\n",
              "          await google.colab.output.renderOutput(dataTable, element);\n",
              "          const docLink = document.createElement('div');\n",
              "          docLink.innerHTML = docLinkHtml;\n",
              "          element.appendChild(docLink);\n",
              "        }\n",
              "      </script>\n",
              "    </div>\n",
              "  </div>\n",
              "  "
            ]
          },
          "metadata": {},
          "execution_count": 18
        }
      ]
    },
    {
      "cell_type": "code",
      "source": [
        "df.plot.scatter(x = 'temp', y = 'sales')\n",
        "plt.show()"
      ],
      "metadata": {
        "colab": {
          "base_uri": "https://localhost:8080/",
          "height": 279
        },
        "id": "uQni2uhOkHOj",
        "outputId": "d2bf6dc1-7cd1-42ea-9945-65c41ad57ca4"
      },
      "execution_count": null,
      "outputs": [
        {
          "output_type": "display_data",
          "data": {
            "text/plain": [
              "<Figure size 432x288 with 1 Axes>"
            ],
            "image/png": "[encoded data removed]"
          },
          "metadata": {
            "needs_background": "light"
          }
        }
      ]
    },
    {
      "cell_type": "code",
      "source": [
        "plt.figure(figsize=(2.5,2.5))\n",
        "city =['서울','인천','대전','대구','울산','부산','광주']\n",
        "lat = [37.56, 37.45, 36.35, 35.87, 35.53, 35.18, 35.16]\n",
        "lon = [126.97, 126.70, 127.38,128.60,129.31,129.07,126.85]\n",
        "pop_den = [16154,2751,2839,2790,1099,4454,2995]\n",
        "\n",
        "\n",
        "plt.show()"
      ],
      "metadata": {
        "id": "7aAWYpqtwP_A"
      },
      "execution_count": null,
      "outputs": []
    },
    {
      "cell_type": "code",
      "source": [
        ""
      ],
      "metadata": {
        "id": "IGe4wgy2kbvB"
      },
      "execution_count": null,
      "outputs": []
    },
    {
      "cell_type": "markdown",
      "source": [
        "## bar\n",
        "matplotlib.pyplot.bar(x, height, width=0.8, bottom=None, *, align='center', data=None, **kwargs)[source]"
      ],
      "metadata": {
        "id": "qewH6h5npLz0"
      }
    },
    {
      "cell_type": "code",
      "source": [
        "plt.figure(figsize=(2.5,2.5))\n",
        "plt.bar(['a', 'b', 'c'], [80,90,75])\n",
        "plt.show()"
      ],
      "metadata": {
        "colab": {
          "base_uri": "https://localhost:8080/",
          "height": 184
        },
        "id": "Z8xYI0cVpM_d",
        "outputId": "247262f7-a106-431f-8d1c-6396f63cee15"
      },
      "execution_count": null,
      "outputs": [
        {
          "output_type": "display_data",
          "data": {
            "text/plain": [
              "<Figure size 180x180 with 1 Axes>"
            ],
            "image/png": "[encoded data removed]"
          },
          "metadata": {
            "needs_background": "light"
          }
        }
      ]
    },
    {
      "cell_type": "code",
      "source": [
        "#!sudo apt-get install -y fonts-nanum #나눔글꼴 설치\n",
        "#!sudo fc-cache -fv\n",
        "#!rm ~/ .cache/matplotlib -rf"
      ],
      "metadata": {
        "id": "yr8i5CMQwanp"
      },
      "execution_count": null,
      "outputs": []
    },
    {
      "cell_type": "code",
      "source": [
        "#import matplotlib.pyplot as plt\n",
        "#plt.rc('font', family='NanumBarunGothic')\n",
        "#plt.title('테스트')\n",
        "#plt.show()"
      ],
      "metadata": {
        "id": "-dOsubhexQaV"
      },
      "execution_count": null,
      "outputs": []
    },
    {
      "cell_type": "code",
      "source": [
        "plt.figure(figsize=(2.5,2.5))\n",
        "city =['a','b','c','d','e','f','g']\n",
        "lat = [37.56, 37.45, 36.35, 35.87, 35.53, 35.18, 35.16]\n",
        "lon = [126.97, 126.70, 127.38,128.60,129.31,129.07,126.85]\n",
        "pop_den = [16154,2751,2839,2790,1099,4454,2995]\n",
        "\n",
        "plt.bar(city, pop_den)\n",
        "plt.show()"
      ],
      "metadata": {
        "colab": {
          "base_uri": "https://localhost:8080/",
          "height": 184
        },
        "id": "2NiCRLXmvT3q",
        "outputId": "75044503-a143-46aa-b8ec-f1bdf553e3fe"
      },
      "execution_count": null,
      "outputs": [
        {
          "output_type": "display_data",
          "data": {
            "text/plain": [
              "<Figure size 180x180 with 1 Axes>"
            ],
            "image/png": "[encoded data removed]"
          },
          "metadata": {
            "needs_background": "light"
          }
        }
      ]
    },
    {
      "cell_type": "code",
      "source": [
        "ids = ['m01', 'm02', 'm02', 'm04']\n",
        "ex = [27,35,40,33]\n",
        "plt.bar(ids, ex)\n",
        "plt.grid(True) #모눈\n",
        "plt.show()"
      ],
      "metadata": {
        "id": "rJkPQ0rgzOrF",
        "colab": {
          "base_uri": "https://localhost:8080/",
          "height": 265
        },
        "outputId": "40f64503-60bf-4af3-a1dc-649f5144e532"
      },
      "execution_count": null,
      "outputs": [
        {
          "output_type": "display_data",
          "data": {
            "text/plain": [
              "<Figure size 432x288 with 1 Axes>"
            ],
            "image/png": "[encoded data removed]"
          },
          "metadata": {
            "needs_background": "light"
          }
        }
      ]
    },
    {
      "cell_type": "code",
      "source": [
        "ids = ['m01', 'm02', 'm02', 'm04']\n",
        "ex = [27,35,40,33]\n",
        "idns = [1,3,2,4]\n",
        "plt.bar(idns, ex) #x 값의 항목이 \n",
        "plt.grid(True)\n",
        "plt.show()"
      ],
      "metadata": {
        "colab": {
          "base_uri": "https://localhost:8080/",
          "height": 265
        },
        "id": "x5BzMAey3xOK",
        "outputId": "f76b8591-919b-44e0-b619-cc2bdf3c55ec"
      },
      "execution_count": null,
      "outputs": [
        {
          "output_type": "display_data",
          "data": {
            "text/plain": [
              "<Figure size 432x288 with 1 Axes>"
            ],
            "image/png": "[encoded data removed]"
          },
          "metadata": {
            "needs_background": "light"
          }
        }
      ]
    },
    {
      "cell_type": "code",
      "source": [
        "import numpy as np\n",
        "ex = [27,35,40,33]\n",
        "idns = np.array([1,2,3,4])\n",
        "cids = idns.astype(str) #x 항목을 문자열로 캐스팅하여 사용해야함\n",
        "plt.bar(cids, ex)\n",
        "plt.grid(True)\n",
        "plt.show()"
      ],
      "metadata": {
        "colab": {
          "base_uri": "https://localhost:8080/",
          "height": 265
        },
        "id": "Ug9udPs34oA0",
        "outputId": "2b30d002-fa8e-46fd-8856-4f910dd40bb5"
      },
      "execution_count": null,
      "outputs": [
        {
          "output_type": "display_data",
          "data": {
            "text/plain": [
              "<Figure size 432x288 with 1 Axes>"
            ],
            "image/png": "[encoded data removed]"
          },
          "metadata": {
            "needs_background": "light"
          }
        }
      ]
    },
    {
      "cell_type": "code",
      "source": [
        "import numpy as np\n",
        "ex = [27,35,40,33]\n",
        "idns = np.array([1,2,3,4])\n",
        "cids = idns.astype(str) \n",
        "plt.bar(cids, ex, color=['r', 'g', 'b', 'm'])\n",
        "#plt.grid(True)\n",
        "plt.show()"
      ],
      "metadata": {
        "colab": {
          "base_uri": "https://localhost:8080/",
          "height": 265
        },
        "id": "Ic_v2wxc5Auf",
        "outputId": "5e061548-f09b-4c4a-f207-3c6eed465f27"
      },
      "execution_count": null,
      "outputs": [
        {
          "output_type": "display_data",
          "data": {
            "text/plain": [
              "<Figure size 432x288 with 1 Axes>"
            ],
            "image/png": "[encoded data removed]"
          },
          "metadata": {
            "needs_background": "light"
          }
        }
      ]
    },
    {
      "cell_type": "code",
      "source": [
        "import numpy as np\n",
        "ex = [27,35,40,33]\n",
        "idns = np.array([1,2,3,4])\n",
        "cids = idns.astype(str) \n",
        "plt.bar(cids, ex, color=['r', 'g', 'b', 'm'], width=0.6) #width: 바의 가로길이 조정 \n",
        "#plt.grid(True)\n",
        "plt.show()"
      ],
      "metadata": {
        "colab": {
          "base_uri": "https://localhost:8080/",
          "height": 265
        },
        "id": "2C-hgXKu5SVP",
        "outputId": "915e8810-7f47-42e6-f691-f793a0ae59aa"
      },
      "execution_count": null,
      "outputs": [
        {
          "output_type": "display_data",
          "data": {
            "text/plain": [
              "<Figure size 432x288 with 1 Axes>"
            ],
            "image/png": "[encoded data removed]"
          },
          "metadata": {
            "needs_background": "light"
          }
        }
      ]
    },
    {
      "cell_type": "code",
      "source": [
        "import numpy as np\n",
        "ex = [27,35,40,33]\n",
        "idns = np.array([1,2,3,4])\n",
        "cids = idns.astype(str) \n",
        "plt.bar(cids, ex, color=['r', 'g', 'b', 'm'], width=0.6, align='edge') #align: x축의 값이 왼쪽 정렬(edge랑 center밖에 없음, 디폴트는 center)\n",
        "#plt.grid(True)\n",
        "plt.show()"
      ],
      "metadata": {
        "colab": {
          "base_uri": "https://localhost:8080/",
          "height": 265
        },
        "id": "dBFJHSjo5ptt",
        "outputId": "b2ad48db-8a75-480e-cc1a-c548f7dc37fc"
      },
      "execution_count": null,
      "outputs": [
        {
          "output_type": "display_data",
          "data": {
            "text/plain": [
              "<Figure size 432x288 with 1 Axes>"
            ],
            "image/png": "[encoded data removed]"
          },
          "metadata": {
            "needs_background": "light"
          }
        }
      ]
    },
    {
      "cell_type": "code",
      "source": [
        "import numpy as np\n",
        "ex = [27,35,40,33] #운동 전\n",
        "af = [35,40,45,38] #운동 후\n",
        "bw = 0.4\n",
        "idns = np.array([1,2,3,4])\n",
        "cids = idns.astype(str) \n",
        "plt.bar(idns, ex, color='r', width=bw, align='edge', label='before') \n",
        "plt.bar(idns+bw, af, color='b', width=bw, align='edge', label='after')\n",
        "plt.legend()\n",
        "plt.xticks(idns+bw, cids) #xticks: x축 값을 표현하는 것 / yticks: y축 값을 표현하는 것\n",
        "plt.show()"
      ],
      "metadata": {
        "colab": {
          "base_uri": "https://localhost:8080/",
          "height": 265
        },
        "id": "JO-qNSXx8ufD",
        "outputId": "68eef8b8-b600-416d-c598-7969b3c32a5b"
      },
      "execution_count": null,
      "outputs": [
        {
          "output_type": "display_data",
          "data": {
            "text/plain": [
              "<Figure size 432x288 with 1 Axes>"
            ],
            "image/png": "[encoded data removed]"
          },
          "metadata": {
            "needs_background": "light"
          }
        }
      ]
    },
    {
      "cell_type": "code",
      "source": [
        "import numpy as np\n",
        "ex = [27,35,40,33] #운동 전\n",
        "af = [35,40,45,38] #운동 후\n",
        "bw = 0.4\n",
        "idns = np.array([1,2,3,4])\n",
        "cids = idns.astype(str) \n",
        "plt.bar(idns, ex, color=['r', 'g', 'b', 'm'], width=bw, align='edge') \n",
        "plt.bar(idns+bw, af, color=['pink', 'lightgreen', 'skyblue', 'purple'], width=bw, align='edge')\n",
        "plt.xticks(idns+bw, cids) #xticks: x축 값을 표현하는 것 / yticks: y축 값을 표현하는 것\n",
        "plt.show()"
      ],
      "metadata": {
        "colab": {
          "base_uri": "https://localhost:8080/",
          "height": 265
        },
        "id": "MKsd2JFn6DxO",
        "outputId": "19254f1f-51bd-4ec9-9702-dab828b38850"
      },
      "execution_count": null,
      "outputs": [
        {
          "output_type": "display_data",
          "data": {
            "text/plain": [
              "<Figure size 432x288 with 1 Axes>"
            ],
            "image/png": "[encoded data removed]"
          },
          "metadata": {
            "needs_background": "light"
          }
        }
      ]
    },
    {
      "cell_type": "code",
      "source": [
        "plt.barh([1,2,3],[4,5,6]) #바를 가로로 표시\n",
        "plt.show()"
      ],
      "metadata": {
        "colab": {
          "base_uri": "https://localhost:8080/",
          "height": 267
        },
        "id": "bOS-1KNk67Wn",
        "outputId": "8d40abc4-bb41-43aa-88ae-95d18afd6b74"
      },
      "execution_count": null,
      "outputs": [
        {
          "output_type": "display_data",
          "data": {
            "text/plain": [
              "<Figure size 432x288 with 1 Axes>"
            ],
            "image/png": "[encoded data removed]"
          },
          "metadata": {
            "needs_background": "light"
          }
        }
      ]
    },
    {
      "cell_type": "code",
      "source": [
        "import numpy as np\n",
        "ex = [27,35,40,33]\n",
        "idns = np.array([1,2,3,4])\n",
        "cids = idns.astype(str) \n",
        "plt.bar(cids, ex, color=['r', 'g', 'b', 'm'], edgecolor='black') #바 테두리 색 설정\n",
        "#plt.grid(True)\n",
        "plt.show()"
      ],
      "metadata": {
        "colab": {
          "base_uri": "https://localhost:8080/",
          "height": 265
        },
        "id": "I2tcnDoP9S4-",
        "outputId": "bcc09a14-da25-4508-ac0e-5522e0f5e266"
      },
      "execution_count": null,
      "outputs": [
        {
          "output_type": "display_data",
          "data": {
            "text/plain": [
              "<Figure size 432x288 with 1 Axes>"
            ],
            "image/png": "[encoded data removed]"
          },
          "metadata": {
            "needs_background": "light"
          }
        }
      ]
    },
    {
      "cell_type": "code",
      "source": [
        "import numpy as np\n",
        "ex = [27,35,40,33]\n",
        "idns = np.array([1,2,3,4])\n",
        "cids = idns.astype(str) \n",
        "plt.bar(cids, ex, linewidth=4, edgecolor='r') #바 테두리 굵기와 색 설정\n",
        "#plt.grid(True)\n",
        "plt.show()"
      ],
      "metadata": {
        "colab": {
          "base_uri": "https://localhost:8080/",
          "height": 265
        },
        "id": "uMx25BYE9vtp",
        "outputId": "5fa1c8d7-7f06-4ab3-90cf-cceea15e45f3"
      },
      "execution_count": null,
      "outputs": [
        {
          "output_type": "display_data",
          "data": {
            "text/plain": [
              "<Figure size 432x288 with 1 Axes>"
            ],
            "image/png": "[encoded data removed]"
          },
          "metadata": {
            "needs_background": "light"
          }
        }
      ]
    },
    {
      "cell_type": "code",
      "source": [
        "import numpy as np\n",
        "ex = [27,35,40,33]\n",
        "idns = np.array([1,2,3,4])\n",
        "cids = idns.astype(str) \n",
        "plt.bar(cids, ex, linewidth=4, edgecolor='r', yerr=[1,2,3,2]) #yerr: 오차범위(에러값)\n",
        "#plt.grid(True)\n",
        "plt.show()"
      ],
      "metadata": {
        "colab": {
          "base_uri": "https://localhost:8080/",
          "height": 265
        },
        "id": "K__D1yoS94xe",
        "outputId": "6f4918bb-3f32-43ae-8657-0e85f40c59dc"
      },
      "execution_count": null,
      "outputs": [
        {
          "output_type": "display_data",
          "data": {
            "text/plain": [
              "<Figure size 432x288 with 1 Axes>"
            ],
            "image/png": "[encoded data removed]"
          },
          "metadata": {
            "needs_background": "light"
          }
        }
      ]
    },
    {
      "cell_type": "code",
      "source": [
        "ex_xs = [[2],[4],[7],[1],[9],[6]]\n",
        "ex_ys = [8,11,24,5,30,20]\n",
        "plt.figure(figsize=(4,4))\n",
        "plt.plot(ex_xs[:], ex_ys, 'o', label='example data')\n",
        "plt.xlim(0,30)\n",
        "plt.ylim(0,30)\n",
        "plt.show()"
      ],
      "metadata": {
        "colab": {
          "base_uri": "https://localhost:8080/",
          "height": 269
        },
        "id": "JWE_SsxT-Mda",
        "outputId": "717b82b5-9787-40e5-b080-71baba12d671"
      },
      "execution_count": null,
      "outputs": [
        {
          "output_type": "display_data",
          "data": {
            "text/plain": [
              "<Figure size 288x288 with 1 Axes>"
            ],
            "image/png": "[encoded data removed]"
          },
          "metadata": {
            "needs_background": "light"
          }
        }
      ]
    },
    {
      "cell_type": "code",
      "source": [
        "ex_xs = [[2],[4],[7],[1],[9],[6]]\n",
        "ex_ys = [8,11,24,5,30,20]\n",
        "plt.figure(figsize=(4,4))\n",
        "plt.plot(ex_xs[:], ex_ys, 'o', label='example data')\n",
        "plt.plot([0,30], [2*0+2,2*30+2], label='y=2x+2')\n",
        "plt.plot([0,30], [3*0+2,3*30+2], label='y=3x+2')\n",
        "plt.plot([0,30], [4*0+2,4*30+2], label='y=4x+2')\n",
        "plt.legend()\n",
        "plt.xlim(0,30)\n",
        "plt.ylim(0,30)\n",
        "plt.show()"
      ],
      "metadata": {
        "colab": {
          "base_uri": "https://localhost:8080/",
          "height": 269
        },
        "id": "j-Q0Z6A3UCyY",
        "outputId": "f56f0532-b6ca-4d5c-883e-75af4d0bb1ae"
      },
      "execution_count": null,
      "outputs": [
        {
          "output_type": "display_data",
          "data": {
            "text/plain": [
              "<Figure size 288x288 with 1 Axes>"
            ],
            "image/png": "[encoded data removed]"
          },
          "metadata": {
            "needs_background": "light"
          }
        }
      ]
    },
    {
      "cell_type": "code",
      "source": [
        "def mse(yp, y):\n",
        "    return np.mean(sum(yp-y)**2)"
      ],
      "metadata": {
        "id": "BVtcYIZ3UoGD"
      },
      "execution_count": null,
      "outputs": []
    },
    {
      "cell_type": "code",
      "source": [
        "b = 2\n",
        "mses = [] #mse를 보관할 컬렉션\n",
        "wpl = np.arange(-10,10,0.5) #조사할 기울기(-10에서 10까지 step:0.5)\n",
        "for wp in wpl: #기울기마다\n",
        "    yp = wp * np.array(ex_xs) + b\n",
        "    mses.append(mse(yp, ex_ys)) #해당 기울기에서 mse를 보관\n",
        "mses"
      ],
      "metadata": {
        "colab": {
          "base_uri": "https://localhost:8080/"
        },
        "id": "QZuGJnszV5nl",
        "outputId": "eab83dfa-ac83-4841-e740-4ab43bc2ccd9"
      },
      "execution_count": null,
      "outputs": [
        {
          "output_type": "execute_result",
          "data": {
            "text/plain": [
              "[144288.0,\n",
              " 133594.25,\n",
              " 123321.0,\n",
              " 113468.25,\n",
              " 104036.0,\n",
              " 95024.25,\n",
              " 86433.0,\n",
              " 78262.25,\n",
              " 70512.0,\n",
              " 63182.25,\n",
              " 56273.0,\n",
              " 49784.25,\n",
              " 43716.0,\n",
              " 38068.25,\n",
              " 32841.0,\n",
              " 28034.25,\n",
              " 23648.0,\n",
              " 19682.25,\n",
              " 16137.0,\n",
              " 13012.25,\n",
              " 10308.0,\n",
              " 8024.25,\n",
              " 6161.0,\n",
              " 4718.25,\n",
              " 3696.0,\n",
              " 3094.25,\n",
              " 2913.0,\n",
              " 3152.25,\n",
              " 3812.0,\n",
              " 4892.25,\n",
              " 6393.0,\n",
              " 8314.25,\n",
              " 10656.0,\n",
              " 13418.25,\n",
              " 16601.0,\n",
              " 20204.25,\n",
              " 24228.0,\n",
              " 28672.25,\n",
              " 33537.0,\n",
              " 38822.25]"
            ]
          },
          "metadata": {},
          "execution_count": 53
        }
      ]
    },
    {
      "cell_type": "code",
      "source": [
        "plt.plot(wpl, mses, '.')\n",
        "plt.show()"
      ],
      "metadata": {
        "colab": {
          "base_uri": "https://localhost:8080/",
          "height": 265
        },
        "id": "jkdBCGkbXI7K",
        "outputId": "2f3f9853-67aa-4a8f-ea91-52fa00657753"
      },
      "execution_count": null,
      "outputs": [
        {
          "output_type": "display_data",
          "data": {
            "text/plain": [
              "<Figure size 432x288 with 1 Axes>"
            ],
            "image/png": "[encoded data removed]"
          },
          "metadata": {
            "needs_background": "light"
          }
        }
      ]
    },
    {
      "cell_type": "code",
      "source": [
        "mi = np.array(mses).argmin()\n",
        "plt.plot(wpl, mses, '.')\n",
        "plt.plot(wpl[mi], mses[mi], 'or')\n",
        "plt.show()"
      ],
      "metadata": {
        "colab": {
          "base_uri": "https://localhost:8080/",
          "height": 265
        },
        "id": "PDVPdkxeXagR",
        "outputId": "50f4caa6-a39a-4fd5-9f58-a7c2a3c546c1"
      },
      "execution_count": null,
      "outputs": [
        {
          "output_type": "display_data",
          "data": {
            "text/plain": [
              "<Figure size 432x288 with 1 Axes>"
            ],
            "image/png": "[encoded data removed]"
          },
          "metadata": {
            "needs_background": "light"
          }
        }
      ]
    },
    {
      "cell_type": "code",
      "source": [
        ""
      ],
      "metadata": {
        "id": "SRFW3RjJYs2D"
      },
      "execution_count": null,
      "outputs": []
    },
    {
      "cell_type": "markdown",
      "source": [
        "##pie\n",
        "matplotlib.pyplot.pie(x, explode=None, labels=None, colors=None, autopct=None, pctdistance=0.6, shadow=False, labeldistance=1.1, startangle=0, radius=1, counterclock=True, wedgeprops=None, textprops=None, center=(0, 0), frame=False, rotatelabels=False, *, normalize=True, data=None)[source]"
      ],
      "metadata": {
        "id": "PfiknMv7_-i2"
      }
    },
    {
      "cell_type": "code",
      "source": [
        "plt.pie([19,20,90,7])\n",
        "plt.show()"
      ],
      "metadata": {
        "colab": {
          "base_uri": "https://localhost:8080/",
          "height": 248
        },
        "id": "y8VVyDqaZ16u",
        "outputId": "a80489f3-5889-41fb-8cf1-c56c4a404308"
      },
      "execution_count": null,
      "outputs": [
        {
          "output_type": "display_data",
          "data": {
            "text/plain": [
              "<Figure size 432x288 with 1 Axes>"
            ],
            "image/png": "[encoded data removed]"
          },
          "metadata": {}
        }
      ]
    },
    {
      "cell_type": "code",
      "source": [
        "plt.pie([19,20,90,7], explode=[0,0,0,0.3]) #explode: 해당하는 위치의 값의 모양 분리\n",
        "plt.show()"
      ],
      "metadata": {
        "colab": {
          "base_uri": "https://localhost:8080/",
          "height": 248
        },
        "id": "_5CkwLPQ___J",
        "outputId": "010813ee-6b58-4357-a31a-b849e7a6946b"
      },
      "execution_count": null,
      "outputs": [
        {
          "output_type": "display_data",
          "data": {
            "text/plain": [
              "<Figure size 432x288 with 1 Axes>"
            ],
            "image/png": "[encoded data removed]"
          },
          "metadata": {}
        }
      ]
    },
    {
      "cell_type": "code",
      "source": [
        "plt.pie([19,20,90,7], explode=[0,0,0,0.3], labels=['a', 'b', 'c', 'd']) #labels: 이름 표시\n",
        "plt.show()"
      ],
      "metadata": {
        "colab": {
          "base_uri": "https://localhost:8080/",
          "height": 248
        },
        "id": "JRNjbJgqbKuB",
        "outputId": "e25035b3-71c6-4713-adb3-c0ceb1a19d4e"
      },
      "execution_count": null,
      "outputs": [
        {
          "output_type": "display_data",
          "data": {
            "text/plain": [
              "<Figure size 432x288 with 1 Axes>"
            ],
            "image/png": "[encoded data removed]"
          },
          "metadata": {}
        }
      ]
    },
    {
      "cell_type": "code",
      "source": [
        "plt.pie([19,20,90,7], colors=['yellow', 'lightgreen', 'pink', 'skyblue'], labels=['a', 'b', 'c', 'd']) #labels: 이름 표시\n",
        "plt.show()"
      ],
      "metadata": {
        "colab": {
          "base_uri": "https://localhost:8080/",
          "height": 248
        },
        "id": "2D4l97pDb3L6",
        "outputId": "e7e8aa1d-b4a0-44b3-a1b1-2da7c55579d9"
      },
      "execution_count": null,
      "outputs": [
        {
          "output_type": "display_data",
          "data": {
            "text/plain": [
              "<Figure size 432x288 with 1 Axes>"
            ],
            "image/png": "[encoded data removed]"
          },
          "metadata": {}
        }
      ]
    },
    {
      "cell_type": "code",
      "source": [
        "plt.pie([19,20,90,7], colors=['yellow', 'lightgreen', 'pink', 'skyblue'], labels=['a', 'b', 'c', 'd'], autopct='%.2f%%') #autopct: 퍼센트 표시\n",
        "plt.show()"
      ],
      "metadata": {
        "colab": {
          "base_uri": "https://localhost:8080/",
          "height": 248
        },
        "id": "tpCAfaOFb2qL",
        "outputId": "f0a44098-0a39-4921-c2d6-49b955450cc7"
      },
      "execution_count": null,
      "outputs": [
        {
          "output_type": "display_data",
          "data": {
            "text/plain": [
              "<Figure size 432x288 with 1 Axes>"
            ],
            "image/png": "[encoded data removed]"
          },
          "metadata": {}
        }
      ]
    },
    {
      "cell_type": "code",
      "source": [
        "plt.pie([19,20,90,7], colors=['yellow', 'lightgreen', 'pink', 'skyblue'], labels=['a', 'b', 'c', 'd'], autopct='%.2f%%', pctdistance=0.8) #pctdistance: 퍼센트 표시된 숫자 위치 옮기기\n",
        "plt.show()"
      ],
      "metadata": {
        "colab": {
          "base_uri": "https://localhost:8080/",
          "height": 248
        },
        "id": "-Ha8c7TGcueM",
        "outputId": "c2e01fb3-3d32-4de7-b206-463a930829d1"
      },
      "execution_count": null,
      "outputs": [
        {
          "output_type": "display_data",
          "data": {
            "text/plain": [
              "<Figure size 432x288 with 1 Axes>"
            ],
            "image/png": "[encoded data removed]"
          },
          "metadata": {}
        }
      ]
    },
    {
      "cell_type": "code",
      "source": [
        ""
      ],
      "metadata": {
        "id": "OqTjF9Hlb2fK"
      },
      "execution_count": null,
      "outputs": []
    },
    {
      "cell_type": "markdown",
      "source": [
        "##hist\n",
        "matplotlib.pyplot.hist(x, bins=None, range=None, density=False, weights=None, cumulative=False, bottom=None, histtype='bar', align='mid', orientation='vertical', rwidth=None, log=False, color=None, label=None, stacked=False, *, data=None, **kwargs)[source]"
      ],
      "metadata": {
        "id": "rp5bQf8cAAw1"
      }
    },
    {
      "cell_type": "code",
      "source": [
        "xs = [np.random.randint(1,7) for _ in range(1000)]\n",
        "plt.hist(xs, bins=[1,2,3,4,5,6,7])\n",
        "plt.show()"
      ],
      "metadata": {
        "colab": {
          "base_uri": "https://localhost:8080/",
          "height": 265
        },
        "id": "X1d-gqyXAB_r",
        "outputId": "894c9a6a-f34c-4b77-a84b-2d74feef28e9"
      },
      "execution_count": null,
      "outputs": [
        {
          "output_type": "display_data",
          "data": {
            "text/plain": [
              "<Figure size 432x288 with 1 Axes>"
            ],
            "image/png": "[encoded data removed]"
          },
          "metadata": {
            "needs_background": "light"
          }
        }
      ]
    },
    {
      "cell_type": "code",
      "source": [
        ""
      ],
      "metadata": {
        "id": "o8RFMlldjqZE"
      },
      "execution_count": null,
      "outputs": []
    },
    {
      "cell_type": "markdown",
      "source": [
        "## 타이타닉 분석 시각화"
      ],
      "metadata": {
        "id": "IlF1lb7fmG2O"
      }
    },
    {
      "cell_type": "code",
      "source": [
        "import pandas as pd"
      ],
      "metadata": {
        "id": "V12uuTTomYu1"
      },
      "execution_count": null,
      "outputs": []
    },
    {
      "cell_type": "code",
      "source": [
        "path = '/content/drive/MyDrive/data/train_titanic.csv'\n",
        "data = pd.read_csv(path)\n",
        "data"
      ],
      "metadata": {
        "colab": {
          "base_uri": "https://localhost:8080/",
          "height": 624
        },
        "id": "Dae5UQxomIPM",
        "outputId": "1835a718-b903-45ff-dd28-00ab2df013b2"
      },
      "execution_count": null,
      "outputs": [
        {
          "output_type": "execute_result",
          "data": {
            "text/plain": [
              "     PassengerId  Survived  Pclass  \\\n",
              "0              1         0       3   \n",
              "1              2         1       1   \n",
              "2              3         1       3   \n",
              "3              4         1       1   \n",
              "4              5         0       3   \n",
              "..           ...       ...     ...   \n",
              "886          887         0       2   \n",
              "887          888         1       1   \n",
              "888          889         0       3   \n",
              "889          890         1       1   \n",
              "890          891         0       3   \n",
              "\n",
              "                                                  Name     Sex   Age  SibSp  \\\n",
              "0                              Braund, Mr. Owen Harris    male  22.0      1   \n",
              "1    Cumings, Mrs. John Bradley (Florence Briggs Th...  female  38.0      1   \n",
              "2                               Heikkinen, Miss. Laina  female  26.0      0   \n",
              "3         Futrelle, Mrs. Jacques Heath (Lily May Peel)  female  35.0      1   \n",
              "4                             Allen, Mr. William Henry    male  35.0      0   \n",
              "..                                                 ...     ...   ...    ...   \n",
              "886                              Montvila, Rev. Juozas    male  27.0      0   \n",
              "887                       Graham, Miss. Margaret Edith  female  19.0      0   \n",
              "888           Johnston, Miss. Catherine Helen \"Carrie\"  female   NaN      1   \n",
              "889                              Behr, Mr. Karl Howell    male  26.0      0   \n",
              "890                                Dooley, Mr. Patrick    male  32.0      0   \n",
              "\n",
              "     Parch            Ticket     Fare Cabin Embarked  \n",
              "0        0         A/5 21171   7.2500   NaN        S  \n",
              "1        0          PC 17599  71.2833   C85        C  \n",
              "2        0  STON/O2. 3101282   7.9250   NaN        S  \n",
              "3        0            113803  53.1000  C123        S  \n",
              "4        0            373450   8.0500   NaN        S  \n",
              "..     ...               ...      ...   ...      ...  \n",
              "886      0            211536  13.0000   NaN        S  \n",
              "887      0            112053  30.0000   B42        S  \n",
              "888      2        W./C. 6607  23.4500   NaN        S  \n",
              "889      0            111369  30.0000  C148        C  \n",
              "890      0            370376   7.7500   NaN        Q  \n",
              "\n",
              "[891 rows x 12 columns]"
            ],
            "text/html": [
              "\n",
              "  <div id=\"df-c902f775-0654-4e66-a7b6-4fcd2823644c\">\n",
              "    <div class=\"colab-df-container\">\n",
              "      <div>\n",
              "<style scoped>\n",
              "    .dataframe tbody tr th:only-of-type {\n",
              "        vertical-align: middle;\n",
              "    }\n",
              "\n",
              "    .dataframe tbody tr th {\n",
              "        vertical-align: top;\n",
              "    }\n",
              "\n",
              "    .dataframe thead th {\n",
              "        text-align: right;\n",
              "    }\n",
              "</style>\n",
              "<table border=\"1\" class=\"dataframe\">\n",
              "  <thead>\n",
              "    <tr style=\"text-align: right;\">\n",
              "      <th></th>\n",
              "      <th>PassengerId</th>\n",
              "      <th>Survived</th>\n",
              "      <th>Pclass</th>\n",
              "      <th>Name</th>\n",
              "      <th>Sex</th>\n",
              "      <th>Age</th>\n",
              "      <th>SibSp</th>\n",
              "      <th>Parch</th>\n",
              "      <th>Ticket</th>\n",
              "      <th>Fare</th>\n",
              "      <th>Cabin</th>\n",
              "      <th>Embarked</th>\n",
              "    </tr>\n",
              "  </thead>\n",
              "  <tbody>\n",
              "    <tr>\n",
              "      <th>0</th>\n",
              "      <td>1</td>\n",
              "      <td>0</td>\n",
              "      <td>3</td>\n",
              "      <td>Braund, Mr. Owen Harris</td>\n",
              "      <td>male</td>\n",
              "      <td>22.0</td>\n",
              "      <td>1</td>\n",
              "      <td>0</td>\n",
              "      <td>A/5 21171</td>\n",
              "      <td>7.2500</td>\n",
              "      <td>NaN</td>\n",
              "      <td>S</td>\n",
              "    </tr>\n",
              "    <tr>\n",
              "      <th>1</th>\n",
              "      <td>2</td>\n",
              "      <td>1</td>\n",
              "      <td>1</td>\n",
              "      <td>Cumings, Mrs. John Bradley (Florence Briggs Th...</td>\n",
              "      <td>female</td>\n",
              "      <td>38.0</td>\n",
              "      <td>1</td>\n",
              "      <td>0</td>\n",
              "      <td>PC 17599</td>\n",
              "      <td>71.2833</td>\n",
              "      <td>C85</td>\n",
              "      <td>C</td>\n",
              "    </tr>\n",
              "    <tr>\n",
              "      <th>2</th>\n",
              "      <td>3</td>\n",
              "      <td>1</td>\n",
              "      <td>3</td>\n",
              "      <td>Heikkinen, Miss. Laina</td>\n",
              "      <td>female</td>\n",
              "      <td>26.0</td>\n",
              "      <td>0</td>\n",
              "      <td>0</td>\n",
              "      <td>STON/O2. 3101282</td>\n",
              "      <td>7.9250</td>\n",
              "      <td>NaN</td>\n",
              "      <td>S</td>\n",
              "    </tr>\n",
              "    <tr>\n",
              "      <th>3</th>\n",
              "      <td>4</td>\n",
              "      <td>1</td>\n",
              "      <td>1</td>\n",
              "      <td>Futrelle, Mrs. Jacques Heath (Lily May Peel)</td>\n",
              "      <td>female</td>\n",
              "      <td>35.0</td>\n",
              "      <td>1</td>\n",
              "      <td>0</td>\n",
              "      <td>113803</td>\n",
              "      <td>53.1000</td>\n",
              "      <td>C123</td>\n",
              "      <td>S</td>\n",
              "    </tr>\n",
              "    <tr>\n",
              "      <th>4</th>\n",
              "      <td>5</td>\n",
              "      <td>0</td>\n",
              "      <td>3</td>\n",
              "      <td>Allen, Mr. William Henry</td>\n",
              "      <td>male</td>\n",
              "      <td>35.0</td>\n",
              "      <td>0</td>\n",
              "      <td>0</td>\n",
              "      <td>373450</td>\n",
              "      <td>8.0500</td>\n",
              "      <td>NaN</td>\n",
              "      <td>S</td>\n",
              "    </tr>\n",
              "    <tr>\n",
              "      <th>...</th>\n",
              "      <td>...</td>\n",
              "      <td>...</td>\n",
              "      <td>...</td>\n",
              "      <td>...</td>\n",
              "      <td>...</td>\n",
              "      <td>...</td>\n",
              "      <td>...</td>\n",
              "      <td>...</td>\n",
              "      <td>...</td>\n",
              "      <td>...</td>\n",
              "      <td>...</td>\n",
              "      <td>...</td>\n",
              "    </tr>\n",
              "    <tr>\n",
              "      <th>886</th>\n",
              "      <td>887</td>\n",
              "      <td>0</td>\n",
              "      <td>2</td>\n",
              "      <td>Montvila, Rev. Juozas</td>\n",
              "      <td>male</td>\n",
              "      <td>27.0</td>\n",
              "      <td>0</td>\n",
              "      <td>0</td>\n",
              "      <td>211536</td>\n",
              "      <td>13.0000</td>\n",
              "      <td>NaN</td>\n",
              "      <td>S</td>\n",
              "    </tr>\n",
              "    <tr>\n",
              "      <th>887</th>\n",
              "      <td>888</td>\n",
              "      <td>1</td>\n",
              "      <td>1</td>\n",
              "      <td>Graham, Miss. Margaret Edith</td>\n",
              "      <td>female</td>\n",
              "      <td>19.0</td>\n",
              "      <td>0</td>\n",
              "      <td>0</td>\n",
              "      <td>112053</td>\n",
              "      <td>30.0000</td>\n",
              "      <td>B42</td>\n",
              "      <td>S</td>\n",
              "    </tr>\n",
              "    <tr>\n",
              "      <th>888</th>\n",
              "      <td>889</td>\n",
              "      <td>0</td>\n",
              "      <td>3</td>\n",
              "      <td>Johnston, Miss. Catherine Helen \"Carrie\"</td>\n",
              "      <td>female</td>\n",
              "      <td>NaN</td>\n",
              "      <td>1</td>\n",
              "      <td>2</td>\n",
              "      <td>W./C. 6607</td>\n",
              "      <td>23.4500</td>\n",
              "      <td>NaN</td>\n",
              "      <td>S</td>\n",
              "    </tr>\n",
              "    <tr>\n",
              "      <th>889</th>\n",
              "      <td>890</td>\n",
              "      <td>1</td>\n",
              "      <td>1</td>\n",
              "      <td>Behr, Mr. Karl Howell</td>\n",
              "      <td>male</td>\n",
              "      <td>26.0</td>\n",
              "      <td>0</td>\n",
              "      <td>0</td>\n",
              "      <td>111369</td>\n",
              "      <td>30.0000</td>\n",
              "      <td>C148</td>\n",
              "      <td>C</td>\n",
              "    </tr>\n",
              "    <tr>\n",
              "      <th>890</th>\n",
              "      <td>891</td>\n",
              "      <td>0</td>\n",
              "      <td>3</td>\n",
              "      <td>Dooley, Mr. Patrick</td>\n",
              "      <td>male</td>\n",
              "      <td>32.0</td>\n",
              "      <td>0</td>\n",
              "      <td>0</td>\n",
              "      <td>370376</td>\n",
              "      <td>7.7500</td>\n",
              "      <td>NaN</td>\n",
              "      <td>Q</td>\n",
              "    </tr>\n",
              "  </tbody>\n",
              "</table>\n",
              "<p>891 rows × 12 columns</p>\n",
              "</div>\n",
              "      <button class=\"colab-df-convert\" onclick=\"convertToInteractive('df-c902f775-0654-4e66-a7b6-4fcd2823644c')\"\n",
              "              title=\"Convert this dataframe to an interactive table.\"\n",
              "              style=\"display:none;\">\n",
              "        \n",
              "  <svg xmlns=\"http://www.w3.org/2000/svg\" height=\"24px\"viewBox=\"0 0 24 24\"\n",
              "       width=\"24px\">\n",
              "    <path d=\"M0 0h24v24H0V0z\" fill=\"none\"/>\n",
              "    <path d=\"M18.56 5.44l.94 2.06.94-2.06 2.06-.94-2.06-.94-.94-2.06-.94 2.06-2.06.94zm-11 1L8.5 8.5l.94-2.06 2.06-.94-2.06-.94L8.5 2.5l-.94 2.06-2.06.94zm10 10l.94 2.06.94-2.06 2.06-.94-2.06-.94-.94-2.06-.94 2.06-2.06.94z\"/><path d=\"M17.41 7.96l-1.37-1.37c-.4-.4-.92-.59-1.43-.59-.52 0-1.04.2-1.43.59L10.3 9.45l-7.72 7.72c-.78.78-.78 2.05 0 2.83L4 21.41c.39.39.9.59 1.41.59.51 0 1.02-.2 1.41-.59l7.78-7.78 2.81-2.81c.8-.78.8-2.07 0-2.86zM5.41 20L4 18.59l7.72-7.72 1.47 1.35L5.41 20z\"/>\n",
              "  </svg>\n",
              "      </button>\n",
              "      \n",
              "  <style>\n",
              "    .colab-df-container {\n",
              "      display:flex;\n",
              "      flex-wrap:wrap;\n",
              "      gap: 12px;\n",
              "    }\n",
              "\n",
              "    .colab-df-convert {\n",
              "      background-color: #E8F0FE;\n",
              "      border: none;\n",
              "      border-radius: 50%;\n",
              "      cursor: pointer;\n",
              "      display: none;\n",
              "      fill: #1967D2;\n",
              "      height: 32px;\n",
              "      padding: 0 0 0 0;\n",
              "      width: 32px;\n",
              "    }\n",
              "\n",
              "    .colab-df-convert:hover {\n",
              "      background-color: #E2EBFA;\n",
              "      box-shadow: 0px 1px 2px rgba(60, 64, 67, 0.3), 0px 1px 3px 1px rgba(60, 64, 67, 0.15);\n",
              "      fill: #174EA6;\n",
              "    }\n",
              "\n",
              "    [theme=dark] .colab-df-convert {\n",
              "      background-color: #3B4455;\n",
              "      fill: #D2E3FC;\n",
              "    }\n",
              "\n",
              "    [theme=dark] .colab-df-convert:hover {\n",
              "      background-color: #434B5C;\n",
              "      box-shadow: 0px 1px 3px 1px rgba(0, 0, 0, 0.15);\n",
              "      filter: drop-shadow(0px 1px 2px rgba(0, 0, 0, 0.3));\n",
              "      fill: #FFFFFF;\n",
              "    }\n",
              "  </style>\n",
              "\n",
              "      <script>\n",
              "        const buttonEl =\n",
              "          document.querySelector('#df-c902f775-0654-4e66-a7b6-4fcd2823644c button.colab-df-convert');\n",
              "        buttonEl.style.display =\n",
              "          google.colab.kernel.accessAllowed ? 'block' : 'none';\n",
              "\n",
              "        async function convertToInteractive(key) {\n",
              "          const element = document.querySelector('#df-c902f775-0654-4e66-a7b6-4fcd2823644c');\n",
              "          const dataTable =\n",
              "            await google.colab.kernel.invokeFunction('convertToInteractive',\n",
              "                                                     [key], {});\n",
              "          if (!dataTable) return;\n",
              "\n",
              "          const docLinkHtml = 'Like what you see? Visit the ' +\n",
              "            '<a target=\"_blank\" href=https://colab.research.google.com/notebooks/data_table.ipynb>data table notebook</a>'\n",
              "            + ' to learn more about interactive tables.';\n",
              "          element.innerHTML = '';\n",
              "          dataTable['output_type'] = 'display_data';\n",
              "          await google.colab.output.renderOutput(dataTable, element);\n",
              "          const docLink = document.createElement('div');\n",
              "          docLink.innerHTML = docLinkHtml;\n",
              "          element.appendChild(docLink);\n",
              "        }\n",
              "      </script>\n",
              "    </div>\n",
              "  </div>\n",
              "  "
            ]
          },
          "metadata": {},
          "execution_count": 77
        }
      ]
    },
    {
      "cell_type": "markdown",
      "source": [
        "### 1. 총 인원수, 생존자 수, 사망자 수는 몇명인가?"
      ],
      "metadata": {
        "id": "FN2rfIAYm5JA"
      }
    },
    {
      "cell_type": "code",
      "source": [
        "s_data = data['Survived']\n",
        "s_data.value_counts() #0: 사망자 수 / 1: 생존자 수"
      ],
      "metadata": {
        "colab": {
          "base_uri": "https://localhost:8080/"
        },
        "id": "VTpJk9tum8v6",
        "outputId": "93287d31-9fd2-4eca-e77d-61de24c10ef5"
      },
      "execution_count": null,
      "outputs": [
        {
          "output_type": "execute_result",
          "data": {
            "text/plain": [
              "0    549\n",
              "1    342\n",
              "Name: Survived, dtype: int64"
            ]
          },
          "metadata": {},
          "execution_count": 78
        }
      ]
    },
    {
      "cell_type": "code",
      "source": [
        "vs = s_data.value_counts()\n",
        "plt.pie(vs.values, labels=[f'dead {vs[0]}', f'alive {vs[1]}'], autopct='%.2f%%')\n",
        "plt.show()"
      ],
      "metadata": {
        "colab": {
          "base_uri": "https://localhost:8080/",
          "height": 248
        },
        "id": "WoOJltFYnE95",
        "outputId": "276e7b21-0e54-4196-f20d-e20ef8b875e7"
      },
      "execution_count": null,
      "outputs": [
        {
          "output_type": "display_data",
          "data": {
            "text/plain": [
              "<Figure size 432x288 with 1 Axes>"
            ],
            "image/png": "[encoded data removed]"
          },
          "metadata": {}
        }
      ]
    },
    {
      "cell_type": "code",
      "source": [
        ""
      ],
      "metadata": {
        "id": "d0NmJYJvncbP"
      },
      "execution_count": null,
      "outputs": []
    },
    {
      "cell_type": "markdown",
      "source": [
        "### 2. 결측 데이터가 있는 컬럼들을 조사하시오."
      ],
      "metadata": {
        "id": "3J4E3GWDoKIF"
      }
    },
    {
      "cell_type": "code",
      "source": [
        "data.info() #891이 전체 데이터 갯수이므로 891이 아닌것은 결측데이터가 있는 데이터"
      ],
      "metadata": {
        "colab": {
          "base_uri": "https://localhost:8080/"
        },
        "id": "bYTXAX2-oOIB",
        "outputId": "b7d2b799-65a3-43dc-8695-599bab572aa8"
      },
      "execution_count": null,
      "outputs": [
        {
          "output_type": "stream",
          "name": "stdout",
          "text": [
            "<class 'pandas.core.frame.DataFrame'>\n",
            "RangeIndex: 891 entries, 0 to 890\n",
            "Data columns (total 12 columns):\n",
            " #   Column       Non-Null Count  Dtype  \n",
            "---  ------       --------------  -----  \n",
            " 0   PassengerId  891 non-null    int64  \n",
            " 1   Survived     891 non-null    int64  \n",
            " 2   Pclass       891 non-null    int64  \n",
            " 3   Name         891 non-null    object \n",
            " 4   Sex          891 non-null    object \n",
            " 5   Age          714 non-null    float64\n",
            " 6   SibSp        891 non-null    int64  \n",
            " 7   Parch        891 non-null    int64  \n",
            " 8   Ticket       891 non-null    object \n",
            " 9   Fare         891 non-null    float64\n",
            " 10  Cabin        204 non-null    object \n",
            " 11  Embarked     889 non-null    object \n",
            "dtypes: float64(2), int64(5), object(5)\n",
            "memory usage: 83.7+ KB\n"
          ]
        }
      ]
    },
    {
      "cell_type": "code",
      "source": [
        ""
      ],
      "metadata": {
        "id": "9sHwRgaEoZok"
      },
      "execution_count": null,
      "outputs": []
    },
    {
      "cell_type": "markdown",
      "source": [
        "### 3. Pclass의 종류에 따른 분포를 나타내시오.\n",
        "\n",
        "### - Pclass 종류에 따른 생존 유무를 비교하시오."
      ],
      "metadata": {
        "id": "4RBr4hJ2otdc"
      }
    },
    {
      "cell_type": "code",
      "source": [
        "p_data = data['Pclass']\n",
        "p_data.value_counts().sort_index() #인덱스 순서대로 정렬"
      ],
      "metadata": {
        "colab": {
          "base_uri": "https://localhost:8080/"
        },
        "id": "f6eHyxuso17M",
        "outputId": "4ac29713-41e2-47f4-ea66-2e8abc8544f6"
      },
      "execution_count": null,
      "outputs": [
        {
          "output_type": "execute_result",
          "data": {
            "text/plain": [
              "1    216\n",
              "2    184\n",
              "3    491\n",
              "Name: Pclass, dtype: int64"
            ]
          },
          "metadata": {},
          "execution_count": 90
        }
      ]
    },
    {
      "cell_type": "code",
      "source": [
        "p_data = data['Pclass']\n",
        "pvc = p_data.value_counts().sort_index()\n",
        "plt.pie(pvc.values, labels=pvc.index, autopct='%.2f%%')\n",
        "plt.title('Pclass')\n",
        "plt.show()"
      ],
      "metadata": {
        "colab": {
          "base_uri": "https://localhost:8080/",
          "height": 282
        },
        "id": "i8g5UIT2pJFC",
        "outputId": "2552ed9f-a8a4-4b26-e6ff-c314074f9df3"
      },
      "execution_count": null,
      "outputs": [
        {
          "output_type": "execute_result",
          "data": {
            "text/plain": [
              "<function matplotlib.pyplot.show>"
            ]
          },
          "metadata": {},
          "execution_count": 91
        },
        {
          "output_type": "display_data",
          "data": {
            "text/plain": [
              "<Figure size 432x288 with 1 Axes>"
            ],
            "image/png": "[encoded data removed]"
          },
          "metadata": {}
        }
      ]
    },
    {
      "cell_type": "code",
      "source": [
        "pvc = p_data.value_counts().sort_index() #인덱스 순서대로 정렬\n",
        "#print(len(p_data.unique()))\n",
        "pc_alive_arr = np.zeros(3)\n",
        "pc_dead_arr = np.zeros(3)\n",
        "for index in range(len(p_data)):\n",
        "    pi = p_data[index]-1 #클래스 번호 -1을 배열의 인덱스로 사용\n",
        "    if s_data[index] == 0:\n",
        "        pc_dead_arr[pi] += 1\n",
        "    else:\n",
        "        pc_alive_arr[pi] += 1\n",
        "pc_alive_arr, pc_dead_arr"
      ],
      "metadata": {
        "colab": {
          "base_uri": "https://localhost:8080/"
        },
        "id": "3eFPSfZVp0I5",
        "outputId": "9a9cd638-7b91-433d-ba0a-872191c24e4f"
      },
      "execution_count": null,
      "outputs": [
        {
          "output_type": "execute_result",
          "data": {
            "text/plain": [
              "(array([136.,  87., 119.]), array([ 80.,  97., 372.]))"
            ]
          },
          "metadata": {},
          "execution_count": 95
        }
      ]
    },
    {
      "cell_type": "code",
      "source": [
        "plt.bar(['1', '2', '3'], pc_alive_arr, label='alive')\n",
        "plt.bar(['1', '2', '3'], pc_dead_arr, bottom=pc_alive_arr, label='dead') #bottom: 밑에 산사람 비율을 출력한뒤 죽은 사람 비율을 출력해라\n",
        "for i in range(3):\n",
        "    plt.annotate(str(pc_alive_arr[i]), (i-0.12, 40))\n",
        "    plt.annotate(str(pc_dead_arr[i]), (i-0.12, pc_alive_arr[i]+40))\n",
        "plt.legend()\n",
        "plt.show()"
      ],
      "metadata": {
        "colab": {
          "base_uri": "https://localhost:8080/",
          "height": 265
        },
        "id": "2GFkdjtFrF7P",
        "outputId": "7c14c92a-621a-409f-b96d-6c9c97036641"
      },
      "execution_count": null,
      "outputs": [
        {
          "output_type": "display_data",
          "data": {
            "text/plain": [
              "<Figure size 432x288 with 1 Axes>"
            ],
            "image/png": "[encoded data removed]"
          },
          "metadata": {
            "needs_background": "light"
          }
        }
      ]
    },
    {
      "cell_type": "code",
      "source": [
        ""
      ],
      "metadata": {
        "id": "vgvXn9K3rdc6"
      },
      "execution_count": null,
      "outputs": []
    },
    {
      "cell_type": "markdown",
      "source": [
        "### 4. Name에 부르는 호칭(Mr, Mrs, Miss, Master, Dr, ETC)에 따라 분포와 생존 비율을 분석하시오."
      ],
      "metadata": {
        "id": "NkHrKxSmw2BM"
      }
    },
    {
      "cell_type": "code",
      "source": [
        "n_data = data['Name']\n",
        "name_values = ['Mr', 'Mrs', 'Miss', 'Master', 'Dr', 'ETC']\n",
        "def get_name_index(name):\n",
        "    _, s = name.split(',')\n",
        "    sarr = s.split('.')\n",
        "    lfrag = sarr[0].replace(' ','')\n",
        "    for index in range(5):\n",
        "        if lfrag == name_values[index]:\n",
        "            return index\n",
        "    return 5\n",
        "for n in n_data:\n",
        "    print(get_name_index(n), n) "
      ],
      "metadata": {
        "id": "MNG23HVUxCkY"
      },
      "execution_count": null,
      "outputs": []
    },
    {
      "cell_type": "code",
      "source": [
        "pn_alive_arr = np.zeros(6)\n",
        "pn_dead_arr = np.zeros(6)\n",
        "cnts = np.zeros(6)\n",
        "for index in range(len(n_data)):\n",
        "    ni = get_name_index(n_data[index]) #호칭 인덱스를 구함\n",
        "    if s_data[index] == 0:\n",
        "        pn_dead_arr[ni] += 1\n",
        "    else:\n",
        "        pn_alive_arr[ni] += 1\n",
        "    cnts[ni] += 1\n",
        "pn_alive_arr, pn_dead_arr, cnts #'Mr', 'Mrs', 'Miss', 'Master', 'Dr', 'ETC' 이 순서로 산 사람 / 죽은 사람 / 합계"
      ],
      "metadata": {
        "colab": {
          "base_uri": "https://localhost:8080/"
        },
        "id": "uWoTMBMryJvm",
        "outputId": "651abcf9-2d13-4b41-bf03-07954f8fadad"
      },
      "execution_count": null,
      "outputs": [
        {
          "output_type": "execute_result",
          "data": {
            "text/plain": [
              "(array([ 81.,  99., 127.,  23.,   3.,   9.]),\n",
              " array([436.,  26.,  55.,  17.,   4.,  11.]),\n",
              " array([517., 125., 182.,  40.,   7.,  20.]))"
            ]
          },
          "metadata": {},
          "execution_count": 115
        }
      ]
    },
    {
      "cell_type": "code",
      "source": [
        "plt.pie(cnts, labels=name_values, autopct='%.2f%%')\n",
        "plt.show()"
      ],
      "metadata": {
        "colab": {
          "base_uri": "https://localhost:8080/",
          "height": 248
        },
        "id": "F-WBiGF8y8VC",
        "outputId": "fe42d0ff-d46b-40a1-96c2-c9fcd67a173d"
      },
      "execution_count": null,
      "outputs": [
        {
          "output_type": "display_data",
          "data": {
            "text/plain": [
              "<Figure size 432x288 with 1 Axes>"
            ],
            "image/png": "[encoded data removed]"
          },
          "metadata": {}
        }
      ]
    },
    {
      "cell_type": "code",
      "source": [
        "plt.figure(figsize=(10, 10))\n",
        "plt.bar(name_values, pn_alive_arr, label='alive')\n",
        "plt.bar(name_values, pn_dead_arr, bottom=pn_alive_arr, label='dead')\n",
        "for i in range(6):\n",
        "    plt.annotate(str(pn_alive_arr[i]), (i-0.2, 50))\n",
        "    if pn_alive_arr[i] < 40:\n",
        "        plt.annotate(str(pn_dead_arr[i]), (i-0.2, 100))\n",
        "    else:\n",
        "        plt.annotate(str(pn_dead_arr[i]), (i-0.2, pn_alive_arr[i]+80))\n",
        "plt.legend()\n",
        "plt.show()"
      ],
      "metadata": {
        "colab": {
          "base_uri": "https://localhost:8080/",
          "height": 592
        },
        "id": "P8bLMAEX0Gmp",
        "outputId": "c2e4e8c8-9f60-48da-a75a-3a188b367813"
      },
      "execution_count": null,
      "outputs": [
        {
          "output_type": "display_data",
          "data": {
            "text/plain": [
              "<Figure size 720x720 with 1 Axes>"
            ],
            "image/png": "[encoded data removed]"
          },
          "metadata": {
            "needs_background": "light"
          }
        }
      ]
    },
    {
      "cell_type": "code",
      "source": [
        "plt.figure(figsize=(10, 10))\n",
        "plt.bar(name_values, pn_alive_arr, label='alive')\n",
        "plt.bar(name_values, pn_dead_arr, bottom=pn_alive_arr, label='dead')\n",
        "for i in range(6):\n",
        "    if pn_alive_arr[i] < 20:\n",
        "        plt.annotate(str(pn_alive_arr[i]), (i-0.2, 30))\n",
        "    else:\n",
        "        plt.annotate(str(pn_alive_arr[i]), (i-0.2, 10))\n",
        "    \n",
        "    if pn_dead_arr[i] < 20:\n",
        "        plt.annotate(str(pn_dead_arr[i]), (i-0.2, 60))\n",
        "    else:\n",
        "        plt.annotate(str(pn_dead_arr[i]), (i-0.2, pn_alive_arr[i]+50))\n",
        "plt.legend()\n",
        "plt.show()"
      ],
      "metadata": {
        "colab": {
          "base_uri": "https://localhost:8080/",
          "height": 592
        },
        "id": "VBqbIdkz0WH3",
        "outputId": "1223294f-714c-4526-c982-8fc2e742f869"
      },
      "execution_count": null,
      "outputs": [
        {
          "output_type": "display_data",
          "data": {
            "text/plain": [
              "<Figure size 720x720 with 1 Axes>"
            ],
            "image/png": "[encoded data removed]"
          },
          "metadata": {
            "needs_background": "light"
          }
        }
      ]
    },
    {
      "cell_type": "code",
      "source": [
        ""
      ],
      "metadata": {
        "id": "4Levw3Qy4KsB"
      },
      "execution_count": null,
      "outputs": []
    }
  ]
}