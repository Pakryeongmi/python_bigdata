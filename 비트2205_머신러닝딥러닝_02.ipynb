{
  "nbformat": 4,
  "nbformat_minor": 0,
  "metadata": {
    "colab": {
      "name": "비트2205_머신러닝딥러닝_02.ipynb",
      "provenance": [],
      "mount_file_id": "14zqhNkSKhk9h1UGkjZNRZsn8jjT2wxT9",
      "authorship_tag": "ABX9TyNffUXl6jKtFLs8ysa3WT7R",
      "include_colab_link": true
    },
    "kernelspec": {
      "name": "python3",
      "display_name": "Python 3"
    },
    "language_info": {
      "name": "python"
    }
  },
  "cells": [
    {
      "cell_type": "markdown",
      "metadata": {
        "id": "view-in-github",
        "colab_type": "text"
      },
      "source": [
        "<a href=\"https://colab.research.google.com/github/Pakryeongmi/python_bigdata/blob/main/%EB%B9%84%ED%8A%B82205_%EB%A8%B8%EC%8B%A0%EB%9F%AC%EB%8B%9D%EB%94%A5%EB%9F%AC%EB%8B%9D_02.ipynb\" target=\"_parent\"><img src=\"https://colab.research.google.com/assets/colab-badge.svg\" alt=\"Open In Colab\"/></a>"
      ]
    },
    {
      "cell_type": "markdown",
      "source": [
        "## 선형 회귀"
      ],
      "metadata": {
        "id": "RVUAIZhTwNgC"
      }
    },
    {
      "cell_type": "markdown",
      "source": [
        "KNN을 활용하기 꺼려지는 상황\n",
        "\n"
      ],
      "metadata": {
        "id": "RmRT0r6FwdjG"
      }
    },
    {
      "cell_type": "code",
      "source": [
        "import pandas as pd\n",
        "import numpy as np"
      ],
      "metadata": {
        "id": "BzRyHfhaw2yS"
      },
      "execution_count": null,
      "outputs": []
    },
    {
      "cell_type": "code",
      "source": [
        "path = '/content/drive/MyDrive/data/Fish.csv'\n",
        "df = pd.read_csv(path)\n",
        "df"
      ],
      "metadata": {
        "colab": {
          "base_uri": "https://localhost:8080/",
          "height": 424
        },
        "id": "UNd9ec3awPGJ",
        "outputId": "87fb252d-baab-4528-967c-7b9d61288e02"
      },
      "execution_count": null,
      "outputs": [
        {
          "output_type": "execute_result",
          "data": {
            "text/plain": [
              "    Species  Weight  Length1  Length2  Length3   Height   Width\n",
              "0     Bream   242.0     23.2     25.4     30.0  11.5200  4.0200\n",
              "1     Bream   290.0     24.0     26.3     31.2  12.4800  4.3056\n",
              "2     Bream   340.0     23.9     26.5     31.1  12.3778  4.6961\n",
              "3     Bream   363.0     26.3     29.0     33.5  12.7300  4.4555\n",
              "4     Bream   430.0     26.5     29.0     34.0  12.4440  5.1340\n",
              "..      ...     ...      ...      ...      ...      ...     ...\n",
              "154   Smelt    12.2     11.5     12.2     13.4   2.0904  1.3936\n",
              "155   Smelt    13.4     11.7     12.4     13.5   2.4300  1.2690\n",
              "156   Smelt    12.2     12.1     13.0     13.8   2.2770  1.2558\n",
              "157   Smelt    19.7     13.2     14.3     15.2   2.8728  2.0672\n",
              "158   Smelt    19.9     13.8     15.0     16.2   2.9322  1.8792\n",
              "\n",
              "[159 rows x 7 columns]"
            ],
            "text/html": [
              "\n",
              "  <div id=\"df-45c05e58-fdf5-4e8a-8c34-0463aa8fcb4e\">\n",
              "    <div class=\"colab-df-container\">\n",
              "      <div>\n",
              "<style scoped>\n",
              "    .dataframe tbody tr th:only-of-type {\n",
              "        vertical-align: middle;\n",
              "    }\n",
              "\n",
              "    .dataframe tbody tr th {\n",
              "        vertical-align: top;\n",
              "    }\n",
              "\n",
              "    .dataframe thead th {\n",
              "        text-align: right;\n",
              "    }\n",
              "</style>\n",
              "<table border=\"1\" class=\"dataframe\">\n",
              "  <thead>\n",
              "    <tr style=\"text-align: right;\">\n",
              "      <th></th>\n",
              "      <th>Species</th>\n",
              "      <th>Weight</th>\n",
              "      <th>Length1</th>\n",
              "      <th>Length2</th>\n",
              "      <th>Length3</th>\n",
              "      <th>Height</th>\n",
              "      <th>Width</th>\n",
              "    </tr>\n",
              "  </thead>\n",
              "  <tbody>\n",
              "    <tr>\n",
              "      <th>0</th>\n",
              "      <td>Bream</td>\n",
              "      <td>242.0</td>\n",
              "      <td>23.2</td>\n",
              "      <td>25.4</td>\n",
              "      <td>30.0</td>\n",
              "      <td>11.5200</td>\n",
              "      <td>4.0200</td>\n",
              "    </tr>\n",
              "    <tr>\n",
              "      <th>1</th>\n",
              "      <td>Bream</td>\n",
              "      <td>290.0</td>\n",
              "      <td>24.0</td>\n",
              "      <td>26.3</td>\n",
              "      <td>31.2</td>\n",
              "      <td>12.4800</td>\n",
              "      <td>4.3056</td>\n",
              "    </tr>\n",
              "    <tr>\n",
              "      <th>2</th>\n",
              "      <td>Bream</td>\n",
              "      <td>340.0</td>\n",
              "      <td>23.9</td>\n",
              "      <td>26.5</td>\n",
              "      <td>31.1</td>\n",
              "      <td>12.3778</td>\n",
              "      <td>4.6961</td>\n",
              "    </tr>\n",
              "    <tr>\n",
              "      <th>3</th>\n",
              "      <td>Bream</td>\n",
              "      <td>363.0</td>\n",
              "      <td>26.3</td>\n",
              "      <td>29.0</td>\n",
              "      <td>33.5</td>\n",
              "      <td>12.7300</td>\n",
              "      <td>4.4555</td>\n",
              "    </tr>\n",
              "    <tr>\n",
              "      <th>4</th>\n",
              "      <td>Bream</td>\n",
              "      <td>430.0</td>\n",
              "      <td>26.5</td>\n",
              "      <td>29.0</td>\n",
              "      <td>34.0</td>\n",
              "      <td>12.4440</td>\n",
              "      <td>5.1340</td>\n",
              "    </tr>\n",
              "    <tr>\n",
              "      <th>...</th>\n",
              "      <td>...</td>\n",
              "      <td>...</td>\n",
              "      <td>...</td>\n",
              "      <td>...</td>\n",
              "      <td>...</td>\n",
              "      <td>...</td>\n",
              "      <td>...</td>\n",
              "    </tr>\n",
              "    <tr>\n",
              "      <th>154</th>\n",
              "      <td>Smelt</td>\n",
              "      <td>12.2</td>\n",
              "      <td>11.5</td>\n",
              "      <td>12.2</td>\n",
              "      <td>13.4</td>\n",
              "      <td>2.0904</td>\n",
              "      <td>1.3936</td>\n",
              "    </tr>\n",
              "    <tr>\n",
              "      <th>155</th>\n",
              "      <td>Smelt</td>\n",
              "      <td>13.4</td>\n",
              "      <td>11.7</td>\n",
              "      <td>12.4</td>\n",
              "      <td>13.5</td>\n",
              "      <td>2.4300</td>\n",
              "      <td>1.2690</td>\n",
              "    </tr>\n",
              "    <tr>\n",
              "      <th>156</th>\n",
              "      <td>Smelt</td>\n",
              "      <td>12.2</td>\n",
              "      <td>12.1</td>\n",
              "      <td>13.0</td>\n",
              "      <td>13.8</td>\n",
              "      <td>2.2770</td>\n",
              "      <td>1.2558</td>\n",
              "    </tr>\n",
              "    <tr>\n",
              "      <th>157</th>\n",
              "      <td>Smelt</td>\n",
              "      <td>19.7</td>\n",
              "      <td>13.2</td>\n",
              "      <td>14.3</td>\n",
              "      <td>15.2</td>\n",
              "      <td>2.8728</td>\n",
              "      <td>2.0672</td>\n",
              "    </tr>\n",
              "    <tr>\n",
              "      <th>158</th>\n",
              "      <td>Smelt</td>\n",
              "      <td>19.9</td>\n",
              "      <td>13.8</td>\n",
              "      <td>15.0</td>\n",
              "      <td>16.2</td>\n",
              "      <td>2.9322</td>\n",
              "      <td>1.8792</td>\n",
              "    </tr>\n",
              "  </tbody>\n",
              "</table>\n",
              "<p>159 rows × 7 columns</p>\n",
              "</div>\n",
              "      <button class=\"colab-df-convert\" onclick=\"convertToInteractive('df-45c05e58-fdf5-4e8a-8c34-0463aa8fcb4e')\"\n",
              "              title=\"Convert this dataframe to an interactive table.\"\n",
              "              style=\"display:none;\">\n",
              "        \n",
              "  <svg xmlns=\"http://www.w3.org/2000/svg\" height=\"24px\"viewBox=\"0 0 24 24\"\n",
              "       width=\"24px\">\n",
              "    <path d=\"M0 0h24v24H0V0z\" fill=\"none\"/>\n",
              "    <path d=\"M18.56 5.44l.94 2.06.94-2.06 2.06-.94-2.06-.94-.94-2.06-.94 2.06-2.06.94zm-11 1L8.5 8.5l.94-2.06 2.06-.94-2.06-.94L8.5 2.5l-.94 2.06-2.06.94zm10 10l.94 2.06.94-2.06 2.06-.94-2.06-.94-.94-2.06-.94 2.06-2.06.94z\"/><path d=\"M17.41 7.96l-1.37-1.37c-.4-.4-.92-.59-1.43-.59-.52 0-1.04.2-1.43.59L10.3 9.45l-7.72 7.72c-.78.78-.78 2.05 0 2.83L4 21.41c.39.39.9.59 1.41.59.51 0 1.02-.2 1.41-.59l7.78-7.78 2.81-2.81c.8-.78.8-2.07 0-2.86zM5.41 20L4 18.59l7.72-7.72 1.47 1.35L5.41 20z\"/>\n",
              "  </svg>\n",
              "      </button>\n",
              "      \n",
              "  <style>\n",
              "    .colab-df-container {\n",
              "      display:flex;\n",
              "      flex-wrap:wrap;\n",
              "      gap: 12px;\n",
              "    }\n",
              "\n",
              "    .colab-df-convert {\n",
              "      background-color: #E8F0FE;\n",
              "      border: none;\n",
              "      border-radius: 50%;\n",
              "      cursor: pointer;\n",
              "      display: none;\n",
              "      fill: #1967D2;\n",
              "      height: 32px;\n",
              "      padding: 0 0 0 0;\n",
              "      width: 32px;\n",
              "    }\n",
              "\n",
              "    .colab-df-convert:hover {\n",
              "      background-color: #E2EBFA;\n",
              "      box-shadow: 0px 1px 2px rgba(60, 64, 67, 0.3), 0px 1px 3px 1px rgba(60, 64, 67, 0.15);\n",
              "      fill: #174EA6;\n",
              "    }\n",
              "\n",
              "    [theme=dark] .colab-df-convert {\n",
              "      background-color: #3B4455;\n",
              "      fill: #D2E3FC;\n",
              "    }\n",
              "\n",
              "    [theme=dark] .colab-df-convert:hover {\n",
              "      background-color: #434B5C;\n",
              "      box-shadow: 0px 1px 3px 1px rgba(0, 0, 0, 0.15);\n",
              "      filter: drop-shadow(0px 1px 2px rgba(0, 0, 0, 0.3));\n",
              "      fill: #FFFFFF;\n",
              "    }\n",
              "  </style>\n",
              "\n",
              "      <script>\n",
              "        const buttonEl =\n",
              "          document.querySelector('#df-45c05e58-fdf5-4e8a-8c34-0463aa8fcb4e button.colab-df-convert');\n",
              "        buttonEl.style.display =\n",
              "          google.colab.kernel.accessAllowed ? 'block' : 'none';\n",
              "\n",
              "        async function convertToInteractive(key) {\n",
              "          const element = document.querySelector('#df-45c05e58-fdf5-4e8a-8c34-0463aa8fcb4e');\n",
              "          const dataTable =\n",
              "            await google.colab.kernel.invokeFunction('convertToInteractive',\n",
              "                                                     [key], {});\n",
              "          if (!dataTable) return;\n",
              "\n",
              "          const docLinkHtml = 'Like what you see? Visit the ' +\n",
              "            '<a target=\"_blank\" href=https://colab.research.google.com/notebooks/data_table.ipynb>data table notebook</a>'\n",
              "            + ' to learn more about interactive tables.';\n",
              "          element.innerHTML = '';\n",
              "          dataTable['output_type'] = 'display_data';\n",
              "          await google.colab.output.renderOutput(dataTable, element);\n",
              "          const docLink = document.createElement('div');\n",
              "          docLink.innerHTML = docLinkHtml;\n",
              "          element.appendChild(docLink);\n",
              "        }\n",
              "      </script>\n",
              "    </div>\n",
              "  </div>\n",
              "  "
            ]
          },
          "metadata": {},
          "execution_count": 2
        }
      ]
    },
    {
      "cell_type": "code",
      "source": [
        "perch_df = df[df['Species'] == 'Perch']\n",
        "perch_df"
      ],
      "metadata": {
        "colab": {
          "base_uri": "https://localhost:8080/",
          "height": 1000
        },
        "id": "wuw8otCBw9rk",
        "outputId": "871c0682-06b5-4bee-888f-575cec74db33"
      },
      "execution_count": null,
      "outputs": [
        {
          "output_type": "execute_result",
          "data": {
            "text/plain": [
              "    Species  Weight  Length1  Length2  Length3   Height   Width\n",
              "72    Perch     5.9      7.5      8.4      8.8   2.1120  1.4080\n",
              "73    Perch    32.0     12.5     13.7     14.7   3.5280  1.9992\n",
              "74    Perch    40.0     13.8     15.0     16.0   3.8240  2.4320\n",
              "75    Perch    51.5     15.0     16.2     17.2   4.5924  2.6316\n",
              "76    Perch    70.0     15.7     17.4     18.5   4.5880  2.9415\n",
              "77    Perch   100.0     16.2     18.0     19.2   5.2224  3.3216\n",
              "78    Perch    78.0     16.8     18.7     19.4   5.1992  3.1234\n",
              "79    Perch    80.0     17.2     19.0     20.2   5.6358  3.0502\n",
              "80    Perch    85.0     17.8     19.6     20.8   5.1376  3.0368\n",
              "81    Perch    85.0     18.2     20.0     21.0   5.0820  2.7720\n",
              "82    Perch   110.0     19.0     21.0     22.5   5.6925  3.5550\n",
              "83    Perch   115.0     19.0     21.0     22.5   5.9175  3.3075\n",
              "84    Perch   125.0     19.0     21.0     22.5   5.6925  3.6675\n",
              "85    Perch   130.0     19.3     21.3     22.8   6.3840  3.5340\n",
              "86    Perch   120.0     20.0     22.0     23.5   6.1100  3.4075\n",
              "87    Perch   120.0     20.0     22.0     23.5   5.6400  3.5250\n",
              "88    Perch   130.0     20.0     22.0     23.5   6.1100  3.5250\n",
              "89    Perch   135.0     20.0     22.0     23.5   5.8750  3.5250\n",
              "90    Perch   110.0     20.0     22.0     23.5   5.5225  3.9950\n",
              "91    Perch   130.0     20.5     22.5     24.0   5.8560  3.6240\n",
              "92    Perch   150.0     20.5     22.5     24.0   6.7920  3.6240\n",
              "93    Perch   145.0     20.7     22.7     24.2   5.9532  3.6300\n",
              "94    Perch   150.0     21.0     23.0     24.5   5.2185  3.6260\n",
              "95    Perch   170.0     21.5     23.5     25.0   6.2750  3.7250\n",
              "96    Perch   225.0     22.0     24.0     25.5   7.2930  3.7230\n",
              "97    Perch   145.0     22.0     24.0     25.5   6.3750  3.8250\n",
              "98    Perch   188.0     22.6     24.6     26.2   6.7334  4.1658\n",
              "99    Perch   180.0     23.0     25.0     26.5   6.4395  3.6835\n",
              "100   Perch   197.0     23.5     25.6     27.0   6.5610  4.2390\n",
              "101   Perch   218.0     25.0     26.5     28.0   7.1680  4.1440\n",
              "102   Perch   300.0     25.2     27.3     28.7   8.3230  5.1373\n",
              "103   Perch   260.0     25.4     27.5     28.9   7.1672  4.3350\n",
              "104   Perch   265.0     25.4     27.5     28.9   7.0516  4.3350\n",
              "105   Perch   250.0     25.4     27.5     28.9   7.2828  4.5662\n",
              "106   Perch   250.0     25.9     28.0     29.4   7.8204  4.2042\n",
              "107   Perch   300.0     26.9     28.7     30.1   7.5852  4.6354\n",
              "108   Perch   320.0     27.8     30.0     31.6   7.6156  4.7716\n",
              "109   Perch   514.0     30.5     32.8     34.0  10.0300  6.0180\n",
              "110   Perch   556.0     32.0     34.5     36.5  10.2565  6.3875\n",
              "111   Perch   840.0     32.5     35.0     37.3  11.4884  7.7957\n",
              "112   Perch   685.0     34.0     36.5     39.0  10.8810  6.8640\n",
              "113   Perch   700.0     34.0     36.0     38.3  10.6091  6.7408\n",
              "114   Perch   700.0     34.5     37.0     39.4  10.8350  6.2646\n",
              "115   Perch   690.0     34.6     37.0     39.3  10.5717  6.3666\n",
              "116   Perch   900.0     36.5     39.0     41.4  11.1366  7.4934\n",
              "117   Perch   650.0     36.5     39.0     41.4  11.1366  6.0030\n",
              "118   Perch   820.0     36.6     39.0     41.3  12.4313  7.3514\n",
              "119   Perch   850.0     36.9     40.0     42.3  11.9286  7.1064\n",
              "120   Perch   900.0     37.0     40.0     42.5  11.7300  7.2250\n",
              "121   Perch  1015.0     37.0     40.0     42.4  12.3808  7.4624\n",
              "122   Perch   820.0     37.1     40.0     42.5  11.1350  6.6300\n",
              "123   Perch  1100.0     39.0     42.0     44.6  12.8002  6.8684\n",
              "124   Perch  1000.0     39.8     43.0     45.2  11.9328  7.2772\n",
              "125   Perch  1100.0     40.1     43.0     45.5  12.5125  7.4165\n",
              "126   Perch  1000.0     40.2     43.5     46.0  12.6040  8.1420\n",
              "127   Perch  1000.0     41.1     44.0     46.6  12.4888  7.5958"
            ],
            "text/html": [
              "\n",
              "  <div id=\"df-4c3b9062-eb77-4e34-ab6d-7720eaa04b88\">\n",
              "    <div class=\"colab-df-container\">\n",
              "      <div>\n",
              "<style scoped>\n",
              "    .dataframe tbody tr th:only-of-type {\n",
              "        vertical-align: middle;\n",
              "    }\n",
              "\n",
              "    .dataframe tbody tr th {\n",
              "        vertical-align: top;\n",
              "    }\n",
              "\n",
              "    .dataframe thead th {\n",
              "        text-align: right;\n",
              "    }\n",
              "</style>\n",
              "<table border=\"1\" class=\"dataframe\">\n",
              "  <thead>\n",
              "    <tr style=\"text-align: right;\">\n",
              "      <th></th>\n",
              "      <th>Species</th>\n",
              "      <th>Weight</th>\n",
              "      <th>Length1</th>\n",
              "      <th>Length2</th>\n",
              "      <th>Length3</th>\n",
              "      <th>Height</th>\n",
              "      <th>Width</th>\n",
              "    </tr>\n",
              "  </thead>\n",
              "  <tbody>\n",
              "    <tr>\n",
              "      <th>72</th>\n",
              "      <td>Perch</td>\n",
              "      <td>5.9</td>\n",
              "      <td>7.5</td>\n",
              "      <td>8.4</td>\n",
              "      <td>8.8</td>\n",
              "      <td>2.1120</td>\n",
              "      <td>1.4080</td>\n",
              "    </tr>\n",
              "    <tr>\n",
              "      <th>73</th>\n",
              "      <td>Perch</td>\n",
              "      <td>32.0</td>\n",
              "      <td>12.5</td>\n",
              "      <td>13.7</td>\n",
              "      <td>14.7</td>\n",
              "      <td>3.5280</td>\n",
              "      <td>1.9992</td>\n",
              "    </tr>\n",
              "    <tr>\n",
              "      <th>74</th>\n",
              "      <td>Perch</td>\n",
              "      <td>40.0</td>\n",
              "      <td>13.8</td>\n",
              "      <td>15.0</td>\n",
              "      <td>16.0</td>\n",
              "      <td>3.8240</td>\n",
              "      <td>2.4320</td>\n",
              "    </tr>\n",
              "    <tr>\n",
              "      <th>75</th>\n",
              "      <td>Perch</td>\n",
              "      <td>51.5</td>\n",
              "      <td>15.0</td>\n",
              "      <td>16.2</td>\n",
              "      <td>17.2</td>\n",
              "      <td>4.5924</td>\n",
              "      <td>2.6316</td>\n",
              "    </tr>\n",
              "    <tr>\n",
              "      <th>76</th>\n",
              "      <td>Perch</td>\n",
              "      <td>70.0</td>\n",
              "      <td>15.7</td>\n",
              "      <td>17.4</td>\n",
              "      <td>18.5</td>\n",
              "      <td>4.5880</td>\n",
              "      <td>2.9415</td>\n",
              "    </tr>\n",
              "    <tr>\n",
              "      <th>77</th>\n",
              "      <td>Perch</td>\n",
              "      <td>100.0</td>\n",
              "      <td>16.2</td>\n",
              "      <td>18.0</td>\n",
              "      <td>19.2</td>\n",
              "      <td>5.2224</td>\n",
              "      <td>3.3216</td>\n",
              "    </tr>\n",
              "    <tr>\n",
              "      <th>78</th>\n",
              "      <td>Perch</td>\n",
              "      <td>78.0</td>\n",
              "      <td>16.8</td>\n",
              "      <td>18.7</td>\n",
              "      <td>19.4</td>\n",
              "      <td>5.1992</td>\n",
              "      <td>3.1234</td>\n",
              "    </tr>\n",
              "    <tr>\n",
              "      <th>79</th>\n",
              "      <td>Perch</td>\n",
              "      <td>80.0</td>\n",
              "      <td>17.2</td>\n",
              "      <td>19.0</td>\n",
              "      <td>20.2</td>\n",
              "      <td>5.6358</td>\n",
              "      <td>3.0502</td>\n",
              "    </tr>\n",
              "    <tr>\n",
              "      <th>80</th>\n",
              "      <td>Perch</td>\n",
              "      <td>85.0</td>\n",
              "      <td>17.8</td>\n",
              "      <td>19.6</td>\n",
              "      <td>20.8</td>\n",
              "      <td>5.1376</td>\n",
              "      <td>3.0368</td>\n",
              "    </tr>\n",
              "    <tr>\n",
              "      <th>81</th>\n",
              "      <td>Perch</td>\n",
              "      <td>85.0</td>\n",
              "      <td>18.2</td>\n",
              "      <td>20.0</td>\n",
              "      <td>21.0</td>\n",
              "      <td>5.0820</td>\n",
              "      <td>2.7720</td>\n",
              "    </tr>\n",
              "    <tr>\n",
              "      <th>82</th>\n",
              "      <td>Perch</td>\n",
              "      <td>110.0</td>\n",
              "      <td>19.0</td>\n",
              "      <td>21.0</td>\n",
              "      <td>22.5</td>\n",
              "      <td>5.6925</td>\n",
              "      <td>3.5550</td>\n",
              "    </tr>\n",
              "    <tr>\n",
              "      <th>83</th>\n",
              "      <td>Perch</td>\n",
              "      <td>115.0</td>\n",
              "      <td>19.0</td>\n",
              "      <td>21.0</td>\n",
              "      <td>22.5</td>\n",
              "      <td>5.9175</td>\n",
              "      <td>3.3075</td>\n",
              "    </tr>\n",
              "    <tr>\n",
              "      <th>84</th>\n",
              "      <td>Perch</td>\n",
              "      <td>125.0</td>\n",
              "      <td>19.0</td>\n",
              "      <td>21.0</td>\n",
              "      <td>22.5</td>\n",
              "      <td>5.6925</td>\n",
              "      <td>3.6675</td>\n",
              "    </tr>\n",
              "    <tr>\n",
              "      <th>85</th>\n",
              "      <td>Perch</td>\n",
              "      <td>130.0</td>\n",
              "      <td>19.3</td>\n",
              "      <td>21.3</td>\n",
              "      <td>22.8</td>\n",
              "      <td>6.3840</td>\n",
              "      <td>3.5340</td>\n",
              "    </tr>\n",
              "    <tr>\n",
              "      <th>86</th>\n",
              "      <td>Perch</td>\n",
              "      <td>120.0</td>\n",
              "      <td>20.0</td>\n",
              "      <td>22.0</td>\n",
              "      <td>23.5</td>\n",
              "      <td>6.1100</td>\n",
              "      <td>3.4075</td>\n",
              "    </tr>\n",
              "    <tr>\n",
              "      <th>87</th>\n",
              "      <td>Perch</td>\n",
              "      <td>120.0</td>\n",
              "      <td>20.0</td>\n",
              "      <td>22.0</td>\n",
              "      <td>23.5</td>\n",
              "      <td>5.6400</td>\n",
              "      <td>3.5250</td>\n",
              "    </tr>\n",
              "    <tr>\n",
              "      <th>88</th>\n",
              "      <td>Perch</td>\n",
              "      <td>130.0</td>\n",
              "      <td>20.0</td>\n",
              "      <td>22.0</td>\n",
              "      <td>23.5</td>\n",
              "      <td>6.1100</td>\n",
              "      <td>3.5250</td>\n",
              "    </tr>\n",
              "    <tr>\n",
              "      <th>89</th>\n",
              "      <td>Perch</td>\n",
              "      <td>135.0</td>\n",
              "      <td>20.0</td>\n",
              "      <td>22.0</td>\n",
              "      <td>23.5</td>\n",
              "      <td>5.8750</td>\n",
              "      <td>3.5250</td>\n",
              "    </tr>\n",
              "    <tr>\n",
              "      <th>90</th>\n",
              "      <td>Perch</td>\n",
              "      <td>110.0</td>\n",
              "      <td>20.0</td>\n",
              "      <td>22.0</td>\n",
              "      <td>23.5</td>\n",
              "      <td>5.5225</td>\n",
              "      <td>3.9950</td>\n",
              "    </tr>\n",
              "    <tr>\n",
              "      <th>91</th>\n",
              "      <td>Perch</td>\n",
              "      <td>130.0</td>\n",
              "      <td>20.5</td>\n",
              "      <td>22.5</td>\n",
              "      <td>24.0</td>\n",
              "      <td>5.8560</td>\n",
              "      <td>3.6240</td>\n",
              "    </tr>\n",
              "    <tr>\n",
              "      <th>92</th>\n",
              "      <td>Perch</td>\n",
              "      <td>150.0</td>\n",
              "      <td>20.5</td>\n",
              "      <td>22.5</td>\n",
              "      <td>24.0</td>\n",
              "      <td>6.7920</td>\n",
              "      <td>3.6240</td>\n",
              "    </tr>\n",
              "    <tr>\n",
              "      <th>93</th>\n",
              "      <td>Perch</td>\n",
              "      <td>145.0</td>\n",
              "      <td>20.7</td>\n",
              "      <td>22.7</td>\n",
              "      <td>24.2</td>\n",
              "      <td>5.9532</td>\n",
              "      <td>3.6300</td>\n",
              "    </tr>\n",
              "    <tr>\n",
              "      <th>94</th>\n",
              "      <td>Perch</td>\n",
              "      <td>150.0</td>\n",
              "      <td>21.0</td>\n",
              "      <td>23.0</td>\n",
              "      <td>24.5</td>\n",
              "      <td>5.2185</td>\n",
              "      <td>3.6260</td>\n",
              "    </tr>\n",
              "    <tr>\n",
              "      <th>95</th>\n",
              "      <td>Perch</td>\n",
              "      <td>170.0</td>\n",
              "      <td>21.5</td>\n",
              "      <td>23.5</td>\n",
              "      <td>25.0</td>\n",
              "      <td>6.2750</td>\n",
              "      <td>3.7250</td>\n",
              "    </tr>\n",
              "    <tr>\n",
              "      <th>96</th>\n",
              "      <td>Perch</td>\n",
              "      <td>225.0</td>\n",
              "      <td>22.0</td>\n",
              "      <td>24.0</td>\n",
              "      <td>25.5</td>\n",
              "      <td>7.2930</td>\n",
              "      <td>3.7230</td>\n",
              "    </tr>\n",
              "    <tr>\n",
              "      <th>97</th>\n",
              "      <td>Perch</td>\n",
              "      <td>145.0</td>\n",
              "      <td>22.0</td>\n",
              "      <td>24.0</td>\n",
              "      <td>25.5</td>\n",
              "      <td>6.3750</td>\n",
              "      <td>3.8250</td>\n",
              "    </tr>\n",
              "    <tr>\n",
              "      <th>98</th>\n",
              "      <td>Perch</td>\n",
              "      <td>188.0</td>\n",
              "      <td>22.6</td>\n",
              "      <td>24.6</td>\n",
              "      <td>26.2</td>\n",
              "      <td>6.7334</td>\n",
              "      <td>4.1658</td>\n",
              "    </tr>\n",
              "    <tr>\n",
              "      <th>99</th>\n",
              "      <td>Perch</td>\n",
              "      <td>180.0</td>\n",
              "      <td>23.0</td>\n",
              "      <td>25.0</td>\n",
              "      <td>26.5</td>\n",
              "      <td>6.4395</td>\n",
              "      <td>3.6835</td>\n",
              "    </tr>\n",
              "    <tr>\n",
              "      <th>100</th>\n",
              "      <td>Perch</td>\n",
              "      <td>197.0</td>\n",
              "      <td>23.5</td>\n",
              "      <td>25.6</td>\n",
              "      <td>27.0</td>\n",
              "      <td>6.5610</td>\n",
              "      <td>4.2390</td>\n",
              "    </tr>\n",
              "    <tr>\n",
              "      <th>101</th>\n",
              "      <td>Perch</td>\n",
              "      <td>218.0</td>\n",
              "      <td>25.0</td>\n",
              "      <td>26.5</td>\n",
              "      <td>28.0</td>\n",
              "      <td>7.1680</td>\n",
              "      <td>4.1440</td>\n",
              "    </tr>\n",
              "    <tr>\n",
              "      <th>102</th>\n",
              "      <td>Perch</td>\n",
              "      <td>300.0</td>\n",
              "      <td>25.2</td>\n",
              "      <td>27.3</td>\n",
              "      <td>28.7</td>\n",
              "      <td>8.3230</td>\n",
              "      <td>5.1373</td>\n",
              "    </tr>\n",
              "    <tr>\n",
              "      <th>103</th>\n",
              "      <td>Perch</td>\n",
              "      <td>260.0</td>\n",
              "      <td>25.4</td>\n",
              "      <td>27.5</td>\n",
              "      <td>28.9</td>\n",
              "      <td>7.1672</td>\n",
              "      <td>4.3350</td>\n",
              "    </tr>\n",
              "    <tr>\n",
              "      <th>104</th>\n",
              "      <td>Perch</td>\n",
              "      <td>265.0</td>\n",
              "      <td>25.4</td>\n",
              "      <td>27.5</td>\n",
              "      <td>28.9</td>\n",
              "      <td>7.0516</td>\n",
              "      <td>4.3350</td>\n",
              "    </tr>\n",
              "    <tr>\n",
              "      <th>105</th>\n",
              "      <td>Perch</td>\n",
              "      <td>250.0</td>\n",
              "      <td>25.4</td>\n",
              "      <td>27.5</td>\n",
              "      <td>28.9</td>\n",
              "      <td>7.2828</td>\n",
              "      <td>4.5662</td>\n",
              "    </tr>\n",
              "    <tr>\n",
              "      <th>106</th>\n",
              "      <td>Perch</td>\n",
              "      <td>250.0</td>\n",
              "      <td>25.9</td>\n",
              "      <td>28.0</td>\n",
              "      <td>29.4</td>\n",
              "      <td>7.8204</td>\n",
              "      <td>4.2042</td>\n",
              "    </tr>\n",
              "    <tr>\n",
              "      <th>107</th>\n",
              "      <td>Perch</td>\n",
              "      <td>300.0</td>\n",
              "      <td>26.9</td>\n",
              "      <td>28.7</td>\n",
              "      <td>30.1</td>\n",
              "      <td>7.5852</td>\n",
              "      <td>4.6354</td>\n",
              "    </tr>\n",
              "    <tr>\n",
              "      <th>108</th>\n",
              "      <td>Perch</td>\n",
              "      <td>320.0</td>\n",
              "      <td>27.8</td>\n",
              "      <td>30.0</td>\n",
              "      <td>31.6</td>\n",
              "      <td>7.6156</td>\n",
              "      <td>4.7716</td>\n",
              "    </tr>\n",
              "    <tr>\n",
              "      <th>109</th>\n",
              "      <td>Perch</td>\n",
              "      <td>514.0</td>\n",
              "      <td>30.5</td>\n",
              "      <td>32.8</td>\n",
              "      <td>34.0</td>\n",
              "      <td>10.0300</td>\n",
              "      <td>6.0180</td>\n",
              "    </tr>\n",
              "    <tr>\n",
              "      <th>110</th>\n",
              "      <td>Perch</td>\n",
              "      <td>556.0</td>\n",
              "      <td>32.0</td>\n",
              "      <td>34.5</td>\n",
              "      <td>36.5</td>\n",
              "      <td>10.2565</td>\n",
              "      <td>6.3875</td>\n",
              "    </tr>\n",
              "    <tr>\n",
              "      <th>111</th>\n",
              "      <td>Perch</td>\n",
              "      <td>840.0</td>\n",
              "      <td>32.5</td>\n",
              "      <td>35.0</td>\n",
              "      <td>37.3</td>\n",
              "      <td>11.4884</td>\n",
              "      <td>7.7957</td>\n",
              "    </tr>\n",
              "    <tr>\n",
              "      <th>112</th>\n",
              "      <td>Perch</td>\n",
              "      <td>685.0</td>\n",
              "      <td>34.0</td>\n",
              "      <td>36.5</td>\n",
              "      <td>39.0</td>\n",
              "      <td>10.8810</td>\n",
              "      <td>6.8640</td>\n",
              "    </tr>\n",
              "    <tr>\n",
              "      <th>113</th>\n",
              "      <td>Perch</td>\n",
              "      <td>700.0</td>\n",
              "      <td>34.0</td>\n",
              "      <td>36.0</td>\n",
              "      <td>38.3</td>\n",
              "      <td>10.6091</td>\n",
              "      <td>6.7408</td>\n",
              "    </tr>\n",
              "    <tr>\n",
              "      <th>114</th>\n",
              "      <td>Perch</td>\n",
              "      <td>700.0</td>\n",
              "      <td>34.5</td>\n",
              "      <td>37.0</td>\n",
              "      <td>39.4</td>\n",
              "      <td>10.8350</td>\n",
              "      <td>6.2646</td>\n",
              "    </tr>\n",
              "    <tr>\n",
              "      <th>115</th>\n",
              "      <td>Perch</td>\n",
              "      <td>690.0</td>\n",
              "      <td>34.6</td>\n",
              "      <td>37.0</td>\n",
              "      <td>39.3</td>\n",
              "      <td>10.5717</td>\n",
              "      <td>6.3666</td>\n",
              "    </tr>\n",
              "    <tr>\n",
              "      <th>116</th>\n",
              "      <td>Perch</td>\n",
              "      <td>900.0</td>\n",
              "      <td>36.5</td>\n",
              "      <td>39.0</td>\n",
              "      <td>41.4</td>\n",
              "      <td>11.1366</td>\n",
              "      <td>7.4934</td>\n",
              "    </tr>\n",
              "    <tr>\n",
              "      <th>117</th>\n",
              "      <td>Perch</td>\n",
              "      <td>650.0</td>\n",
              "      <td>36.5</td>\n",
              "      <td>39.0</td>\n",
              "      <td>41.4</td>\n",
              "      <td>11.1366</td>\n",
              "      <td>6.0030</td>\n",
              "    </tr>\n",
              "    <tr>\n",
              "      <th>118</th>\n",
              "      <td>Perch</td>\n",
              "      <td>820.0</td>\n",
              "      <td>36.6</td>\n",
              "      <td>39.0</td>\n",
              "      <td>41.3</td>\n",
              "      <td>12.4313</td>\n",
              "      <td>7.3514</td>\n",
              "    </tr>\n",
              "    <tr>\n",
              "      <th>119</th>\n",
              "      <td>Perch</td>\n",
              "      <td>850.0</td>\n",
              "      <td>36.9</td>\n",
              "      <td>40.0</td>\n",
              "      <td>42.3</td>\n",
              "      <td>11.9286</td>\n",
              "      <td>7.1064</td>\n",
              "    </tr>\n",
              "    <tr>\n",
              "      <th>120</th>\n",
              "      <td>Perch</td>\n",
              "      <td>900.0</td>\n",
              "      <td>37.0</td>\n",
              "      <td>40.0</td>\n",
              "      <td>42.5</td>\n",
              "      <td>11.7300</td>\n",
              "      <td>7.2250</td>\n",
              "    </tr>\n",
              "    <tr>\n",
              "      <th>121</th>\n",
              "      <td>Perch</td>\n",
              "      <td>1015.0</td>\n",
              "      <td>37.0</td>\n",
              "      <td>40.0</td>\n",
              "      <td>42.4</td>\n",
              "      <td>12.3808</td>\n",
              "      <td>7.4624</td>\n",
              "    </tr>\n",
              "    <tr>\n",
              "      <th>122</th>\n",
              "      <td>Perch</td>\n",
              "      <td>820.0</td>\n",
              "      <td>37.1</td>\n",
              "      <td>40.0</td>\n",
              "      <td>42.5</td>\n",
              "      <td>11.1350</td>\n",
              "      <td>6.6300</td>\n",
              "    </tr>\n",
              "    <tr>\n",
              "      <th>123</th>\n",
              "      <td>Perch</td>\n",
              "      <td>1100.0</td>\n",
              "      <td>39.0</td>\n",
              "      <td>42.0</td>\n",
              "      <td>44.6</td>\n",
              "      <td>12.8002</td>\n",
              "      <td>6.8684</td>\n",
              "    </tr>\n",
              "    <tr>\n",
              "      <th>124</th>\n",
              "      <td>Perch</td>\n",
              "      <td>1000.0</td>\n",
              "      <td>39.8</td>\n",
              "      <td>43.0</td>\n",
              "      <td>45.2</td>\n",
              "      <td>11.9328</td>\n",
              "      <td>7.2772</td>\n",
              "    </tr>\n",
              "    <tr>\n",
              "      <th>125</th>\n",
              "      <td>Perch</td>\n",
              "      <td>1100.0</td>\n",
              "      <td>40.1</td>\n",
              "      <td>43.0</td>\n",
              "      <td>45.5</td>\n",
              "      <td>12.5125</td>\n",
              "      <td>7.4165</td>\n",
              "    </tr>\n",
              "    <tr>\n",
              "      <th>126</th>\n",
              "      <td>Perch</td>\n",
              "      <td>1000.0</td>\n",
              "      <td>40.2</td>\n",
              "      <td>43.5</td>\n",
              "      <td>46.0</td>\n",
              "      <td>12.6040</td>\n",
              "      <td>8.1420</td>\n",
              "    </tr>\n",
              "    <tr>\n",
              "      <th>127</th>\n",
              "      <td>Perch</td>\n",
              "      <td>1000.0</td>\n",
              "      <td>41.1</td>\n",
              "      <td>44.0</td>\n",
              "      <td>46.6</td>\n",
              "      <td>12.4888</td>\n",
              "      <td>7.5958</td>\n",
              "    </tr>\n",
              "  </tbody>\n",
              "</table>\n",
              "</div>\n",
              "      <button class=\"colab-df-convert\" onclick=\"convertToInteractive('df-4c3b9062-eb77-4e34-ab6d-7720eaa04b88')\"\n",
              "              title=\"Convert this dataframe to an interactive table.\"\n",
              "              style=\"display:none;\">\n",
              "        \n",
              "  <svg xmlns=\"http://www.w3.org/2000/svg\" height=\"24px\"viewBox=\"0 0 24 24\"\n",
              "       width=\"24px\">\n",
              "    <path d=\"M0 0h24v24H0V0z\" fill=\"none\"/>\n",
              "    <path d=\"M18.56 5.44l.94 2.06.94-2.06 2.06-.94-2.06-.94-.94-2.06-.94 2.06-2.06.94zm-11 1L8.5 8.5l.94-2.06 2.06-.94-2.06-.94L8.5 2.5l-.94 2.06-2.06.94zm10 10l.94 2.06.94-2.06 2.06-.94-2.06-.94-.94-2.06-.94 2.06-2.06.94z\"/><path d=\"M17.41 7.96l-1.37-1.37c-.4-.4-.92-.59-1.43-.59-.52 0-1.04.2-1.43.59L10.3 9.45l-7.72 7.72c-.78.78-.78 2.05 0 2.83L4 21.41c.39.39.9.59 1.41.59.51 0 1.02-.2 1.41-.59l7.78-7.78 2.81-2.81c.8-.78.8-2.07 0-2.86zM5.41 20L4 18.59l7.72-7.72 1.47 1.35L5.41 20z\"/>\n",
              "  </svg>\n",
              "      </button>\n",
              "      \n",
              "  <style>\n",
              "    .colab-df-container {\n",
              "      display:flex;\n",
              "      flex-wrap:wrap;\n",
              "      gap: 12px;\n",
              "    }\n",
              "\n",
              "    .colab-df-convert {\n",
              "      background-color: #E8F0FE;\n",
              "      border: none;\n",
              "      border-radius: 50%;\n",
              "      cursor: pointer;\n",
              "      display: none;\n",
              "      fill: #1967D2;\n",
              "      height: 32px;\n",
              "      padding: 0 0 0 0;\n",
              "      width: 32px;\n",
              "    }\n",
              "\n",
              "    .colab-df-convert:hover {\n",
              "      background-color: #E2EBFA;\n",
              "      box-shadow: 0px 1px 2px rgba(60, 64, 67, 0.3), 0px 1px 3px 1px rgba(60, 64, 67, 0.15);\n",
              "      fill: #174EA6;\n",
              "    }\n",
              "\n",
              "    [theme=dark] .colab-df-convert {\n",
              "      background-color: #3B4455;\n",
              "      fill: #D2E3FC;\n",
              "    }\n",
              "\n",
              "    [theme=dark] .colab-df-convert:hover {\n",
              "      background-color: #434B5C;\n",
              "      box-shadow: 0px 1px 3px 1px rgba(0, 0, 0, 0.15);\n",
              "      filter: drop-shadow(0px 1px 2px rgba(0, 0, 0, 0.3));\n",
              "      fill: #FFFFFF;\n",
              "    }\n",
              "  </style>\n",
              "\n",
              "      <script>\n",
              "        const buttonEl =\n",
              "          document.querySelector('#df-4c3b9062-eb77-4e34-ab6d-7720eaa04b88 button.colab-df-convert');\n",
              "        buttonEl.style.display =\n",
              "          google.colab.kernel.accessAllowed ? 'block' : 'none';\n",
              "\n",
              "        async function convertToInteractive(key) {\n",
              "          const element = document.querySelector('#df-4c3b9062-eb77-4e34-ab6d-7720eaa04b88');\n",
              "          const dataTable =\n",
              "            await google.colab.kernel.invokeFunction('convertToInteractive',\n",
              "                                                     [key], {});\n",
              "          if (!dataTable) return;\n",
              "\n",
              "          const docLinkHtml = 'Like what you see? Visit the ' +\n",
              "            '<a target=\"_blank\" href=https://colab.research.google.com/notebooks/data_table.ipynb>data table notebook</a>'\n",
              "            + ' to learn more about interactive tables.';\n",
              "          element.innerHTML = '';\n",
              "          dataTable['output_type'] = 'display_data';\n",
              "          await google.colab.output.renderOutput(dataTable, element);\n",
              "          const docLink = document.createElement('div');\n",
              "          docLink.innerHTML = docLinkHtml;\n",
              "          element.appendChild(docLink);\n",
              "        }\n",
              "      </script>\n",
              "    </div>\n",
              "  </div>\n",
              "  "
            ]
          },
          "metadata": {},
          "execution_count": 3
        }
      ]
    },
    {
      "cell_type": "code",
      "source": [
        "perch_length = perch_df['Length2'].to_numpy()\n",
        "perch_weight = perch_df['Weight'].to_numpy()\n",
        "print(perch_length)\n",
        "print(perch_weight)"
      ],
      "metadata": {
        "colab": {
          "base_uri": "https://localhost:8080/"
        },
        "id": "7v0x-12WxEK7",
        "outputId": "1eacc5aa-b2ae-48f5-fbda-121eb95a4bb2"
      },
      "execution_count": null,
      "outputs": [
        {
          "output_type": "stream",
          "name": "stdout",
          "text": [
            "[ 8.4 13.7 15.  16.2 17.4 18.  18.7 19.  19.6 20.  21.  21.  21.  21.3\n",
            " 22.  22.  22.  22.  22.  22.5 22.5 22.7 23.  23.5 24.  24.  24.6 25.\n",
            " 25.6 26.5 27.3 27.5 27.5 27.5 28.  28.7 30.  32.8 34.5 35.  36.5 36.\n",
            " 37.  37.  39.  39.  39.  40.  40.  40.  40.  42.  43.  43.  43.5 44. ]\n",
            "[   5.9   32.    40.    51.5   70.   100.    78.    80.    85.    85.\n",
            "  110.   115.   125.   130.   120.   120.   130.   135.   110.   130.\n",
            "  150.   145.   150.   170.   225.   145.   188.   180.   197.   218.\n",
            "  300.   260.   265.   250.   250.   300.   320.   514.   556.   840.\n",
            "  685.   700.   700.   690.   900.   650.   820.   850.   900.  1015.\n",
            "  820.  1100.  1000.  1100.  1000.  1000. ]\n"
          ]
        }
      ]
    },
    {
      "cell_type": "code",
      "source": [
        ""
      ],
      "metadata": {
        "id": "727itml6xbKh"
      },
      "execution_count": null,
      "outputs": []
    },
    {
      "cell_type": "markdown",
      "source": [
        "#### 길이를 알고 있을 때 무게를 예측해 보자."
      ],
      "metadata": {
        "id": "0nv-zDeXxpxr"
      }
    },
    {
      "cell_type": "code",
      "source": [
        "from sklearn.model_selection import train_test_split"
      ],
      "metadata": {
        "id": "YMTc6Ph_xta4"
      },
      "execution_count": null,
      "outputs": []
    },
    {
      "cell_type": "code",
      "source": [
        "train_input, test_input, train_target, test_target = train_test_split(perch_length, perch_weight)"
      ],
      "metadata": {
        "id": "35iDjzWZxzZG"
      },
      "execution_count": null,
      "outputs": []
    },
    {
      "cell_type": "code",
      "source": [
        "train_input.shape"
      ],
      "metadata": {
        "colab": {
          "base_uri": "https://localhost:8080/"
        },
        "id": "qG0tRFPUx_tM",
        "outputId": "02994ccd-13b1-4af1-c5f8-08f6d9775a77"
      },
      "execution_count": null,
      "outputs": [
        {
          "output_type": "execute_result",
          "data": {
            "text/plain": [
              "(42,)"
            ]
          },
          "metadata": {},
          "execution_count": 7
        }
      ]
    },
    {
      "cell_type": "code",
      "source": [
        "train_input = train_input.reshape(-1, 1) #독립 변수 목록은 2차원 배열 구조로 변경\n",
        "test_input = test_input.reshape(-1, 1)\n",
        "train_input.shape"
      ],
      "metadata": {
        "colab": {
          "base_uri": "https://localhost:8080/"
        },
        "id": "DnUNlqliyCzc",
        "outputId": "63706046-80fc-45e1-fa27-629d39edd7ac"
      },
      "execution_count": null,
      "outputs": [
        {
          "output_type": "execute_result",
          "data": {
            "text/plain": [
              "(42, 1)"
            ]
          },
          "metadata": {},
          "execution_count": 8
        }
      ]
    },
    {
      "cell_type": "code",
      "source": [
        "from sklearn.neighbors import KNeighborsRegressor"
      ],
      "metadata": {
        "id": "jcZ69jUUySc-"
      },
      "execution_count": null,
      "outputs": []
    },
    {
      "cell_type": "code",
      "source": [
        "kn = KNeighborsRegressor(n_neighbors=3) #모델 생성\n",
        "kn.fit(train_input, train_target) #공부\n",
        "pval = kn.predict([[50]]) #예측\n",
        "print('예측값:', pval)"
      ],
      "metadata": {
        "colab": {
          "base_uri": "https://localhost:8080/"
        },
        "id": "8IS9Ubhjyd0m",
        "outputId": "b8cf068c-05bf-49be-f52b-626a07fd7873"
      },
      "execution_count": null,
      "outputs": [
        {
          "output_type": "stream",
          "name": "stdout",
          "text": [
            "예측값: [1033.33333333]\n"
          ]
        }
      ]
    },
    {
      "cell_type": "code",
      "source": [
        "import matplotlib.pyplot as plt"
      ],
      "metadata": {
        "id": "OWP9e6n-yoFL"
      },
      "execution_count": null,
      "outputs": []
    },
    {
      "cell_type": "code",
      "source": [
        "print(kn.kneighbors([[50]]))"
      ],
      "metadata": {
        "colab": {
          "base_uri": "https://localhost:8080/"
        },
        "id": "iNlvrMulzAxn",
        "outputId": "141bf3f4-ee5c-48da-9368-2544179d4aca"
      },
      "execution_count": null,
      "outputs": [
        {
          "output_type": "stream",
          "name": "stdout",
          "text": [
            "(array([[6. , 6.5, 7. ]]), array([[19, 10,  3]]))\n"
          ]
        }
      ]
    },
    {
      "cell_type": "code",
      "source": [
        "distances, indexes = kn.kneighbors([[50]])\n",
        "plt.scatter(train_input[indexes], train_target[indexes], label='neighbors', marker='D', color='r')\n",
        "plt.scatter(50, 1033, label='test data', marker='^', color='g')\n",
        "plt.scatter(train_input, train_target, label='train data', color='b', marker='.')\n",
        "plt.xlabel('Weight')\n",
        "plt.ylabel('Length')\n",
        "plt.legend()\n",
        "plt.show()"
      ],
      "metadata": {
        "colab": {
          "base_uri": "https://localhost:8080/",
          "height": 279
        },
        "id": "h7KrH_-5zWIK",
        "outputId": "442942b8-3a4b-42b5-8496-7fc2e0c99ecb"
      },
      "execution_count": null,
      "outputs": [
        {
          "output_type": "display_data",
          "data": {
            "text/plain": [
              "<Figure size 432x288 with 1 Axes>"
            ],
            "image/png": "[encoded data removed]"
          },
          "metadata": {
            "needs_background": "light"
          }
        }
      ]
    },
    {
      "cell_type": "code",
      "source": [
        "pval = kn.predict([[100]])\n",
        "print(pval)"
      ],
      "metadata": {
        "colab": {
          "base_uri": "https://localhost:8080/"
        },
        "id": "JAPva3fs0Xxl",
        "outputId": "05253bb4-d4cd-429a-b641-07b03e84cd77"
      },
      "execution_count": null,
      "outputs": [
        {
          "output_type": "stream",
          "name": "stdout",
          "text": [
            "[1033.33333333]\n"
          ]
        }
      ]
    },
    {
      "cell_type": "code",
      "source": [
        "distances, indexes = kn.kneighbors([[50]])\n",
        "plt.scatter(train_input[indexes], train_target[indexes], label='neighbors', marker='D', color='r')\n",
        "plt.scatter(100, 1033, label='test data', marker='^', color='g')\n",
        "plt.scatter(train_input, train_target, label='train data', color='b', marker='.')\n",
        "plt.xlabel('Length')\n",
        "plt.ylabel('Weight')\n",
        "plt.legend()\n",
        "plt.show()"
      ],
      "metadata": {
        "colab": {
          "base_uri": "https://localhost:8080/",
          "height": 279
        },
        "id": "UE7qL_rZ1glK",
        "outputId": "5a4ee3a3-ee66-4df5-e7d8-2ecf94621c78"
      },
      "execution_count": null,
      "outputs": [
        {
          "output_type": "display_data",
          "data": {
            "text/plain": [
              "<Figure size 432x288 with 1 Axes>"
            ],
            "image/png": "[encoded data removed]"
          },
          "metadata": {
            "needs_background": "light"
          }
        }
      ]
    },
    {
      "cell_type": "code",
      "source": [
        "from sklearn.linear_model import LinearRegression"
      ],
      "metadata": {
        "id": "vwRQOhte2BUZ"
      },
      "execution_count": null,
      "outputs": []
    },
    {
      "cell_type": "code",
      "source": [
        "lr = LinearRegression() #모델 생성\n",
        "lr.fit(train_input, train_target) #공부\n",
        "p_val = lr.predict([[50], [100]]) #예측\n",
        "print(p_val)"
      ],
      "metadata": {
        "colab": {
          "base_uri": "https://localhost:8080/"
        },
        "id": "ca6__0UQ2pgT",
        "outputId": "ab451879-b32b-4684-d7c1-1b0483d7bf3e"
      },
      "execution_count": null,
      "outputs": [
        {
          "output_type": "stream",
          "name": "stdout",
          "text": [
            "[1185.14096223 3002.10195253]\n"
          ]
        }
      ]
    },
    {
      "cell_type": "code",
      "source": [
        "p_val2 = kn.predict([[50], [100]])\n",
        "print(p_val2)"
      ],
      "metadata": {
        "colab": {
          "base_uri": "https://localhost:8080/"
        },
        "id": "b8It1xxU23AL",
        "outputId": "f85670e5-bcbb-4046-b6ae-eabb34a2f43a"
      },
      "execution_count": null,
      "outputs": [
        {
          "output_type": "stream",
          "name": "stdout",
          "text": [
            "[1033.33333333 1033.33333333]\n"
          ]
        }
      ]
    },
    {
      "cell_type": "code",
      "source": [
        "print('가중치(기울기):', lr.coef_, '편향:', lr.intercept_)"
      ],
      "metadata": {
        "colab": {
          "base_uri": "https://localhost:8080/"
        },
        "id": "8s-K5Z8N29sk",
        "outputId": "b517a577-7dc4-40c3-fd00-5b4baebae734"
      },
      "execution_count": null,
      "outputs": [
        {
          "output_type": "stream",
          "name": "stdout",
          "text": [
            "가중치(기울기): [36.33921981] 편향: -631.8200280744676\n"
          ]
        }
      ]
    },
    {
      "cell_type": "code",
      "source": [
        "print(50*lr.coef_ + lr.intercept_)\n",
        "print(p_val[0])"
      ],
      "metadata": {
        "colab": {
          "base_uri": "https://localhost:8080/"
        },
        "id": "2HUdT8Zn3Sck",
        "outputId": "6c0ed4b1-7aeb-4790-b927-84d5998f67cf"
      },
      "execution_count": null,
      "outputs": [
        {
          "output_type": "stream",
          "name": "stdout",
          "text": [
            "[1185.14096223]\n",
            "1185.1409622290876\n"
          ]
        }
      ]
    },
    {
      "cell_type": "code",
      "source": [
        "plt.scatter([50, 100],p_val, label='linear', marker='^', color='g')\n",
        "plt.scatter(train_input, train_target, label='train data', color='b', marker='.')\n",
        "plt.plot([0, 120], [0*lr.coef_ + lr.intercept_, 120*lr.coef_ + lr.intercept_], label='fun', color='r')\n",
        "plt.xlabel('Length')\n",
        "plt.ylabel('Weight')\n",
        "plt.legend()\n",
        "plt.show()"
      ],
      "metadata": {
        "colab": {
          "base_uri": "https://localhost:8080/",
          "height": 279
        },
        "id": "6o0C-Rb63gvf",
        "outputId": "76214e41-d1fb-4eab-d9f4-c426f80f3152"
      },
      "execution_count": null,
      "outputs": [
        {
          "output_type": "display_data",
          "data": {
            "text/plain": [
              "<Figure size 432x288 with 1 Axes>"
            ],
            "image/png": "[encoded data removed]"
          },
          "metadata": {
            "needs_background": "light"
          }
        }
      ]
    },
    {
      "cell_type": "code",
      "source": [
        "plt.scatter([50, 100], p_val, label='linear', marker='^', color='g')\n",
        "plt.scatter([100], pval, label='knn', marker='*', color='m')\n",
        "plt.scatter(train_input, train_target, label='train data', color='b', marker='.')\n",
        "plt.plot([0, 120], [0*lr.coef_ + lr.intercept_, 120*lr.coef_ + lr.intercept_], label='fun', color='r')\n",
        "plt.xlabel('Length')\n",
        "plt.ylabel('Weight')\n",
        "plt.legend()\n",
        "plt.show()"
      ],
      "metadata": {
        "colab": {
          "base_uri": "https://localhost:8080/",
          "height": 279
        },
        "id": "q2j1EBTu4ICA",
        "outputId": "1557aea6-d169-4242-ccc7-43d95b603510"
      },
      "execution_count": null,
      "outputs": [
        {
          "output_type": "display_data",
          "data": {
            "text/plain": [
              "<Figure size 432x288 with 1 Axes>"
            ],
            "image/png": "[encoded data removed]"
          },
          "metadata": {
            "needs_background": "light"
          }
        }
      ]
    },
    {
      "cell_type": "code",
      "source": [
        ""
      ],
      "metadata": {
        "id": "_ImON7Za6Zxj"
      },
      "execution_count": null,
      "outputs": []
    },
    {
      "cell_type": "markdown",
      "source": [
        "#### 가상의 데이터를 만들어서 션형 회귀를 해보자.\n",
        "y = 2x+3에 가까운 데이터"
      ],
      "metadata": {
        "id": "XeOaCRA68Fxx"
      }
    },
    {
      "cell_type": "code",
      "source": [
        "plt.figure(figsize=(4,4))\n",
        "input = [x for x in range(-100, 100, 5)]\n",
        "target = [(2 + np.random.uniform(-0.5, 0.5)) * x + np.random.randint(-3, 3) for x in input]\n",
        "plt.plot(input[:], target, '.')\n",
        "plt.xlim(-200, 200)\n",
        "plt.ylim(-200, 200)\n",
        "plt.vlines(0, -200, 200)\n",
        "plt.hlines(0, -200, 200)\n",
        "plt.show()"
      ],
      "metadata": {
        "colab": {
          "base_uri": "https://localhost:8080/",
          "height": 269
        },
        "id": "UDB5lOGq8Lbf",
        "outputId": "8a794e1a-7a16-42f6-db1c-900f5d0b5dcd"
      },
      "execution_count": null,
      "outputs": [
        {
          "output_type": "display_data",
          "data": {
            "text/plain": [
              "<Figure size 288x288 with 1 Axes>"
            ],
            "image/png": "[encoded data removed]"
          },
          "metadata": {
            "needs_background": "light"
          }
        }
      ]
    },
    {
      "cell_type": "code",
      "source": [
        "input_data = np.array(input).reshape(-1, 1)"
      ],
      "metadata": {
        "id": "WQmLkKDJ_fcv"
      },
      "execution_count": null,
      "outputs": []
    },
    {
      "cell_type": "code",
      "source": [
        "input_data.shape"
      ],
      "metadata": {
        "colab": {
          "base_uri": "https://localhost:8080/"
        },
        "id": "KeaZQGTnBY8P",
        "outputId": "27ee9c81-777a-4261-aed8-3b4a7325c8a8"
      },
      "execution_count": null,
      "outputs": [
        {
          "output_type": "execute_result",
          "data": {
            "text/plain": [
              "(40, 1)"
            ]
          },
          "metadata": {},
          "execution_count": 25
        }
      ]
    },
    {
      "cell_type": "code",
      "source": [
        "target_data = np.array(target)"
      ],
      "metadata": {
        "id": "VeqHjPMSBamh"
      },
      "execution_count": null,
      "outputs": []
    },
    {
      "cell_type": "code",
      "source": [
        "lr = LinearRegression()\n",
        "lr.fit(input_data, target_data)\n",
        "print(f'편향:{lr.coef_[0]:.2f} 기울기:{lr.intercept_:.2f}')"
      ],
      "metadata": {
        "colab": {
          "base_uri": "https://localhost:8080/"
        },
        "id": "Ej_eaAQ6BdnC",
        "outputId": "a37d92a0-fb51-46a8-a810-9df974dac0a4"
      },
      "execution_count": null,
      "outputs": [
        {
          "output_type": "stream",
          "name": "stdout",
          "text": [
            "편향:1.98 기울기:0.87\n"
          ]
        }
      ]
    },
    {
      "cell_type": "code",
      "source": [
        "plt.figure(figsize=(4,4))\n",
        "input = [x for x in range(-100, 100, 5)]\n",
        "target = [(2 + np.random.uniform(-0.5, 0.5)) * x + np.random.randint(-3, 3) for x in input]\n",
        "plt.plot(input[:], target, '.')\n",
        "plt.plot([-200, 200], [-200*lr.coef_ + lr.intercept_, 200*lr.coef_ + lr.intercept_])\n",
        "plt.xlim(-200, 200)\n",
        "plt.ylim(-200, 200)\n",
        "plt.vlines(0, -200, 200)\n",
        "plt.hlines(0, -200, 200)\n",
        "plt.show()"
      ],
      "metadata": {
        "colab": {
          "base_uri": "https://localhost:8080/",
          "height": 269
        },
        "id": "2W0xDg8vBxw5",
        "outputId": "553b6d21-e073-4c80-991f-7eb2a2a6d581"
      },
      "execution_count": null,
      "outputs": [
        {
          "output_type": "display_data",
          "data": {
            "text/plain": [
              "<Figure size 288x288 with 1 Axes>"
            ],
            "image/png": "[encoded data removed]"
          },
          "metadata": {
            "needs_background": "light"
          }
        }
      ]
    },
    {
      "cell_type": "code",
      "source": [
        ""
      ],
      "metadata": {
        "id": "APEBtgwRCJwG"
      },
      "execution_count": null,
      "outputs": []
    },
    {
      "cell_type": "markdown",
      "source": [
        "y=2xx+3x+5"
      ],
      "metadata": {
        "id": "_E0CfhR_CuN5"
      }
    },
    {
      "cell_type": "code",
      "source": [
        "plt.figure(figsize=(5,5))\n",
        "input = [np.random.randint(-200, 200) for _ in range(50)]\n",
        "target = [2*x*x+3*x+5 + np.random.randint(-10, 10) for x in input]\n",
        "plt.plot(input, target, '.')\n",
        "#plt.xlim(-200, 200)\n",
        "#plt.ylim(-200, 200)\n",
        "plt.vlines(0, -200, 80000)\n",
        "plt.hlines(0, -200, 200)\n",
        "plt.show()"
      ],
      "metadata": {
        "colab": {
          "base_uri": "https://localhost:8080/",
          "height": 320
        },
        "id": "iUqa5RB5C0mZ",
        "outputId": "711e4c29-29cb-4784-d024-996d5c8da922"
      },
      "execution_count": null,
      "outputs": [
        {
          "output_type": "display_data",
          "data": {
            "text/plain": [
              "<Figure size 360x360 with 1 Axes>"
            ],
            "image/png": "[encoded data removed]"
          },
          "metadata": {
            "needs_background": "light"
          }
        }
      ]
    },
    {
      "cell_type": "code",
      "source": [
        "input_arr = np.array(input).reshape(-1, 1)\n",
        "lr = LinearRegression()\n",
        "lr.fit(input_arr, target)\n",
        "p_val = lr.predict(input_arr)\n",
        "plt.figure(figsize=(5,5))\n",
        "plt.scatter(input, p_val, color='m')\n",
        "plt.plot(input, target, '.')\n",
        "plt.plot([-200, 200], [-200*lr.coef_ + lr.intercept_, 200*lr.coef_ + lr.intercept_], 'r:')\n",
        "plt.vlines(0, -200, 80000)\n",
        "plt.hlines(0, -200, 200)\n",
        "plt.show()"
      ],
      "metadata": {
        "colab": {
          "base_uri": "https://localhost:8080/",
          "height": 320
        },
        "id": "mEviBM1fE952",
        "outputId": "840253bd-7873-4b58-fa28-b7a9d047b1cf"
      },
      "execution_count": null,
      "outputs": [
        {
          "output_type": "display_data",
          "data": {
            "text/plain": [
              "<Figure size 360x360 with 1 Axes>"
            ],
            "image/png": "[encoded data removed]"
          },
          "metadata": {
            "needs_background": "light"
          }
        }
      ]
    },
    {
      "cell_type": "code",
      "source": [
        "input_total = [[x, x*x] for x in input]\n",
        "lr = LinearRegression()\n",
        "lr.fit(input_total, target)\n",
        "p_val2 = lr.predict(input_total)\n",
        "plt.figure(figsize=(5,5))\n",
        "plt.plot(input, target, '.')\n",
        "plt.scatter(input, p_val2, color='m')\n",
        "plt.vlines(0, -200, 80000)\n",
        "plt.hlines(0, -200, 200)\n",
        "plt.show()"
      ],
      "metadata": {
        "colab": {
          "base_uri": "https://localhost:8080/",
          "height": 320
        },
        "id": "DFvD42CIF0C5",
        "outputId": "4626ac43-56fa-47ba-d5ba-3f4b85d2bb79"
      },
      "execution_count": null,
      "outputs": [
        {
          "output_type": "display_data",
          "data": {
            "text/plain": [
              "<Figure size 360x360 with 1 Axes>"
            ],
            "image/png": "[encoded data removed]"
          },
          "metadata": {
            "needs_background": "light"
          }
        }
      ]
    },
    {
      "cell_type": "code",
      "source": [
        "print(type(train_input))"
      ],
      "metadata": {
        "colab": {
          "base_uri": "https://localhost:8080/"
        },
        "id": "gdlnzraPG5kY",
        "outputId": "c07a999b-a1de-412f-86ed-9070a75f8218"
      },
      "execution_count": null,
      "outputs": [
        {
          "output_type": "stream",
          "name": "stdout",
          "text": [
            "<class 'numpy.ndarray'>\n"
          ]
        }
      ]
    },
    {
      "cell_type": "code",
      "source": [
        "print(train_input.shape)"
      ],
      "metadata": {
        "colab": {
          "base_uri": "https://localhost:8080/"
        },
        "id": "KAFW73goKmHi",
        "outputId": "e50fbfc0-b603-47b6-c470-88fb78cb921f"
      },
      "execution_count": null,
      "outputs": [
        {
          "output_type": "stream",
          "name": "stdout",
          "text": [
            "(42, 1)\n"
          ]
        }
      ]
    },
    {
      "cell_type": "code",
      "source": [
        "lr = LinearRegression()\n",
        "lr.fit(train_input, train_target)\n",
        "p_val = lr.predict([[2], [10], [50], [100]])\n",
        "print('예측:', p_val)"
      ],
      "metadata": {
        "colab": {
          "base_uri": "https://localhost:8080/"
        },
        "id": "U9kItDYFKp8L",
        "outputId": "b46ff4fa-a9e8-4d46-efd1-66a84c0d739f"
      },
      "execution_count": null,
      "outputs": [
        {
          "output_type": "stream",
          "name": "stdout",
          "text": [
            "예측: [-559.14158846 -268.42783001 1185.14096223 3002.10195253]\n"
          ]
        }
      ]
    },
    {
      "cell_type": "code",
      "source": [
        "perch_length = perch_df['Length2'].to_numpy()\n",
        "perch_weight = perch_df['Weight'].to_numpy()\n",
        "pl2 = [[x, x*x] for x in perch_length]\n",
        "lr = LinearRegression()\n",
        "lr.fit(pl2, perch_weight)"
      ],
      "metadata": {
        "colab": {
          "base_uri": "https://localhost:8080/"
        },
        "id": "7ifwqc42K6Hk",
        "outputId": "a474a70e-3e52-4f10-a7d7-94eec24836f2"
      },
      "execution_count": null,
      "outputs": [
        {
          "output_type": "execute_result",
          "data": {
            "text/plain": [
              "LinearRegression()"
            ]
          },
          "metadata": {},
          "execution_count": 35
        }
      ]
    },
    {
      "cell_type": "code",
      "source": [
        "test2 = [[x, x*x] for x in range(0, 100)]\n",
        "p_val2 = lr.predict(test2)"
      ],
      "metadata": {
        "id": "Ra6DfVTKLtL9"
      },
      "execution_count": null,
      "outputs": []
    },
    {
      "cell_type": "code",
      "source": [
        "plt.scatter(perch_length, perch_weight, label='actual', marker='.')\n",
        "plt.scatter(range(0, 100), p_val2, label='predict', marker='.')\n",
        "plt.legend()\n",
        "plt.show()"
      ],
      "metadata": {
        "colab": {
          "base_uri": "https://localhost:8080/",
          "height": 265
        },
        "id": "XoxkJUDkL7cD",
        "outputId": "2f4d3046-5c6a-4763-9472-92475611591f"
      },
      "execution_count": null,
      "outputs": [
        {
          "output_type": "display_data",
          "data": {
            "text/plain": [
              "<Figure size 432x288 with 1 Axes>"
            ],
            "image/png": "[encoded data removed]"
          },
          "metadata": {
            "needs_background": "light"
          }
        }
      ]
    },
    {
      "cell_type": "markdown",
      "source": [
        "weight = -22.41*length + 1.02length*length + 131.6453"
      ],
      "metadata": {
        "id": "hsbH6WaiNgRB"
      }
    },
    {
      "cell_type": "code",
      "source": [
        "print(lr.coef_, lr.intercept_)"
      ],
      "metadata": {
        "colab": {
          "base_uri": "https://localhost:8080/"
        },
        "id": "jKQkEJ7-MSm2",
        "outputId": "f5e5f1cb-2a40-4bcb-89eb-97e08467b4eb"
      },
      "execution_count": null,
      "outputs": [
        {
          "output_type": "stream",
          "name": "stdout",
          "text": [
            "[-22.4189282    1.02094922] 131.6453196989612\n"
          ]
        }
      ]
    },
    {
      "cell_type": "code",
      "source": [
        "perch_df"
      ],
      "metadata": {
        "colab": {
          "base_uri": "https://localhost:8080/",
          "height": 1000
        },
        "id": "J292ynHkNRKm",
        "outputId": "f60d09af-ae87-4ffc-a78d-2a944cabd568"
      },
      "execution_count": null,
      "outputs": [
        {
          "output_type": "execute_result",
          "data": {
            "text/plain": [
              "    Species  Weight  Length1  Length2  Length3   Height   Width\n",
              "72    Perch     5.9      7.5      8.4      8.8   2.1120  1.4080\n",
              "73    Perch    32.0     12.5     13.7     14.7   3.5280  1.9992\n",
              "74    Perch    40.0     13.8     15.0     16.0   3.8240  2.4320\n",
              "75    Perch    51.5     15.0     16.2     17.2   4.5924  2.6316\n",
              "76    Perch    70.0     15.7     17.4     18.5   4.5880  2.9415\n",
              "77    Perch   100.0     16.2     18.0     19.2   5.2224  3.3216\n",
              "78    Perch    78.0     16.8     18.7     19.4   5.1992  3.1234\n",
              "79    Perch    80.0     17.2     19.0     20.2   5.6358  3.0502\n",
              "80    Perch    85.0     17.8     19.6     20.8   5.1376  3.0368\n",
              "81    Perch    85.0     18.2     20.0     21.0   5.0820  2.7720\n",
              "82    Perch   110.0     19.0     21.0     22.5   5.6925  3.5550\n",
              "83    Perch   115.0     19.0     21.0     22.5   5.9175  3.3075\n",
              "84    Perch   125.0     19.0     21.0     22.5   5.6925  3.6675\n",
              "85    Perch   130.0     19.3     21.3     22.8   6.3840  3.5340\n",
              "86    Perch   120.0     20.0     22.0     23.5   6.1100  3.4075\n",
              "87    Perch   120.0     20.0     22.0     23.5   5.6400  3.5250\n",
              "88    Perch   130.0     20.0     22.0     23.5   6.1100  3.5250\n",
              "89    Perch   135.0     20.0     22.0     23.5   5.8750  3.5250\n",
              "90    Perch   110.0     20.0     22.0     23.5   5.5225  3.9950\n",
              "91    Perch   130.0     20.5     22.5     24.0   5.8560  3.6240\n",
              "92    Perch   150.0     20.5     22.5     24.0   6.7920  3.6240\n",
              "93    Perch   145.0     20.7     22.7     24.2   5.9532  3.6300\n",
              "94    Perch   150.0     21.0     23.0     24.5   5.2185  3.6260\n",
              "95    Perch   170.0     21.5     23.5     25.0   6.2750  3.7250\n",
              "96    Perch   225.0     22.0     24.0     25.5   7.2930  3.7230\n",
              "97    Perch   145.0     22.0     24.0     25.5   6.3750  3.8250\n",
              "98    Perch   188.0     22.6     24.6     26.2   6.7334  4.1658\n",
              "99    Perch   180.0     23.0     25.0     26.5   6.4395  3.6835\n",
              "100   Perch   197.0     23.5     25.6     27.0   6.5610  4.2390\n",
              "101   Perch   218.0     25.0     26.5     28.0   7.1680  4.1440\n",
              "102   Perch   300.0     25.2     27.3     28.7   8.3230  5.1373\n",
              "103   Perch   260.0     25.4     27.5     28.9   7.1672  4.3350\n",
              "104   Perch   265.0     25.4     27.5     28.9   7.0516  4.3350\n",
              "105   Perch   250.0     25.4     27.5     28.9   7.2828  4.5662\n",
              "106   Perch   250.0     25.9     28.0     29.4   7.8204  4.2042\n",
              "107   Perch   300.0     26.9     28.7     30.1   7.5852  4.6354\n",
              "108   Perch   320.0     27.8     30.0     31.6   7.6156  4.7716\n",
              "109   Perch   514.0     30.5     32.8     34.0  10.0300  6.0180\n",
              "110   Perch   556.0     32.0     34.5     36.5  10.2565  6.3875\n",
              "111   Perch   840.0     32.5     35.0     37.3  11.4884  7.7957\n",
              "112   Perch   685.0     34.0     36.5     39.0  10.8810  6.8640\n",
              "113   Perch   700.0     34.0     36.0     38.3  10.6091  6.7408\n",
              "114   Perch   700.0     34.5     37.0     39.4  10.8350  6.2646\n",
              "115   Perch   690.0     34.6     37.0     39.3  10.5717  6.3666\n",
              "116   Perch   900.0     36.5     39.0     41.4  11.1366  7.4934\n",
              "117   Perch   650.0     36.5     39.0     41.4  11.1366  6.0030\n",
              "118   Perch   820.0     36.6     39.0     41.3  12.4313  7.3514\n",
              "119   Perch   850.0     36.9     40.0     42.3  11.9286  7.1064\n",
              "120   Perch   900.0     37.0     40.0     42.5  11.7300  7.2250\n",
              "121   Perch  1015.0     37.0     40.0     42.4  12.3808  7.4624\n",
              "122   Perch   820.0     37.1     40.0     42.5  11.1350  6.6300\n",
              "123   Perch  1100.0     39.0     42.0     44.6  12.8002  6.8684\n",
              "124   Perch  1000.0     39.8     43.0     45.2  11.9328  7.2772\n",
              "125   Perch  1100.0     40.1     43.0     45.5  12.5125  7.4165\n",
              "126   Perch  1000.0     40.2     43.5     46.0  12.6040  8.1420\n",
              "127   Perch  1000.0     41.1     44.0     46.6  12.4888  7.5958"
            ],
            "text/html": [
              "\n",
              "  <div id=\"df-455c4e2d-8de0-4aa2-9151-f1d01ad28373\">\n",
              "    <div class=\"colab-df-container\">\n",
              "      <div>\n",
              "<style scoped>\n",
              "    .dataframe tbody tr th:only-of-type {\n",
              "        vertical-align: middle;\n",
              "    }\n",
              "\n",
              "    .dataframe tbody tr th {\n",
              "        vertical-align: top;\n",
              "    }\n",
              "\n",
              "    .dataframe thead th {\n",
              "        text-align: right;\n",
              "    }\n",
              "</style>\n",
              "<table border=\"1\" class=\"dataframe\">\n",
              "  <thead>\n",
              "    <tr style=\"text-align: right;\">\n",
              "      <th></th>\n",
              "      <th>Species</th>\n",
              "      <th>Weight</th>\n",
              "      <th>Length1</th>\n",
              "      <th>Length2</th>\n",
              "      <th>Length3</th>\n",
              "      <th>Height</th>\n",
              "      <th>Width</th>\n",
              "    </tr>\n",
              "  </thead>\n",
              "  <tbody>\n",
              "    <tr>\n",
              "      <th>72</th>\n",
              "      <td>Perch</td>\n",
              "      <td>5.9</td>\n",
              "      <td>7.5</td>\n",
              "      <td>8.4</td>\n",
              "      <td>8.8</td>\n",
              "      <td>2.1120</td>\n",
              "      <td>1.4080</td>\n",
              "    </tr>\n",
              "    <tr>\n",
              "      <th>73</th>\n",
              "      <td>Perch</td>\n",
              "      <td>32.0</td>\n",
              "      <td>12.5</td>\n",
              "      <td>13.7</td>\n",
              "      <td>14.7</td>\n",
              "      <td>3.5280</td>\n",
              "      <td>1.9992</td>\n",
              "    </tr>\n",
              "    <tr>\n",
              "      <th>74</th>\n",
              "      <td>Perch</td>\n",
              "      <td>40.0</td>\n",
              "      <td>13.8</td>\n",
              "      <td>15.0</td>\n",
              "      <td>16.0</td>\n",
              "      <td>3.8240</td>\n",
              "      <td>2.4320</td>\n",
              "    </tr>\n",
              "    <tr>\n",
              "      <th>75</th>\n",
              "      <td>Perch</td>\n",
              "      <td>51.5</td>\n",
              "      <td>15.0</td>\n",
              "      <td>16.2</td>\n",
              "      <td>17.2</td>\n",
              "      <td>4.5924</td>\n",
              "      <td>2.6316</td>\n",
              "    </tr>\n",
              "    <tr>\n",
              "      <th>76</th>\n",
              "      <td>Perch</td>\n",
              "      <td>70.0</td>\n",
              "      <td>15.7</td>\n",
              "      <td>17.4</td>\n",
              "      <td>18.5</td>\n",
              "      <td>4.5880</td>\n",
              "      <td>2.9415</td>\n",
              "    </tr>\n",
              "    <tr>\n",
              "      <th>77</th>\n",
              "      <td>Perch</td>\n",
              "      <td>100.0</td>\n",
              "      <td>16.2</td>\n",
              "      <td>18.0</td>\n",
              "      <td>19.2</td>\n",
              "      <td>5.2224</td>\n",
              "      <td>3.3216</td>\n",
              "    </tr>\n",
              "    <tr>\n",
              "      <th>78</th>\n",
              "      <td>Perch</td>\n",
              "      <td>78.0</td>\n",
              "      <td>16.8</td>\n",
              "      <td>18.7</td>\n",
              "      <td>19.4</td>\n",
              "      <td>5.1992</td>\n",
              "      <td>3.1234</td>\n",
              "    </tr>\n",
              "    <tr>\n",
              "      <th>79</th>\n",
              "      <td>Perch</td>\n",
              "      <td>80.0</td>\n",
              "      <td>17.2</td>\n",
              "      <td>19.0</td>\n",
              "      <td>20.2</td>\n",
              "      <td>5.6358</td>\n",
              "      <td>3.0502</td>\n",
              "    </tr>\n",
              "    <tr>\n",
              "      <th>80</th>\n",
              "      <td>Perch</td>\n",
              "      <td>85.0</td>\n",
              "      <td>17.8</td>\n",
              "      <td>19.6</td>\n",
              "      <td>20.8</td>\n",
              "      <td>5.1376</td>\n",
              "      <td>3.0368</td>\n",
              "    </tr>\n",
              "    <tr>\n",
              "      <th>81</th>\n",
              "      <td>Perch</td>\n",
              "      <td>85.0</td>\n",
              "      <td>18.2</td>\n",
              "      <td>20.0</td>\n",
              "      <td>21.0</td>\n",
              "      <td>5.0820</td>\n",
              "      <td>2.7720</td>\n",
              "    </tr>\n",
              "    <tr>\n",
              "      <th>82</th>\n",
              "      <td>Perch</td>\n",
              "      <td>110.0</td>\n",
              "      <td>19.0</td>\n",
              "      <td>21.0</td>\n",
              "      <td>22.5</td>\n",
              "      <td>5.6925</td>\n",
              "      <td>3.5550</td>\n",
              "    </tr>\n",
              "    <tr>\n",
              "      <th>83</th>\n",
              "      <td>Perch</td>\n",
              "      <td>115.0</td>\n",
              "      <td>19.0</td>\n",
              "      <td>21.0</td>\n",
              "      <td>22.5</td>\n",
              "      <td>5.9175</td>\n",
              "      <td>3.3075</td>\n",
              "    </tr>\n",
              "    <tr>\n",
              "      <th>84</th>\n",
              "      <td>Perch</td>\n",
              "      <td>125.0</td>\n",
              "      <td>19.0</td>\n",
              "      <td>21.0</td>\n",
              "      <td>22.5</td>\n",
              "      <td>5.6925</td>\n",
              "      <td>3.6675</td>\n",
              "    </tr>\n",
              "    <tr>\n",
              "      <th>85</th>\n",
              "      <td>Perch</td>\n",
              "      <td>130.0</td>\n",
              "      <td>19.3</td>\n",
              "      <td>21.3</td>\n",
              "      <td>22.8</td>\n",
              "      <td>6.3840</td>\n",
              "      <td>3.5340</td>\n",
              "    </tr>\n",
              "    <tr>\n",
              "      <th>86</th>\n",
              "      <td>Perch</td>\n",
              "      <td>120.0</td>\n",
              "      <td>20.0</td>\n",
              "      <td>22.0</td>\n",
              "      <td>23.5</td>\n",
              "      <td>6.1100</td>\n",
              "      <td>3.4075</td>\n",
              "    </tr>\n",
              "    <tr>\n",
              "      <th>87</th>\n",
              "      <td>Perch</td>\n",
              "      <td>120.0</td>\n",
              "      <td>20.0</td>\n",
              "      <td>22.0</td>\n",
              "      <td>23.5</td>\n",
              "      <td>5.6400</td>\n",
              "      <td>3.5250</td>\n",
              "    </tr>\n",
              "    <tr>\n",
              "      <th>88</th>\n",
              "      <td>Perch</td>\n",
              "      <td>130.0</td>\n",
              "      <td>20.0</td>\n",
              "      <td>22.0</td>\n",
              "      <td>23.5</td>\n",
              "      <td>6.1100</td>\n",
              "      <td>3.5250</td>\n",
              "    </tr>\n",
              "    <tr>\n",
              "      <th>89</th>\n",
              "      <td>Perch</td>\n",
              "      <td>135.0</td>\n",
              "      <td>20.0</td>\n",
              "      <td>22.0</td>\n",
              "      <td>23.5</td>\n",
              "      <td>5.8750</td>\n",
              "      <td>3.5250</td>\n",
              "    </tr>\n",
              "    <tr>\n",
              "      <th>90</th>\n",
              "      <td>Perch</td>\n",
              "      <td>110.0</td>\n",
              "      <td>20.0</td>\n",
              "      <td>22.0</td>\n",
              "      <td>23.5</td>\n",
              "      <td>5.5225</td>\n",
              "      <td>3.9950</td>\n",
              "    </tr>\n",
              "    <tr>\n",
              "      <th>91</th>\n",
              "      <td>Perch</td>\n",
              "      <td>130.0</td>\n",
              "      <td>20.5</td>\n",
              "      <td>22.5</td>\n",
              "      <td>24.0</td>\n",
              "      <td>5.8560</td>\n",
              "      <td>3.6240</td>\n",
              "    </tr>\n",
              "    <tr>\n",
              "      <th>92</th>\n",
              "      <td>Perch</td>\n",
              "      <td>150.0</td>\n",
              "      <td>20.5</td>\n",
              "      <td>22.5</td>\n",
              "      <td>24.0</td>\n",
              "      <td>6.7920</td>\n",
              "      <td>3.6240</td>\n",
              "    </tr>\n",
              "    <tr>\n",
              "      <th>93</th>\n",
              "      <td>Perch</td>\n",
              "      <td>145.0</td>\n",
              "      <td>20.7</td>\n",
              "      <td>22.7</td>\n",
              "      <td>24.2</td>\n",
              "      <td>5.9532</td>\n",
              "      <td>3.6300</td>\n",
              "    </tr>\n",
              "    <tr>\n",
              "      <th>94</th>\n",
              "      <td>Perch</td>\n",
              "      <td>150.0</td>\n",
              "      <td>21.0</td>\n",
              "      <td>23.0</td>\n",
              "      <td>24.5</td>\n",
              "      <td>5.2185</td>\n",
              "      <td>3.6260</td>\n",
              "    </tr>\n",
              "    <tr>\n",
              "      <th>95</th>\n",
              "      <td>Perch</td>\n",
              "      <td>170.0</td>\n",
              "      <td>21.5</td>\n",
              "      <td>23.5</td>\n",
              "      <td>25.0</td>\n",
              "      <td>6.2750</td>\n",
              "      <td>3.7250</td>\n",
              "    </tr>\n",
              "    <tr>\n",
              "      <th>96</th>\n",
              "      <td>Perch</td>\n",
              "      <td>225.0</td>\n",
              "      <td>22.0</td>\n",
              "      <td>24.0</td>\n",
              "      <td>25.5</td>\n",
              "      <td>7.2930</td>\n",
              "      <td>3.7230</td>\n",
              "    </tr>\n",
              "    <tr>\n",
              "      <th>97</th>\n",
              "      <td>Perch</td>\n",
              "      <td>145.0</td>\n",
              "      <td>22.0</td>\n",
              "      <td>24.0</td>\n",
              "      <td>25.5</td>\n",
              "      <td>6.3750</td>\n",
              "      <td>3.8250</td>\n",
              "    </tr>\n",
              "    <tr>\n",
              "      <th>98</th>\n",
              "      <td>Perch</td>\n",
              "      <td>188.0</td>\n",
              "      <td>22.6</td>\n",
              "      <td>24.6</td>\n",
              "      <td>26.2</td>\n",
              "      <td>6.7334</td>\n",
              "      <td>4.1658</td>\n",
              "    </tr>\n",
              "    <tr>\n",
              "      <th>99</th>\n",
              "      <td>Perch</td>\n",
              "      <td>180.0</td>\n",
              "      <td>23.0</td>\n",
              "      <td>25.0</td>\n",
              "      <td>26.5</td>\n",
              "      <td>6.4395</td>\n",
              "      <td>3.6835</td>\n",
              "    </tr>\n",
              "    <tr>\n",
              "      <th>100</th>\n",
              "      <td>Perch</td>\n",
              "      <td>197.0</td>\n",
              "      <td>23.5</td>\n",
              "      <td>25.6</td>\n",
              "      <td>27.0</td>\n",
              "      <td>6.5610</td>\n",
              "      <td>4.2390</td>\n",
              "    </tr>\n",
              "    <tr>\n",
              "      <th>101</th>\n",
              "      <td>Perch</td>\n",
              "      <td>218.0</td>\n",
              "      <td>25.0</td>\n",
              "      <td>26.5</td>\n",
              "      <td>28.0</td>\n",
              "      <td>7.1680</td>\n",
              "      <td>4.1440</td>\n",
              "    </tr>\n",
              "    <tr>\n",
              "      <th>102</th>\n",
              "      <td>Perch</td>\n",
              "      <td>300.0</td>\n",
              "      <td>25.2</td>\n",
              "      <td>27.3</td>\n",
              "      <td>28.7</td>\n",
              "      <td>8.3230</td>\n",
              "      <td>5.1373</td>\n",
              "    </tr>\n",
              "    <tr>\n",
              "      <th>103</th>\n",
              "      <td>Perch</td>\n",
              "      <td>260.0</td>\n",
              "      <td>25.4</td>\n",
              "      <td>27.5</td>\n",
              "      <td>28.9</td>\n",
              "      <td>7.1672</td>\n",
              "      <td>4.3350</td>\n",
              "    </tr>\n",
              "    <tr>\n",
              "      <th>104</th>\n",
              "      <td>Perch</td>\n",
              "      <td>265.0</td>\n",
              "      <td>25.4</td>\n",
              "      <td>27.5</td>\n",
              "      <td>28.9</td>\n",
              "      <td>7.0516</td>\n",
              "      <td>4.3350</td>\n",
              "    </tr>\n",
              "    <tr>\n",
              "      <th>105</th>\n",
              "      <td>Perch</td>\n",
              "      <td>250.0</td>\n",
              "      <td>25.4</td>\n",
              "      <td>27.5</td>\n",
              "      <td>28.9</td>\n",
              "      <td>7.2828</td>\n",
              "      <td>4.5662</td>\n",
              "    </tr>\n",
              "    <tr>\n",
              "      <th>106</th>\n",
              "      <td>Perch</td>\n",
              "      <td>250.0</td>\n",
              "      <td>25.9</td>\n",
              "      <td>28.0</td>\n",
              "      <td>29.4</td>\n",
              "      <td>7.8204</td>\n",
              "      <td>4.2042</td>\n",
              "    </tr>\n",
              "    <tr>\n",
              "      <th>107</th>\n",
              "      <td>Perch</td>\n",
              "      <td>300.0</td>\n",
              "      <td>26.9</td>\n",
              "      <td>28.7</td>\n",
              "      <td>30.1</td>\n",
              "      <td>7.5852</td>\n",
              "      <td>4.6354</td>\n",
              "    </tr>\n",
              "    <tr>\n",
              "      <th>108</th>\n",
              "      <td>Perch</td>\n",
              "      <td>320.0</td>\n",
              "      <td>27.8</td>\n",
              "      <td>30.0</td>\n",
              "      <td>31.6</td>\n",
              "      <td>7.6156</td>\n",
              "      <td>4.7716</td>\n",
              "    </tr>\n",
              "    <tr>\n",
              "      <th>109</th>\n",
              "      <td>Perch</td>\n",
              "      <td>514.0</td>\n",
              "      <td>30.5</td>\n",
              "      <td>32.8</td>\n",
              "      <td>34.0</td>\n",
              "      <td>10.0300</td>\n",
              "      <td>6.0180</td>\n",
              "    </tr>\n",
              "    <tr>\n",
              "      <th>110</th>\n",
              "      <td>Perch</td>\n",
              "      <td>556.0</td>\n",
              "      <td>32.0</td>\n",
              "      <td>34.5</td>\n",
              "      <td>36.5</td>\n",
              "      <td>10.2565</td>\n",
              "      <td>6.3875</td>\n",
              "    </tr>\n",
              "    <tr>\n",
              "      <th>111</th>\n",
              "      <td>Perch</td>\n",
              "      <td>840.0</td>\n",
              "      <td>32.5</td>\n",
              "      <td>35.0</td>\n",
              "      <td>37.3</td>\n",
              "      <td>11.4884</td>\n",
              "      <td>7.7957</td>\n",
              "    </tr>\n",
              "    <tr>\n",
              "      <th>112</th>\n",
              "      <td>Perch</td>\n",
              "      <td>685.0</td>\n",
              "      <td>34.0</td>\n",
              "      <td>36.5</td>\n",
              "      <td>39.0</td>\n",
              "      <td>10.8810</td>\n",
              "      <td>6.8640</td>\n",
              "    </tr>\n",
              "    <tr>\n",
              "      <th>113</th>\n",
              "      <td>Perch</td>\n",
              "      <td>700.0</td>\n",
              "      <td>34.0</td>\n",
              "      <td>36.0</td>\n",
              "      <td>38.3</td>\n",
              "      <td>10.6091</td>\n",
              "      <td>6.7408</td>\n",
              "    </tr>\n",
              "    <tr>\n",
              "      <th>114</th>\n",
              "      <td>Perch</td>\n",
              "      <td>700.0</td>\n",
              "      <td>34.5</td>\n",
              "      <td>37.0</td>\n",
              "      <td>39.4</td>\n",
              "      <td>10.8350</td>\n",
              "      <td>6.2646</td>\n",
              "    </tr>\n",
              "    <tr>\n",
              "      <th>115</th>\n",
              "      <td>Perch</td>\n",
              "      <td>690.0</td>\n",
              "      <td>34.6</td>\n",
              "      <td>37.0</td>\n",
              "      <td>39.3</td>\n",
              "      <td>10.5717</td>\n",
              "      <td>6.3666</td>\n",
              "    </tr>\n",
              "    <tr>\n",
              "      <th>116</th>\n",
              "      <td>Perch</td>\n",
              "      <td>900.0</td>\n",
              "      <td>36.5</td>\n",
              "      <td>39.0</td>\n",
              "      <td>41.4</td>\n",
              "      <td>11.1366</td>\n",
              "      <td>7.4934</td>\n",
              "    </tr>\n",
              "    <tr>\n",
              "      <th>117</th>\n",
              "      <td>Perch</td>\n",
              "      <td>650.0</td>\n",
              "      <td>36.5</td>\n",
              "      <td>39.0</td>\n",
              "      <td>41.4</td>\n",
              "      <td>11.1366</td>\n",
              "      <td>6.0030</td>\n",
              "    </tr>\n",
              "    <tr>\n",
              "      <th>118</th>\n",
              "      <td>Perch</td>\n",
              "      <td>820.0</td>\n",
              "      <td>36.6</td>\n",
              "      <td>39.0</td>\n",
              "      <td>41.3</td>\n",
              "      <td>12.4313</td>\n",
              "      <td>7.3514</td>\n",
              "    </tr>\n",
              "    <tr>\n",
              "      <th>119</th>\n",
              "      <td>Perch</td>\n",
              "      <td>850.0</td>\n",
              "      <td>36.9</td>\n",
              "      <td>40.0</td>\n",
              "      <td>42.3</td>\n",
              "      <td>11.9286</td>\n",
              "      <td>7.1064</td>\n",
              "    </tr>\n",
              "    <tr>\n",
              "      <th>120</th>\n",
              "      <td>Perch</td>\n",
              "      <td>900.0</td>\n",
              "      <td>37.0</td>\n",
              "      <td>40.0</td>\n",
              "      <td>42.5</td>\n",
              "      <td>11.7300</td>\n",
              "      <td>7.2250</td>\n",
              "    </tr>\n",
              "    <tr>\n",
              "      <th>121</th>\n",
              "      <td>Perch</td>\n",
              "      <td>1015.0</td>\n",
              "      <td>37.0</td>\n",
              "      <td>40.0</td>\n",
              "      <td>42.4</td>\n",
              "      <td>12.3808</td>\n",
              "      <td>7.4624</td>\n",
              "    </tr>\n",
              "    <tr>\n",
              "      <th>122</th>\n",
              "      <td>Perch</td>\n",
              "      <td>820.0</td>\n",
              "      <td>37.1</td>\n",
              "      <td>40.0</td>\n",
              "      <td>42.5</td>\n",
              "      <td>11.1350</td>\n",
              "      <td>6.6300</td>\n",
              "    </tr>\n",
              "    <tr>\n",
              "      <th>123</th>\n",
              "      <td>Perch</td>\n",
              "      <td>1100.0</td>\n",
              "      <td>39.0</td>\n",
              "      <td>42.0</td>\n",
              "      <td>44.6</td>\n",
              "      <td>12.8002</td>\n",
              "      <td>6.8684</td>\n",
              "    </tr>\n",
              "    <tr>\n",
              "      <th>124</th>\n",
              "      <td>Perch</td>\n",
              "      <td>1000.0</td>\n",
              "      <td>39.8</td>\n",
              "      <td>43.0</td>\n",
              "      <td>45.2</td>\n",
              "      <td>11.9328</td>\n",
              "      <td>7.2772</td>\n",
              "    </tr>\n",
              "    <tr>\n",
              "      <th>125</th>\n",
              "      <td>Perch</td>\n",
              "      <td>1100.0</td>\n",
              "      <td>40.1</td>\n",
              "      <td>43.0</td>\n",
              "      <td>45.5</td>\n",
              "      <td>12.5125</td>\n",
              "      <td>7.4165</td>\n",
              "    </tr>\n",
              "    <tr>\n",
              "      <th>126</th>\n",
              "      <td>Perch</td>\n",
              "      <td>1000.0</td>\n",
              "      <td>40.2</td>\n",
              "      <td>43.5</td>\n",
              "      <td>46.0</td>\n",
              "      <td>12.6040</td>\n",
              "      <td>8.1420</td>\n",
              "    </tr>\n",
              "    <tr>\n",
              "      <th>127</th>\n",
              "      <td>Perch</td>\n",
              "      <td>1000.0</td>\n",
              "      <td>41.1</td>\n",
              "      <td>44.0</td>\n",
              "      <td>46.6</td>\n",
              "      <td>12.4888</td>\n",
              "      <td>7.5958</td>\n",
              "    </tr>\n",
              "  </tbody>\n",
              "</table>\n",
              "</div>\n",
              "      <button class=\"colab-df-convert\" onclick=\"convertToInteractive('df-455c4e2d-8de0-4aa2-9151-f1d01ad28373')\"\n",
              "              title=\"Convert this dataframe to an interactive table.\"\n",
              "              style=\"display:none;\">\n",
              "        \n",
              "  <svg xmlns=\"http://www.w3.org/2000/svg\" height=\"24px\"viewBox=\"0 0 24 24\"\n",
              "       width=\"24px\">\n",
              "    <path d=\"M0 0h24v24H0V0z\" fill=\"none\"/>\n",
              "    <path d=\"M18.56 5.44l.94 2.06.94-2.06 2.06-.94-2.06-.94-.94-2.06-.94 2.06-2.06.94zm-11 1L8.5 8.5l.94-2.06 2.06-.94-2.06-.94L8.5 2.5l-.94 2.06-2.06.94zm10 10l.94 2.06.94-2.06 2.06-.94-2.06-.94-.94-2.06-.94 2.06-2.06.94z\"/><path d=\"M17.41 7.96l-1.37-1.37c-.4-.4-.92-.59-1.43-.59-.52 0-1.04.2-1.43.59L10.3 9.45l-7.72 7.72c-.78.78-.78 2.05 0 2.83L4 21.41c.39.39.9.59 1.41.59.51 0 1.02-.2 1.41-.59l7.78-7.78 2.81-2.81c.8-.78.8-2.07 0-2.86zM5.41 20L4 18.59l7.72-7.72 1.47 1.35L5.41 20z\"/>\n",
              "  </svg>\n",
              "      </button>\n",
              "      \n",
              "  <style>\n",
              "    .colab-df-container {\n",
              "      display:flex;\n",
              "      flex-wrap:wrap;\n",
              "      gap: 12px;\n",
              "    }\n",
              "\n",
              "    .colab-df-convert {\n",
              "      background-color: #E8F0FE;\n",
              "      border: none;\n",
              "      border-radius: 50%;\n",
              "      cursor: pointer;\n",
              "      display: none;\n",
              "      fill: #1967D2;\n",
              "      height: 32px;\n",
              "      padding: 0 0 0 0;\n",
              "      width: 32px;\n",
              "    }\n",
              "\n",
              "    .colab-df-convert:hover {\n",
              "      background-color: #E2EBFA;\n",
              "      box-shadow: 0px 1px 2px rgba(60, 64, 67, 0.3), 0px 1px 3px 1px rgba(60, 64, 67, 0.15);\n",
              "      fill: #174EA6;\n",
              "    }\n",
              "\n",
              "    [theme=dark] .colab-df-convert {\n",
              "      background-color: #3B4455;\n",
              "      fill: #D2E3FC;\n",
              "    }\n",
              "\n",
              "    [theme=dark] .colab-df-convert:hover {\n",
              "      background-color: #434B5C;\n",
              "      box-shadow: 0px 1px 3px 1px rgba(0, 0, 0, 0.15);\n",
              "      filter: drop-shadow(0px 1px 2px rgba(0, 0, 0, 0.3));\n",
              "      fill: #FFFFFF;\n",
              "    }\n",
              "  </style>\n",
              "\n",
              "      <script>\n",
              "        const buttonEl =\n",
              "          document.querySelector('#df-455c4e2d-8de0-4aa2-9151-f1d01ad28373 button.colab-df-convert');\n",
              "        buttonEl.style.display =\n",
              "          google.colab.kernel.accessAllowed ? 'block' : 'none';\n",
              "\n",
              "        async function convertToInteractive(key) {\n",
              "          const element = document.querySelector('#df-455c4e2d-8de0-4aa2-9151-f1d01ad28373');\n",
              "          const dataTable =\n",
              "            await google.colab.kernel.invokeFunction('convertToInteractive',\n",
              "                                                     [key], {});\n",
              "          if (!dataTable) return;\n",
              "\n",
              "          const docLinkHtml = 'Like what you see? Visit the ' +\n",
              "            '<a target=\"_blank\" href=https://colab.research.google.com/notebooks/data_table.ipynb>data table notebook</a>'\n",
              "            + ' to learn more about interactive tables.';\n",
              "          element.innerHTML = '';\n",
              "          dataTable['output_type'] = 'display_data';\n",
              "          await google.colab.output.renderOutput(dataTable, element);\n",
              "          const docLink = document.createElement('div');\n",
              "          docLink.innerHTML = docLinkHtml;\n",
              "          element.appendChild(docLink);\n",
              "        }\n",
              "      </script>\n",
              "    </div>\n",
              "  </div>\n",
              "  "
            ]
          },
          "metadata": {},
          "execution_count": 39
        }
      ]
    },
    {
      "cell_type": "code",
      "source": [
        "perch_full = perch_df[['Length2', 'Height', 'Width']].to_numpy()\n",
        "print(perch_full)"
      ],
      "metadata": {
        "id": "8bGKYXZCPpjj",
        "colab": {
          "base_uri": "https://localhost:8080/"
        },
        "outputId": "4769919e-65cb-48f6-c74e-4d2e1748ae9a"
      },
      "execution_count": null,
      "outputs": [
        {
          "output_type": "stream",
          "name": "stdout",
          "text": [
            "[[ 8.4     2.112   1.408 ]\n",
            " [13.7     3.528   1.9992]\n",
            " [15.      3.824   2.432 ]\n",
            " [16.2     4.5924  2.6316]\n",
            " [17.4     4.588   2.9415]\n",
            " [18.      5.2224  3.3216]\n",
            " [18.7     5.1992  3.1234]\n",
            " [19.      5.6358  3.0502]\n",
            " [19.6     5.1376  3.0368]\n",
            " [20.      5.082   2.772 ]\n",
            " [21.      5.6925  3.555 ]\n",
            " [21.      5.9175  3.3075]\n",
            " [21.      5.6925  3.6675]\n",
            " [21.3     6.384   3.534 ]\n",
            " [22.      6.11    3.4075]\n",
            " [22.      5.64    3.525 ]\n",
            " [22.      6.11    3.525 ]\n",
            " [22.      5.875   3.525 ]\n",
            " [22.      5.5225  3.995 ]\n",
            " [22.5     5.856   3.624 ]\n",
            " [22.5     6.792   3.624 ]\n",
            " [22.7     5.9532  3.63  ]\n",
            " [23.      5.2185  3.626 ]\n",
            " [23.5     6.275   3.725 ]\n",
            " [24.      7.293   3.723 ]\n",
            " [24.      6.375   3.825 ]\n",
            " [24.6     6.7334  4.1658]\n",
            " [25.      6.4395  3.6835]\n",
            " [25.6     6.561   4.239 ]\n",
            " [26.5     7.168   4.144 ]\n",
            " [27.3     8.323   5.1373]\n",
            " [27.5     7.1672  4.335 ]\n",
            " [27.5     7.0516  4.335 ]\n",
            " [27.5     7.2828  4.5662]\n",
            " [28.      7.8204  4.2042]\n",
            " [28.7     7.5852  4.6354]\n",
            " [30.      7.6156  4.7716]\n",
            " [32.8    10.03    6.018 ]\n",
            " [34.5    10.2565  6.3875]\n",
            " [35.     11.4884  7.7957]\n",
            " [36.5    10.881   6.864 ]\n",
            " [36.     10.6091  6.7408]\n",
            " [37.     10.835   6.2646]\n",
            " [37.     10.5717  6.3666]\n",
            " [39.     11.1366  7.4934]\n",
            " [39.     11.1366  6.003 ]\n",
            " [39.     12.4313  7.3514]\n",
            " [40.     11.9286  7.1064]\n",
            " [40.     11.73    7.225 ]\n",
            " [40.     12.3808  7.4624]\n",
            " [40.     11.135   6.63  ]\n",
            " [42.     12.8002  6.8684]\n",
            " [43.     11.9328  7.2772]\n",
            " [43.     12.5125  7.4165]\n",
            " [43.5    12.604   8.142 ]\n",
            " [44.     12.4888  7.5958]]\n"
          ]
        }
      ]
    },
    {
      "cell_type": "code",
      "source": [
        "perch_weight"
      ],
      "metadata": {
        "id": "lEzHmkYkP_xq",
        "colab": {
          "base_uri": "https://localhost:8080/"
        },
        "outputId": "06ca9089-8338-4133-a607-dc8d336344ab"
      },
      "execution_count": null,
      "outputs": [
        {
          "output_type": "execute_result",
          "data": {
            "text/plain": [
              "array([   5.9,   32. ,   40. ,   51.5,   70. ,  100. ,   78. ,   80. ,\n",
              "         85. ,   85. ,  110. ,  115. ,  125. ,  130. ,  120. ,  120. ,\n",
              "        130. ,  135. ,  110. ,  130. ,  150. ,  145. ,  150. ,  170. ,\n",
              "        225. ,  145. ,  188. ,  180. ,  197. ,  218. ,  300. ,  260. ,\n",
              "        265. ,  250. ,  250. ,  300. ,  320. ,  514. ,  556. ,  840. ,\n",
              "        685. ,  700. ,  700. ,  690. ,  900. ,  650. ,  820. ,  850. ,\n",
              "        900. , 1015. ,  820. , 1100. , 1000. , 1100. , 1000. , 1000. ])"
            ]
          },
          "metadata": {},
          "execution_count": 41
        }
      ]
    },
    {
      "cell_type": "code",
      "source": [
        "train_input, test_input, train_target, test_target = train_test_split(perch_full, perch_weight)"
      ],
      "metadata": {
        "id": "_JBVZCUMQIaR"
      },
      "execution_count": null,
      "outputs": []
    },
    {
      "cell_type": "code",
      "source": [
        "from sklearn.preprocessing import PolynomialFeatures"
      ],
      "metadata": {
        "id": "aNA7UWWXQWLO"
      },
      "execution_count": null,
      "outputs": []
    },
    {
      "cell_type": "code",
      "source": [
        "poly = PolynomialFeatures()\n",
        "poly.fit([[2,3]]) #x1 = 2 / x2 = 3\n",
        "poly.transform([[2,3]]) #[1, x1, x2, x1^, x1*x2, x2^]"
      ],
      "metadata": {
        "colab": {
          "base_uri": "https://localhost:8080/"
        },
        "id": "ixP5i0UTQoMv",
        "outputId": "c89d0ffa-9fa9-488f-dab7-226032c42846"
      },
      "execution_count": null,
      "outputs": [
        {
          "output_type": "execute_result",
          "data": {
            "text/plain": [
              "array([[1., 2., 3., 4., 6., 9.]])"
            ]
          },
          "metadata": {},
          "execution_count": 44
        }
      ]
    },
    {
      "cell_type": "code",
      "source": [
        "poly = PolynomialFeatures(degree=3)\n",
        "poly.fit([[2,3]])\n",
        "poly.transform([[2,3]]) "
      ],
      "metadata": {
        "colab": {
          "base_uri": "https://localhost:8080/"
        },
        "id": "cBBaAMEMQ396",
        "outputId": "3e5af1f8-13ab-447b-f4b3-a73a7443e07b"
      },
      "execution_count": null,
      "outputs": [
        {
          "output_type": "execute_result",
          "data": {
            "text/plain": [
              "array([[ 1.,  2.,  3.,  4.,  6.,  9.,  8., 12., 18., 27.]])"
            ]
          },
          "metadata": {},
          "execution_count": 45
        }
      ]
    },
    {
      "cell_type": "code",
      "source": [
        "poly = PolynomialFeatures(degree=3, include_bias=False) # 결과값에서 상수(1)를 빼라\n",
        "poly.fit([[2,3]])\n",
        "poly.transform([[2,3]]) "
      ],
      "metadata": {
        "colab": {
          "base_uri": "https://localhost:8080/"
        },
        "id": "EzBaNvUNRpuT",
        "outputId": "b9c78402-067b-442d-cea4-ed6f47e6e878"
      },
      "execution_count": null,
      "outputs": [
        {
          "output_type": "execute_result",
          "data": {
            "text/plain": [
              "array([[ 2.,  3.,  4.,  6.,  9.,  8., 12., 18., 27.]])"
            ]
          },
          "metadata": {},
          "execution_count": 46
        }
      ]
    },
    {
      "cell_type": "code",
      "source": [
        "print(poly.get_feature_names())"
      ],
      "metadata": {
        "colab": {
          "base_uri": "https://localhost:8080/"
        },
        "id": "jG0QcqSoRtDV",
        "outputId": "f68d3050-9994-4d40-c0ad-33741248907b"
      },
      "execution_count": null,
      "outputs": [
        {
          "output_type": "stream",
          "name": "stdout",
          "text": [
            "['x0', 'x1', 'x0^2', 'x0 x1', 'x1^2', 'x0^3', 'x0^2 x1', 'x0 x1^2', 'x1^3']\n"
          ]
        },
        {
          "output_type": "stream",
          "name": "stderr",
          "text": [
            "/usr/local/lib/python3.7/dist-packages/sklearn/utils/deprecation.py:87: FutureWarning: Function get_feature_names is deprecated; get_feature_names is deprecated in 1.0 and will be removed in 1.2. Please use get_feature_names_out instead.\n",
            "  warnings.warn(msg, category=FutureWarning)\n"
          ]
        }
      ]
    },
    {
      "cell_type": "code",
      "source": [
        "poly = PolynomialFeatures(include_bias=False)\n",
        "poly.fit([[1,2,3]])\n",
        "train_poly = poly.transform(train_input)\n",
        "test_poly = poly.transform(test_input)\n",
        "print(train_poly.shape)"
      ],
      "metadata": {
        "id": "FnINU2KnSWlM",
        "colab": {
          "base_uri": "https://localhost:8080/"
        },
        "outputId": "afc528a7-d429-4d39-b053-c291d3327c20"
      },
      "execution_count": null,
      "outputs": [
        {
          "output_type": "stream",
          "name": "stdout",
          "text": [
            "(42, 9)\n"
          ]
        }
      ]
    },
    {
      "cell_type": "code",
      "source": [
        "lr = LinearRegression()\n",
        "lr.fit(train_poly, train_target)\n",
        "print(lr.score(train_poly, train_target))\n",
        "print(lr.score(test_poly, test_target))"
      ],
      "metadata": {
        "colab": {
          "base_uri": "https://localhost:8080/"
        },
        "id": "xj2_WinWoS4R",
        "outputId": "8497e612-1005-41dc-aebe-068cd6f08d32"
      },
      "execution_count": null,
      "outputs": [
        {
          "output_type": "stream",
          "name": "stdout",
          "text": [
            "0.99019409692988\n",
            "0.9677129348720285\n"
          ]
        }
      ]
    },
    {
      "cell_type": "code",
      "source": [
        "poly5 = PolynomialFeatures(include_bias=False, degree=5)\n",
        "poly5.fit([[1,2,3]])\n",
        "train_poly5 = poly5.transform(train_input)\n",
        "test_poly5 = poly5.transform(test_input)\n",
        "print(train_poly5.shape)"
      ],
      "metadata": {
        "colab": {
          "base_uri": "https://localhost:8080/"
        },
        "id": "oSZtDiY8pMKS",
        "outputId": "900d1341-3785-47b3-ef0d-871864a26cf9"
      },
      "execution_count": null,
      "outputs": [
        {
          "output_type": "stream",
          "name": "stdout",
          "text": [
            "(42, 55)\n"
          ]
        }
      ]
    },
    {
      "cell_type": "code",
      "source": [
        "lr = LinearRegression()\n",
        "lr.fit(train_poly5, train_target)\n",
        "print(lr.score(train_poly5, train_target))\n",
        "print(lr.score(test_poly5, test_target))"
      ],
      "metadata": {
        "colab": {
          "base_uri": "https://localhost:8080/"
        },
        "id": "UIbRej9OoyZi",
        "outputId": "61ee1d31-ca52-4f2c-ee51-240bd43a3570"
      },
      "execution_count": null,
      "outputs": [
        {
          "output_type": "stream",
          "name": "stdout",
          "text": [
            "0.9999999999999998\n",
            "0.10626123125065745\n"
          ]
        }
      ]
    },
    {
      "cell_type": "code",
      "source": [
        "from sklearn.preprocessing import StandardScaler"
      ],
      "metadata": {
        "id": "H2ERQNjIpjZK"
      },
      "execution_count": null,
      "outputs": []
    },
    {
      "cell_type": "code",
      "source": [
        "ss = StandardScaler()\n",
        "ss.fit([[1,2], [1,2], [2,3], [3,4], [3,1]])\n",
        "print(ss.transform([[1,2], [1,2], [2,3], [3,4], [3,1]]))"
      ],
      "metadata": {
        "colab": {
          "base_uri": "https://localhost:8080/"
        },
        "id": "OOYuf3EhraIu",
        "outputId": "04dbb16f-a15b-4010-f5ac-1b1e0b76bb56"
      },
      "execution_count": null,
      "outputs": [
        {
          "output_type": "stream",
          "name": "stdout",
          "text": [
            "[[-1.11803399 -0.39223227]\n",
            " [-1.11803399 -0.39223227]\n",
            " [ 0.          0.58834841]\n",
            " [ 1.11803399  1.56892908]\n",
            " [ 1.11803399 -1.37281295]]\n"
          ]
        }
      ]
    },
    {
      "cell_type": "code",
      "source": [
        "a = np.array([1,1,2,3,3])\n",
        "print(a.mean(), a.std())"
      ],
      "metadata": {
        "colab": {
          "base_uri": "https://localhost:8080/"
        },
        "id": "DHnTC95HsE_o",
        "outputId": "fe450b86-5ab8-44ba-b69b-7e83761969a2"
      },
      "execution_count": null,
      "outputs": [
        {
          "output_type": "stream",
          "name": "stdout",
          "text": [
            "2.0 0.8944271909999159\n"
          ]
        }
      ]
    },
    {
      "cell_type": "code",
      "source": [
        "print(a-a.mean()/a.std())"
      ],
      "metadata": {
        "colab": {
          "base_uri": "https://localhost:8080/"
        },
        "id": "vX3UBQ7isS7P",
        "outputId": "355443c8-9881-4686-99cb-057134db2126"
      },
      "execution_count": null,
      "outputs": [
        {
          "output_type": "stream",
          "name": "stdout",
          "text": [
            "[-1.23606798 -1.23606798 -0.23606798  0.76393202  0.76393202]\n"
          ]
        }
      ]
    },
    {
      "cell_type": "code",
      "source": [
        "print(a-2.0/0.8944)"
      ],
      "metadata": {
        "colab": {
          "base_uri": "https://localhost:8080/"
        },
        "id": "74D0hm8tsXt-",
        "outputId": "d9448373-f5a6-4a1d-8f00-5ca3073f7fb6"
      },
      "execution_count": null,
      "outputs": [
        {
          "output_type": "stream",
          "name": "stdout",
          "text": [
            "[-1.23613596 -1.23613596 -0.23613596  0.76386404  0.76386404]\n"
          ]
        }
      ]
    },
    {
      "cell_type": "code",
      "source": [
        "ss = StandardScaler()\n",
        "ss.fit(train_poly)\n",
        "train_scaled = ss.transform(train_poly)\n",
        "test_scaled = ss.transform(test_poly)"
      ],
      "metadata": {
        "id": "DzUeA37at4Ip"
      },
      "execution_count": null,
      "outputs": []
    },
    {
      "cell_type": "code",
      "source": [
        "lr = LinearRegression()\n",
        "lr.fit(train_scaled, train_target)\n",
        "print(lr.coef_)"
      ],
      "metadata": {
        "colab": {
          "base_uri": "https://localhost:8080/"
        },
        "id": "ChrpSMeDuHXN",
        "outputId": "87008e66-0c32-4f0f-9a7d-61deffafbcef"
      },
      "execution_count": null,
      "outputs": [
        {
          "output_type": "stream",
          "name": "stdout",
          "text": [
            "[   97.75386986  -266.15346637   -60.20976616  -594.01007153\n",
            "   649.48382518   767.51790839  1784.26665681 -3624.72314073\n",
            "  1605.93165919]\n"
          ]
        }
      ]
    },
    {
      "cell_type": "code",
      "source": [
        "from sklearn.linear_model import Ridge"
      ],
      "metadata": {
        "id": "b4yAU9Ubuhnq"
      },
      "execution_count": null,
      "outputs": []
    },
    {
      "cell_type": "code",
      "source": [
        "ridge = Ridge()\n",
        "ridge.fit(train_scaled, train_target)\n",
        "print(ridge.coef_)"
      ],
      "metadata": {
        "colab": {
          "base_uri": "https://localhost:8080/"
        },
        "id": "ZcTTUgrT1Of_",
        "outputId": "4cac7cb7-1d18-4c20-de0a-df3fa10a1398"
      },
      "execution_count": null,
      "outputs": [
        {
          "output_type": "stream",
          "name": "stdout",
          "text": [
            "[-27.98095987 -38.15409007 -36.17004454  84.20778765  80.92057451\n",
            "  73.21400642  77.82818692  68.27215449  63.183518  ]\n"
          ]
        }
      ]
    },
    {
      "cell_type": "code",
      "source": [
        "print(ridge.score(train_scaled, train_target))\n",
        "print(ridge.score(test_scaled, test_target))"
      ],
      "metadata": {
        "colab": {
          "base_uri": "https://localhost:8080/"
        },
        "id": "3mFw50Zo1d2W",
        "outputId": "f5ab5bc9-f13d-493b-f924-414f147d0304"
      },
      "execution_count": null,
      "outputs": [
        {
          "output_type": "stream",
          "name": "stdout",
          "text": [
            "0.9855355031291678\n",
            "0.9849379026821109\n"
          ]
        }
      ]
    },
    {
      "cell_type": "code",
      "source": [
        "from sklearn.linear_model import Lasso"
      ],
      "metadata": {
        "id": "KTjOTMIv1wxZ"
      },
      "execution_count": null,
      "outputs": []
    },
    {
      "cell_type": "code",
      "source": [
        "lasso = Lasso()\n",
        "lasso.fit(train_scaled, train_target)\n",
        "print(lasso.coef_)"
      ],
      "metadata": {
        "colab": {
          "base_uri": "https://localhost:8080/"
        },
        "id": "SOAiglKW2LXP",
        "outputId": "ea290f4e-4e40-4e9c-ced6-58ed8764832f"
      },
      "execution_count": null,
      "outputs": [
        {
          "output_type": "stream",
          "name": "stdout",
          "text": [
            "[-41.66317902 -92.28357207  -0.         103.44060735 137.59496357\n",
            "  24.48265393 124.48720394   0.          90.43783443]\n"
          ]
        },
        {
          "output_type": "stream",
          "name": "stderr",
          "text": [
            "/usr/local/lib/python3.7/dist-packages/sklearn/linear_model/_coordinate_descent.py:648: ConvergenceWarning: Objective did not converge. You might want to increase the number of iterations, check the scale of the features or consider increasing regularisation. Duality gap: 8.347e+02, tolerance: 5.138e+02\n",
            "  coef_, l1_reg, l2_reg, X, y, max_iter, tol, rng, random, positive\n"
          ]
        }
      ]
    },
    {
      "cell_type": "code",
      "source": [
        "print(lasso.score(train_scaled, train_target))\n",
        "print(lasso.score(test_scaled, test_target))"
      ],
      "metadata": {
        "colab": {
          "base_uri": "https://localhost:8080/"
        },
        "id": "6zR4Ds5P2Rxb",
        "outputId": "df536f05-1f77-438d-d7b7-63d36154e6b9"
      },
      "execution_count": null,
      "outputs": [
        {
          "output_type": "stream",
          "name": "stdout",
          "text": [
            "0.9870048279184815\n",
            "0.9837553825366065\n"
          ]
        }
      ]
    },
    {
      "cell_type": "code",
      "source": [
        ""
      ],
      "metadata": {
        "id": "kARyzCro3prQ"
      },
      "execution_count": null,
      "outputs": []
    },
    {
      "cell_type": "markdown",
      "source": [
        "#### 하이퍼 파라미터 값을 그라디언트하게 전달하면서 적절한 값을 찾아라."
      ],
      "metadata": {
        "id": "u0xaxzyZ3n5D"
      }
    },
    {
      "cell_type": "code",
      "source": [
        "train_score = []\n",
        "test_score = []\n",
        "\n",
        "alpha_list = [0.001, 0.01, 0.1, 1, 10, 100]\n",
        "for alpha in alpha_list:\n",
        "    ridge = Ridge(alpha=alpha)\n",
        "    ridge.fit(train_scaled, train_target)\n",
        "    train_score.append(ridge.score(train_scaled, train_target))\n",
        "    test_score.append(ridge.score(test_scaled, test_target))\n",
        "print(train_score, test_score)"
      ],
      "metadata": {
        "colab": {
          "base_uri": "https://localhost:8080/"
        },
        "id": "caGHZbPU2jRZ",
        "outputId": "f430c876-cf0b-4386-eaf8-b517eb3f2113"
      },
      "execution_count": null,
      "outputs": [
        {
          "output_type": "stream",
          "name": "stdout",
          "text": [
            "[0.9894171210705593, 0.9886427127983067, 0.9882291216631598, 0.9855355031291678, 0.9728819491717042, 0.9247809601073136] [0.9752820909457244, 0.9769448560750889, 0.9786990424365717, 0.9849379026821109, 0.9883066995736716, 0.9500733551818001]\n"
          ]
        }
      ]
    },
    {
      "cell_type": "code",
      "source": [
        "plt.plot(np.log10(alpha_list), train_score, label='train score')\n",
        "plt.plot(np.log10(alpha_list), test_score, label='test score')\n",
        "plt.legend()\n",
        "plt.show()"
      ],
      "metadata": {
        "colab": {
          "base_uri": "https://localhost:8080/",
          "height": 265
        },
        "id": "0PugD4Fe4Zlo",
        "outputId": "ad3b75ab-a645-414e-d8a0-18884504d5ff"
      },
      "execution_count": null,
      "outputs": [
        {
          "output_type": "display_data",
          "data": {
            "text/plain": [
              "<Figure size 432x288 with 1 Axes>"
            ],
            "image/png": "[encoded data removed]"
          },
          "metadata": {
            "needs_background": "light"
          }
        }
      ]
    },
    {
      "cell_type": "code",
      "source": [
        "ridge = Ridge(alpha=0.1)\n",
        "ridge.fit(train_scaled, train_target)\n",
        "print(ridge.score(train_scaled, train_target))\n",
        "print(ridge.score(test_scaled, test_target))"
      ],
      "metadata": {
        "colab": {
          "base_uri": "https://localhost:8080/"
        },
        "id": "XrLtdMj25FAR",
        "outputId": "7754f755-335a-4a5f-f773-141fbbf1ec8b"
      },
      "execution_count": null,
      "outputs": [
        {
          "output_type": "stream",
          "name": "stdout",
          "text": [
            "0.9882291216631598\n",
            "0.9786990424365717\n"
          ]
        }
      ]
    },
    {
      "cell_type": "code",
      "source": [
        "train_score = []\n",
        "test_score = []\n",
        "\n",
        "alpha_list = [0.001, 0.01, 0.1, 1, 10, 100]\n",
        "for alpha in alpha_list:\n",
        "    lasso = Lasso(alpha=alpha, max_iter=1000000)\n",
        "    lasso.fit(train_scaled, train_target)\n",
        "    train_score.append(lasso.score(train_scaled, train_target))\n",
        "    test_score.append(lasso.score(test_scaled, test_target))\n",
        "print(train_score, test_score)"
      ],
      "metadata": {
        "colab": {
          "base_uri": "https://localhost:8080/"
        },
        "id": "C47VleDG5j5T",
        "outputId": "0d24d5b0-5cd2-44b1-ec0d-fef71bd4d698"
      },
      "execution_count": null,
      "outputs": [
        {
          "output_type": "stream",
          "name": "stdout",
          "text": [
            "[0.9901910959639488, 0.9898167371991801, 0.9885574089669535, 0.9870901236143268, 0.9786400660604722, 0.897269984315456] [0.9682855304887121, 0.9741560340405653, 0.9775676151926583, 0.9835836337785356, 0.9907035406073654, 0.898060186841353]\n"
          ]
        }
      ]
    },
    {
      "cell_type": "code",
      "source": [
        "plt.plot(np.log10(alpha_list), train_score, label='train score')\n",
        "plt.plot(np.log10(alpha_list), test_score, label='test score')\n",
        "plt.legend()\n",
        "plt.show()"
      ],
      "metadata": {
        "colab": {
          "base_uri": "https://localhost:8080/",
          "height": 265
        },
        "id": "y8SiqsQZ6DXY",
        "outputId": "a4625a9a-8e15-49c4-cf85-7947dcc74e56"
      },
      "execution_count": null,
      "outputs": [
        {
          "output_type": "display_data",
          "data": {
            "text/plain": [
              "<Figure size 432x288 with 1 Axes>"
            ],
            "image/png": "[encoded data removed]"
          },
          "metadata": {
            "needs_background": "light"
          }
        }
      ]
    },
    {
      "cell_type": "code",
      "source": [
        "lasso = Lasso(alpha=1, max_iter=1000000)\n",
        "lasso.fit(train_scaled, train_target)\n",
        "print(lasso.score(train_scaled, train_target))\n",
        "print(lasso.score(test_scaled, test_target))"
      ],
      "metadata": {
        "colab": {
          "base_uri": "https://localhost:8080/"
        },
        "id": "rMdzZXQ26Mrf",
        "outputId": "9aa20165-59ad-4068-a848-af3148c8368a"
      },
      "execution_count": null,
      "outputs": [
        {
          "output_type": "stream",
          "name": "stdout",
          "text": [
            "0.9870901236143268\n",
            "0.9835836337785356\n"
          ]
        }
      ]
    },
    {
      "cell_type": "code",
      "source": [
        ""
      ],
      "metadata": {
        "id": "4B44te7E6p0j"
      },
      "execution_count": null,
      "outputs": []
    },
    {
      "cell_type": "markdown",
      "source": [
        "## 경사하강법"
      ],
      "metadata": {
        "id": "TeSc0wilAv_C"
      }
    },
    {
      "cell_type": "code",
      "source": [
        "ex = [2,4,7,1,9,6]\n",
        "ex_ys = [8,11,24,5,30,20]\n",
        "ex_xs = [[x] for x in ex] #독립변수 형태로 변환\n",
        "plt.figure(figsize=(4,4))\n",
        "plt.plot(ex, ex_ys, '.')\n",
        "plt.xlim(0,30)\n",
        "plt.ylim(0,30)\n",
        "plt.show()"
      ],
      "metadata": {
        "colab": {
          "base_uri": "https://localhost:8080/",
          "height": 269
        },
        "id": "D9XMvP_dAxQN",
        "outputId": "2e06057e-de80-41fa-8d68-9d5139dcd965"
      },
      "execution_count": null,
      "outputs": [
        {
          "output_type": "display_data",
          "data": {
            "text/plain": [
              "<Figure size 288x288 with 1 Axes>"
            ],
            "image/png": "[encoded data removed]"
          },
          "metadata": {
            "needs_background": "light"
          }
        }
      ]
    },
    {
      "cell_type": "code",
      "source": [
        "plt.figure(figsize=(4,4))\n",
        "plt.plot(ex, ex_ys, '.')\n",
        "plt.plot([0,30],[2*0+2, 2*30+2], label='y=2x+2')\n",
        "plt.plot([0,30],[3*0+2, 3*30+2], label='y=3x+2')\n",
        "plt.plot([0,30],[4*0+2, 4*30+2], label='y=4x+2')\n",
        "plt.xlim(0,30)\n",
        "plt.ylim(0,30)\n",
        "plt.legend()\n",
        "plt.show()"
      ],
      "metadata": {
        "colab": {
          "base_uri": "https://localhost:8080/",
          "height": 269
        },
        "id": "6yHLzwizA9iF",
        "outputId": "7f6cd504-4a35-4823-f3c9-e47f6ab34f71"
      },
      "execution_count": null,
      "outputs": [
        {
          "output_type": "display_data",
          "data": {
            "text/plain": [
              "<Figure size 288x288 with 1 Axes>"
            ],
            "image/png": "[encoded data removed]"
          },
          "metadata": {
            "needs_background": "light"
          }
        }
      ]
    },
    {
      "cell_type": "code",
      "source": [
        "def mae(yp, y):\n",
        "    return np.mean(np.abs(yp-y))\n",
        "def mse(yp, y):\n",
        "    return np.mean(sum(yp-y)**2)"
      ],
      "metadata": {
        "id": "O8EnGue5BpCN"
      },
      "execution_count": null,
      "outputs": []
    },
    {
      "cell_type": "code",
      "source": [
        "yp = np.array([1,2,9])\n",
        "ya = np.array([2,3,4])\n",
        "print(mae(yp, ya), mse(yp, ya))"
      ],
      "metadata": {
        "colab": {
          "base_uri": "https://localhost:8080/"
        },
        "id": "8k0pAfd0CEsv",
        "outputId": "d81a6b92-8d75-4972-ef01-60ec2056f5e4"
      },
      "execution_count": null,
      "outputs": [
        {
          "output_type": "stream",
          "name": "stdout",
          "text": [
            "2.3333333333333335 9.0\n"
          ]
        }
      ]
    },
    {
      "cell_type": "code",
      "source": [
        "ex_arr = np.array(ex)\n",
        "ey_arr = np.array(ex_ys)\n",
        "mses=[]\n",
        "yp1 = 2*ex_arr+2\n",
        "mses.append(mse(yp1, ey_arr))\n",
        "yp2 = 3*ex_arr+2\n",
        "mses.append(mse(yp2, ey_arr))\n",
        "yp3 = 4*ex_arr+2\n",
        "mses.append(mse(yp3, ey_arr))\n",
        "print(mses)"
      ],
      "metadata": {
        "colab": {
          "base_uri": "https://localhost:8080/"
        },
        "id": "KCCwjtzkCRMK",
        "outputId": "01b767b6-4c19-4a55-84b4-d0605f45b330"
      },
      "execution_count": null,
      "outputs": [
        {
          "output_type": "stream",
          "name": "stdout",
          "text": [
            "[784.0, 1.0, 900.0]\n"
          ]
        }
      ]
    },
    {
      "cell_type": "code",
      "source": [
        "ex_arr = np.array(ex)\n",
        "ey_arr = np.array(ex_ys)\n",
        "mses=[]\n",
        "for w in np.arange(-2, 5, 0.1):\n",
        "    yp = w*ex_arr+2\n",
        "    mses.append(mse(yp, ey_arr))\n",
        "print(mses)\n",
        "print(np.argmin(mses))\n",
        "print(mses[50])"
      ],
      "metadata": {
        "colab": {
          "base_uri": "https://localhost:8080/"
        },
        "id": "MtOZIPwDDxWe",
        "outputId": "36a0bb34-a075-4c3c-a776-22906e06249d"
      },
      "execution_count": null,
      "outputs": [
        {
          "output_type": "stream",
          "name": "stdout",
          "text": [
            "[20736.0, 19909.21, 19099.239999999998, 18306.089999999997, 17529.760000000002, 16770.25, 16027.559999999998, 15301.689999999993, 14592.639999999996, 13900.409999999994, 13224.999999999993, 12566.409999999996, 11924.639999999994, 11299.68999999999, 10691.559999999996, 10100.249999999995, 9525.759999999991, 8968.089999999993, 8427.239999999993, 7903.209999999994, 7395.99999999999, 6905.609999999992, 6432.039999999992, 5975.289999999991, 5535.359999999992, 5112.249999999992, 4705.959999999992, 4316.489999999991, 3943.8399999999906, 3588.0099999999907, 3248.999999999991, 2926.8099999999918, 2621.4399999999914, 2332.889999999992, 2061.159999999992, 1806.2499999999927, 1568.1599999999928, 1346.8899999999928, 1142.4399999999935, 954.8099999999938, 783.9999999999942, 630.0099999999952, 492.8399999999951, 372.48999999999523, 268.9599999999962, 182.24999999999721, 112.35999999999754, 59.28999999999794, 23.039999999998813, 3.6099999999995696, 1.0000000000002611, 15.210000000001125, 46.24000000000182, 94.0900000000024, 158.76000000000343, 240.2500000000048, 338.56000000000546, 453.6900000000058, 585.6400000000074, 734.410000000009, 900.0000000000092, 1082.4100000000096, 1281.640000000011, 1497.6900000000135, 1730.5600000000138, 1980.2500000000139, 2246.7600000000166, 2530.090000000019, 2830.2400000000184, 3147.2100000000187]\n",
            "50\n",
            "1.0000000000002611\n"
          ]
        }
      ]
    },
    {
      "cell_type": "code",
      "source": [
        "plt.plot(np.arange(-2,5,0.1), mses)\n",
        "plt.xlabel('w')\n",
        "plt.ylabel('mse')\n",
        "plt.show()"
      ],
      "metadata": {
        "colab": {
          "base_uri": "https://localhost:8080/",
          "height": 279
        },
        "id": "yMf-ke5NEApX",
        "outputId": "cdbcc7dd-b784-468f-af87-bf7ffa53bc78"
      },
      "execution_count": null,
      "outputs": [
        {
          "output_type": "display_data",
          "data": {
            "text/plain": [
              "<Figure size 432x288 with 1 Axes>"
            ],
            "image/png": "[encoded data removed]"
          },
          "metadata": {
            "needs_background": "light"
          }
        }
      ]
    },
    {
      "cell_type": "code",
      "source": [
        "def gradient(ys, xs, w, b):\n",
        "    yp = w * xs + b\n",
        "    error = ys - yp\n",
        "    wd = -(2 / len(xs)) * sum(xs * error)\n",
        "    bd = -(2/len(xs)) * sum(error)\n",
        "    return wd, bd"
      ],
      "metadata": {
        "id": "JcvW5PX0EmHy"
      },
      "execution_count": null,
      "outputs": []
    },
    {
      "cell_type": "code",
      "source": [
        "def gradient_descent(xs, ys, lr=0.001, epochs=1000):\n",
        "    wphl = [] #학습 과정에서의 가중치와 편향을 보관\n",
        "    wp = np.random.uniform(-1,1) #초기 가중치를 랜덤하게 설정\n",
        "    bp = np.random.uniform(-1,1) #초기 편향을 랜덤하게 설정\n",
        "    for epoch in range(epochs):\n",
        "        wd, bd = gradient(ys, xs, wp, bp) #가중치와 편향의 기울기를 계산\n",
        "        wp = wp - (wd * lr)\n",
        "        bp = bp - (bd * lr)\n",
        "        wphl.append([wp, bp])\n",
        "    return wp, bp, wphl #가중치, 편향, 히스토리 반환"
      ],
      "metadata": {
        "id": "c-xhmb-mH51r"
      },
      "execution_count": null,
      "outputs": []
    },
    {
      "cell_type": "code",
      "source": [
        "wp, bp, wphl = gradient_descent(ex_arr, ey_arr)\n",
        "for epoch, (wb, bd) in enumerate(wphl):\n",
        "    print(f'epoch:{epoch:04d} w:{wb:10.2f} b:{bd:10.2f}')"
      ],
      "metadata": {
        "colab": {
          "base_uri": "https://localhost:8080/"
        },
        "id": "PvBB0yxeJ7r4",
        "outputId": "865df0d2-3ba2-4acc-d276-4f228f0bbc03"
      },
      "execution_count": null,
      "outputs": [
        {
          "output_type": "stream",
          "name": "stdout",
          "text": [
            "epoch:0000 w:      0.93 b:     -0.88\n",
            "epoch:0001 w:      1.09 b:     -0.86\n",
            "epoch:0002 w:      1.24 b:     -0.83\n",
            "epoch:0003 w:      1.38 b:     -0.81\n",
            "epoch:0004 w:      1.50 b:     -0.79\n",
            "epoch:0005 w:      1.63 b:     -0.77\n",
            "epoch:0006 w:      1.74 b:     -0.75\n",
            "epoch:0007 w:      1.85 b:     -0.73\n",
            "epoch:0008 w:      1.95 b:     -0.72\n",
            "epoch:0009 w:      2.04 b:     -0.70\n",
            "epoch:0010 w:      2.13 b:     -0.69\n",
            "epoch:0011 w:      2.21 b:     -0.67\n",
            "epoch:0012 w:      2.29 b:     -0.66\n",
            "epoch:0013 w:      2.36 b:     -0.65\n",
            "epoch:0014 w:      2.42 b:     -0.64\n",
            "epoch:0015 w:      2.49 b:     -0.63\n",
            "epoch:0016 w:      2.55 b:     -0.62\n",
            "epoch:0017 w:      2.60 b:     -0.61\n",
            "epoch:0018 w:      2.65 b:     -0.60\n",
            "epoch:0019 w:      2.70 b:     -0.59\n",
            "epoch:0020 w:      2.74 b:     -0.58\n",
            "epoch:0021 w:      2.79 b:     -0.58\n",
            "epoch:0022 w:      2.83 b:     -0.57\n",
            "epoch:0023 w:      2.86 b:     -0.56\n",
            "epoch:0024 w:      2.90 b:     -0.56\n",
            "epoch:0025 w:      2.93 b:     -0.55\n",
            "epoch:0026 w:      2.96 b:     -0.54\n",
            "epoch:0027 w:      2.99 b:     -0.54\n",
            "epoch:0028 w:      3.02 b:     -0.53\n",
            "epoch:0029 w:      3.04 b:     -0.53\n",
            "epoch:0030 w:      3.06 b:     -0.53\n",
            "epoch:0031 w:      3.09 b:     -0.52\n",
            "epoch:0032 w:      3.11 b:     -0.52\n",
            "epoch:0033 w:      3.13 b:     -0.51\n",
            "epoch:0034 w:      3.14 b:     -0.51\n",
            "epoch:0035 w:      3.16 b:     -0.51\n",
            "epoch:0036 w:      3.18 b:     -0.50\n",
            "epoch:0037 w:      3.19 b:     -0.50\n",
            "epoch:0038 w:      3.20 b:     -0.50\n",
            "epoch:0039 w:      3.22 b:     -0.50\n",
            "epoch:0040 w:      3.23 b:     -0.49\n",
            "epoch:0041 w:      3.24 b:     -0.49\n",
            "epoch:0042 w:      3.25 b:     -0.49\n",
            "epoch:0043 w:      3.26 b:     -0.49\n",
            "epoch:0044 w:      3.27 b:     -0.48\n",
            "epoch:0045 w:      3.28 b:     -0.48\n",
            "epoch:0046 w:      3.29 b:     -0.48\n",
            "epoch:0047 w:      3.29 b:     -0.48\n",
            "epoch:0048 w:      3.30 b:     -0.48\n",
            "epoch:0049 w:      3.31 b:     -0.47\n",
            "epoch:0050 w:      3.31 b:     -0.47\n",
            "epoch:0051 w:      3.32 b:     -0.47\n",
            "epoch:0052 w:      3.32 b:     -0.47\n",
            "epoch:0053 w:      3.33 b:     -0.47\n",
            "epoch:0054 w:      3.33 b:     -0.47\n",
            "epoch:0055 w:      3.34 b:     -0.47\n",
            "epoch:0056 w:      3.34 b:     -0.46\n",
            "epoch:0057 w:      3.35 b:     -0.46\n",
            "epoch:0058 w:      3.35 b:     -0.46\n",
            "epoch:0059 w:      3.35 b:     -0.46\n",
            "epoch:0060 w:      3.36 b:     -0.46\n",
            "epoch:0061 w:      3.36 b:     -0.46\n",
            "epoch:0062 w:      3.36 b:     -0.46\n",
            "epoch:0063 w:      3.36 b:     -0.46\n",
            "epoch:0064 w:      3.37 b:     -0.46\n",
            "epoch:0065 w:      3.37 b:     -0.45\n",
            "epoch:0066 w:      3.37 b:     -0.45\n",
            "epoch:0067 w:      3.37 b:     -0.45\n",
            "epoch:0068 w:      3.37 b:     -0.45\n",
            "epoch:0069 w:      3.38 b:     -0.45\n",
            "epoch:0070 w:      3.38 b:     -0.45\n",
            "epoch:0071 w:      3.38 b:     -0.45\n",
            "epoch:0072 w:      3.38 b:     -0.45\n",
            "epoch:0073 w:      3.38 b:     -0.45\n",
            "epoch:0074 w:      3.38 b:     -0.45\n",
            "epoch:0075 w:      3.38 b:     -0.44\n",
            "epoch:0076 w:      3.39 b:     -0.44\n",
            "epoch:0077 w:      3.39 b:     -0.44\n",
            "epoch:0078 w:      3.39 b:     -0.44\n",
            "epoch:0079 w:      3.39 b:     -0.44\n",
            "epoch:0080 w:      3.39 b:     -0.44\n",
            "epoch:0081 w:      3.39 b:     -0.44\n",
            "epoch:0082 w:      3.39 b:     -0.44\n",
            "epoch:0083 w:      3.39 b:     -0.44\n",
            "epoch:0084 w:      3.39 b:     -0.44\n",
            "epoch:0085 w:      3.39 b:     -0.44\n",
            "epoch:0086 w:      3.39 b:     -0.44\n",
            "epoch:0087 w:      3.39 b:     -0.44\n",
            "epoch:0088 w:      3.39 b:     -0.43\n",
            "epoch:0089 w:      3.39 b:     -0.43\n",
            "epoch:0090 w:      3.39 b:     -0.43\n",
            "epoch:0091 w:      3.39 b:     -0.43\n",
            "epoch:0092 w:      3.39 b:     -0.43\n",
            "epoch:0093 w:      3.39 b:     -0.43\n",
            "epoch:0094 w:      3.39 b:     -0.43\n",
            "epoch:0095 w:      3.40 b:     -0.43\n",
            "epoch:0096 w:      3.40 b:     -0.43\n",
            "epoch:0097 w:      3.40 b:     -0.43\n",
            "epoch:0098 w:      3.40 b:     -0.43\n",
            "epoch:0099 w:      3.40 b:     -0.43\n",
            "epoch:0100 w:      3.40 b:     -0.43\n",
            "epoch:0101 w:      3.40 b:     -0.43\n",
            "epoch:0102 w:      3.40 b:     -0.42\n",
            "epoch:0103 w:      3.40 b:     -0.42\n",
            "epoch:0104 w:      3.40 b:     -0.42\n",
            "epoch:0105 w:      3.40 b:     -0.42\n",
            "epoch:0106 w:      3.40 b:     -0.42\n",
            "epoch:0107 w:      3.40 b:     -0.42\n",
            "epoch:0108 w:      3.40 b:     -0.42\n",
            "epoch:0109 w:      3.40 b:     -0.42\n",
            "epoch:0110 w:      3.40 b:     -0.42\n",
            "epoch:0111 w:      3.40 b:     -0.42\n",
            "epoch:0112 w:      3.40 b:     -0.42\n",
            "epoch:0113 w:      3.40 b:     -0.42\n",
            "epoch:0114 w:      3.40 b:     -0.42\n",
            "epoch:0115 w:      3.40 b:     -0.42\n",
            "epoch:0116 w:      3.40 b:     -0.42\n",
            "epoch:0117 w:      3.40 b:     -0.41\n",
            "epoch:0118 w:      3.40 b:     -0.41\n",
            "epoch:0119 w:      3.40 b:     -0.41\n",
            "epoch:0120 w:      3.40 b:     -0.41\n",
            "epoch:0121 w:      3.40 b:     -0.41\n",
            "epoch:0122 w:      3.40 b:     -0.41\n",
            "epoch:0123 w:      3.40 b:     -0.41\n",
            "epoch:0124 w:      3.40 b:     -0.41\n",
            "epoch:0125 w:      3.40 b:     -0.41\n",
            "epoch:0126 w:      3.40 b:     -0.41\n",
            "epoch:0127 w:      3.40 b:     -0.41\n",
            "epoch:0128 w:      3.40 b:     -0.41\n",
            "epoch:0129 w:      3.40 b:     -0.41\n",
            "epoch:0130 w:      3.40 b:     -0.41\n",
            "epoch:0131 w:      3.40 b:     -0.41\n",
            "epoch:0132 w:      3.40 b:     -0.40\n",
            "epoch:0133 w:      3.40 b:     -0.40\n",
            "epoch:0134 w:      3.40 b:     -0.40\n",
            "epoch:0135 w:      3.40 b:     -0.40\n",
            "epoch:0136 w:      3.40 b:     -0.40\n",
            "epoch:0137 w:      3.40 b:     -0.40\n",
            "epoch:0138 w:      3.40 b:     -0.40\n",
            "epoch:0139 w:      3.39 b:     -0.40\n",
            "epoch:0140 w:      3.39 b:     -0.40\n",
            "epoch:0141 w:      3.39 b:     -0.40\n",
            "epoch:0142 w:      3.39 b:     -0.40\n",
            "epoch:0143 w:      3.39 b:     -0.40\n",
            "epoch:0144 w:      3.39 b:     -0.40\n",
            "epoch:0145 w:      3.39 b:     -0.40\n",
            "epoch:0146 w:      3.39 b:     -0.40\n",
            "epoch:0147 w:      3.39 b:     -0.39\n",
            "epoch:0148 w:      3.39 b:     -0.39\n",
            "epoch:0149 w:      3.39 b:     -0.39\n",
            "epoch:0150 w:      3.39 b:     -0.39\n",
            "epoch:0151 w:      3.39 b:     -0.39\n",
            "epoch:0152 w:      3.39 b:     -0.39\n",
            "epoch:0153 w:      3.39 b:     -0.39\n",
            "epoch:0154 w:      3.39 b:     -0.39\n",
            "epoch:0155 w:      3.39 b:     -0.39\n",
            "epoch:0156 w:      3.39 b:     -0.39\n",
            "epoch:0157 w:      3.39 b:     -0.39\n",
            "epoch:0158 w:      3.39 b:     -0.39\n",
            "epoch:0159 w:      3.39 b:     -0.39\n",
            "epoch:0160 w:      3.39 b:     -0.39\n",
            "epoch:0161 w:      3.39 b:     -0.39\n",
            "epoch:0162 w:      3.39 b:     -0.39\n",
            "epoch:0163 w:      3.39 b:     -0.38\n",
            "epoch:0164 w:      3.39 b:     -0.38\n",
            "epoch:0165 w:      3.39 b:     -0.38\n",
            "epoch:0166 w:      3.39 b:     -0.38\n",
            "epoch:0167 w:      3.39 b:     -0.38\n",
            "epoch:0168 w:      3.39 b:     -0.38\n",
            "epoch:0169 w:      3.39 b:     -0.38\n",
            "epoch:0170 w:      3.39 b:     -0.38\n",
            "epoch:0171 w:      3.39 b:     -0.38\n",
            "epoch:0172 w:      3.39 b:     -0.38\n",
            "epoch:0173 w:      3.39 b:     -0.38\n",
            "epoch:0174 w:      3.39 b:     -0.38\n",
            "epoch:0175 w:      3.39 b:     -0.38\n",
            "epoch:0176 w:      3.39 b:     -0.38\n",
            "epoch:0177 w:      3.39 b:     -0.38\n",
            "epoch:0178 w:      3.39 b:     -0.38\n",
            "epoch:0179 w:      3.39 b:     -0.37\n",
            "epoch:0180 w:      3.39 b:     -0.37\n",
            "epoch:0181 w:      3.39 b:     -0.37\n",
            "epoch:0182 w:      3.39 b:     -0.37\n",
            "epoch:0183 w:      3.39 b:     -0.37\n",
            "epoch:0184 w:      3.39 b:     -0.37\n",
            "epoch:0185 w:      3.39 b:     -0.37\n",
            "epoch:0186 w:      3.39 b:     -0.37\n",
            "epoch:0187 w:      3.39 b:     -0.37\n",
            "epoch:0188 w:      3.39 b:     -0.37\n",
            "epoch:0189 w:      3.39 b:     -0.37\n",
            "epoch:0190 w:      3.39 b:     -0.37\n",
            "epoch:0191 w:      3.39 b:     -0.37\n",
            "epoch:0192 w:      3.39 b:     -0.37\n",
            "epoch:0193 w:      3.39 b:     -0.37\n",
            "epoch:0194 w:      3.39 b:     -0.36\n",
            "epoch:0195 w:      3.39 b:     -0.36\n",
            "epoch:0196 w:      3.39 b:     -0.36\n",
            "epoch:0197 w:      3.39 b:     -0.36\n",
            "epoch:0198 w:      3.39 b:     -0.36\n",
            "epoch:0199 w:      3.39 b:     -0.36\n",
            "epoch:0200 w:      3.39 b:     -0.36\n",
            "epoch:0201 w:      3.39 b:     -0.36\n",
            "epoch:0202 w:      3.39 b:     -0.36\n",
            "epoch:0203 w:      3.39 b:     -0.36\n",
            "epoch:0204 w:      3.39 b:     -0.36\n",
            "epoch:0205 w:      3.39 b:     -0.36\n",
            "epoch:0206 w:      3.39 b:     -0.36\n",
            "epoch:0207 w:      3.39 b:     -0.36\n",
            "epoch:0208 w:      3.39 b:     -0.36\n",
            "epoch:0209 w:      3.39 b:     -0.36\n",
            "epoch:0210 w:      3.39 b:     -0.35\n",
            "epoch:0211 w:      3.39 b:     -0.35\n",
            "epoch:0212 w:      3.39 b:     -0.35\n",
            "epoch:0213 w:      3.39 b:     -0.35\n",
            "epoch:0214 w:      3.39 b:     -0.35\n",
            "epoch:0215 w:      3.39 b:     -0.35\n",
            "epoch:0216 w:      3.39 b:     -0.35\n",
            "epoch:0217 w:      3.39 b:     -0.35\n",
            "epoch:0218 w:      3.39 b:     -0.35\n",
            "epoch:0219 w:      3.39 b:     -0.35\n",
            "epoch:0220 w:      3.39 b:     -0.35\n",
            "epoch:0221 w:      3.39 b:     -0.35\n",
            "epoch:0222 w:      3.39 b:     -0.35\n",
            "epoch:0223 w:      3.39 b:     -0.35\n",
            "epoch:0224 w:      3.39 b:     -0.35\n",
            "epoch:0225 w:      3.39 b:     -0.35\n",
            "epoch:0226 w:      3.39 b:     -0.35\n",
            "epoch:0227 w:      3.39 b:     -0.34\n",
            "epoch:0228 w:      3.39 b:     -0.34\n",
            "epoch:0229 w:      3.39 b:     -0.34\n",
            "epoch:0230 w:      3.39 b:     -0.34\n",
            "epoch:0231 w:      3.39 b:     -0.34\n",
            "epoch:0232 w:      3.39 b:     -0.34\n",
            "epoch:0233 w:      3.39 b:     -0.34\n",
            "epoch:0234 w:      3.39 b:     -0.34\n",
            "epoch:0235 w:      3.39 b:     -0.34\n",
            "epoch:0236 w:      3.39 b:     -0.34\n",
            "epoch:0237 w:      3.39 b:     -0.34\n",
            "epoch:0238 w:      3.39 b:     -0.34\n",
            "epoch:0239 w:      3.39 b:     -0.34\n",
            "epoch:0240 w:      3.39 b:     -0.34\n",
            "epoch:0241 w:      3.39 b:     -0.34\n",
            "epoch:0242 w:      3.39 b:     -0.34\n",
            "epoch:0243 w:      3.38 b:     -0.33\n",
            "epoch:0244 w:      3.38 b:     -0.33\n",
            "epoch:0245 w:      3.38 b:     -0.33\n",
            "epoch:0246 w:      3.38 b:     -0.33\n",
            "epoch:0247 w:      3.38 b:     -0.33\n",
            "epoch:0248 w:      3.38 b:     -0.33\n",
            "epoch:0249 w:      3.38 b:     -0.33\n",
            "epoch:0250 w:      3.38 b:     -0.33\n",
            "epoch:0251 w:      3.38 b:     -0.33\n",
            "epoch:0252 w:      3.38 b:     -0.33\n",
            "epoch:0253 w:      3.38 b:     -0.33\n",
            "epoch:0254 w:      3.38 b:     -0.33\n",
            "epoch:0255 w:      3.38 b:     -0.33\n",
            "epoch:0256 w:      3.38 b:     -0.33\n",
            "epoch:0257 w:      3.38 b:     -0.33\n",
            "epoch:0258 w:      3.38 b:     -0.33\n",
            "epoch:0259 w:      3.38 b:     -0.32\n",
            "epoch:0260 w:      3.38 b:     -0.32\n",
            "epoch:0261 w:      3.38 b:     -0.32\n",
            "epoch:0262 w:      3.38 b:     -0.32\n",
            "epoch:0263 w:      3.38 b:     -0.32\n",
            "epoch:0264 w:      3.38 b:     -0.32\n",
            "epoch:0265 w:      3.38 b:     -0.32\n",
            "epoch:0266 w:      3.38 b:     -0.32\n",
            "epoch:0267 w:      3.38 b:     -0.32\n",
            "epoch:0268 w:      3.38 b:     -0.32\n",
            "epoch:0269 w:      3.38 b:     -0.32\n",
            "epoch:0270 w:      3.38 b:     -0.32\n",
            "epoch:0271 w:      3.38 b:     -0.32\n",
            "epoch:0272 w:      3.38 b:     -0.32\n",
            "epoch:0273 w:      3.38 b:     -0.32\n",
            "epoch:0274 w:      3.38 b:     -0.32\n",
            "epoch:0275 w:      3.38 b:     -0.32\n",
            "epoch:0276 w:      3.38 b:     -0.31\n",
            "epoch:0277 w:      3.38 b:     -0.31\n",
            "epoch:0278 w:      3.38 b:     -0.31\n",
            "epoch:0279 w:      3.38 b:     -0.31\n",
            "epoch:0280 w:      3.38 b:     -0.31\n",
            "epoch:0281 w:      3.38 b:     -0.31\n",
            "epoch:0282 w:      3.38 b:     -0.31\n",
            "epoch:0283 w:      3.38 b:     -0.31\n",
            "epoch:0284 w:      3.38 b:     -0.31\n",
            "epoch:0285 w:      3.38 b:     -0.31\n",
            "epoch:0286 w:      3.38 b:     -0.31\n",
            "epoch:0287 w:      3.38 b:     -0.31\n",
            "epoch:0288 w:      3.38 b:     -0.31\n",
            "epoch:0289 w:      3.38 b:     -0.31\n",
            "epoch:0290 w:      3.38 b:     -0.31\n",
            "epoch:0291 w:      3.38 b:     -0.31\n",
            "epoch:0292 w:      3.38 b:     -0.30\n",
            "epoch:0293 w:      3.38 b:     -0.30\n",
            "epoch:0294 w:      3.38 b:     -0.30\n",
            "epoch:0295 w:      3.38 b:     -0.30\n",
            "epoch:0296 w:      3.38 b:     -0.30\n",
            "epoch:0297 w:      3.38 b:     -0.30\n",
            "epoch:0298 w:      3.38 b:     -0.30\n",
            "epoch:0299 w:      3.38 b:     -0.30\n",
            "epoch:0300 w:      3.38 b:     -0.30\n",
            "epoch:0301 w:      3.38 b:     -0.30\n",
            "epoch:0302 w:      3.38 b:     -0.30\n",
            "epoch:0303 w:      3.38 b:     -0.30\n",
            "epoch:0304 w:      3.38 b:     -0.30\n",
            "epoch:0305 w:      3.38 b:     -0.30\n",
            "epoch:0306 w:      3.38 b:     -0.30\n",
            "epoch:0307 w:      3.38 b:     -0.30\n",
            "epoch:0308 w:      3.38 b:     -0.30\n",
            "epoch:0309 w:      3.38 b:     -0.29\n",
            "epoch:0310 w:      3.38 b:     -0.29\n",
            "epoch:0311 w:      3.38 b:     -0.29\n",
            "epoch:0312 w:      3.38 b:     -0.29\n",
            "epoch:0313 w:      3.38 b:     -0.29\n",
            "epoch:0314 w:      3.38 b:     -0.29\n",
            "epoch:0315 w:      3.38 b:     -0.29\n",
            "epoch:0316 w:      3.38 b:     -0.29\n",
            "epoch:0317 w:      3.38 b:     -0.29\n",
            "epoch:0318 w:      3.38 b:     -0.29\n",
            "epoch:0319 w:      3.38 b:     -0.29\n",
            "epoch:0320 w:      3.38 b:     -0.29\n",
            "epoch:0321 w:      3.38 b:     -0.29\n",
            "epoch:0322 w:      3.38 b:     -0.29\n",
            "epoch:0323 w:      3.38 b:     -0.29\n",
            "epoch:0324 w:      3.38 b:     -0.29\n",
            "epoch:0325 w:      3.38 b:     -0.29\n",
            "epoch:0326 w:      3.38 b:     -0.28\n",
            "epoch:0327 w:      3.38 b:     -0.28\n",
            "epoch:0328 w:      3.38 b:     -0.28\n",
            "epoch:0329 w:      3.38 b:     -0.28\n",
            "epoch:0330 w:      3.38 b:     -0.28\n",
            "epoch:0331 w:      3.38 b:     -0.28\n",
            "epoch:0332 w:      3.38 b:     -0.28\n",
            "epoch:0333 w:      3.38 b:     -0.28\n",
            "epoch:0334 w:      3.38 b:     -0.28\n",
            "epoch:0335 w:      3.38 b:     -0.28\n",
            "epoch:0336 w:      3.38 b:     -0.28\n",
            "epoch:0337 w:      3.38 b:     -0.28\n",
            "epoch:0338 w:      3.38 b:     -0.28\n",
            "epoch:0339 w:      3.38 b:     -0.28\n",
            "epoch:0340 w:      3.38 b:     -0.28\n",
            "epoch:0341 w:      3.38 b:     -0.28\n",
            "epoch:0342 w:      3.38 b:     -0.28\n",
            "epoch:0343 w:      3.38 b:     -0.27\n",
            "epoch:0344 w:      3.38 b:     -0.27\n",
            "epoch:0345 w:      3.38 b:     -0.27\n",
            "epoch:0346 w:      3.38 b:     -0.27\n",
            "epoch:0347 w:      3.38 b:     -0.27\n",
            "epoch:0348 w:      3.38 b:     -0.27\n",
            "epoch:0349 w:      3.38 b:     -0.27\n",
            "epoch:0350 w:      3.37 b:     -0.27\n",
            "epoch:0351 w:      3.37 b:     -0.27\n",
            "epoch:0352 w:      3.37 b:     -0.27\n",
            "epoch:0353 w:      3.37 b:     -0.27\n",
            "epoch:0354 w:      3.37 b:     -0.27\n",
            "epoch:0355 w:      3.37 b:     -0.27\n",
            "epoch:0356 w:      3.37 b:     -0.27\n",
            "epoch:0357 w:      3.37 b:     -0.27\n",
            "epoch:0358 w:      3.37 b:     -0.27\n",
            "epoch:0359 w:      3.37 b:     -0.27\n",
            "epoch:0360 w:      3.37 b:     -0.26\n",
            "epoch:0361 w:      3.37 b:     -0.26\n",
            "epoch:0362 w:      3.37 b:     -0.26\n",
            "epoch:0363 w:      3.37 b:     -0.26\n",
            "epoch:0364 w:      3.37 b:     -0.26\n",
            "epoch:0365 w:      3.37 b:     -0.26\n",
            "epoch:0366 w:      3.37 b:     -0.26\n",
            "epoch:0367 w:      3.37 b:     -0.26\n",
            "epoch:0368 w:      3.37 b:     -0.26\n",
            "epoch:0369 w:      3.37 b:     -0.26\n",
            "epoch:0370 w:      3.37 b:     -0.26\n",
            "epoch:0371 w:      3.37 b:     -0.26\n",
            "epoch:0372 w:      3.37 b:     -0.26\n",
            "epoch:0373 w:      3.37 b:     -0.26\n",
            "epoch:0374 w:      3.37 b:     -0.26\n",
            "epoch:0375 w:      3.37 b:     -0.26\n",
            "epoch:0376 w:      3.37 b:     -0.26\n",
            "epoch:0377 w:      3.37 b:     -0.25\n",
            "epoch:0378 w:      3.37 b:     -0.25\n",
            "epoch:0379 w:      3.37 b:     -0.25\n",
            "epoch:0380 w:      3.37 b:     -0.25\n",
            "epoch:0381 w:      3.37 b:     -0.25\n",
            "epoch:0382 w:      3.37 b:     -0.25\n",
            "epoch:0383 w:      3.37 b:     -0.25\n",
            "epoch:0384 w:      3.37 b:     -0.25\n",
            "epoch:0385 w:      3.37 b:     -0.25\n",
            "epoch:0386 w:      3.37 b:     -0.25\n",
            "epoch:0387 w:      3.37 b:     -0.25\n",
            "epoch:0388 w:      3.37 b:     -0.25\n",
            "epoch:0389 w:      3.37 b:     -0.25\n",
            "epoch:0390 w:      3.37 b:     -0.25\n",
            "epoch:0391 w:      3.37 b:     -0.25\n",
            "epoch:0392 w:      3.37 b:     -0.25\n",
            "epoch:0393 w:      3.37 b:     -0.25\n",
            "epoch:0394 w:      3.37 b:     -0.25\n",
            "epoch:0395 w:      3.37 b:     -0.24\n",
            "epoch:0396 w:      3.37 b:     -0.24\n",
            "epoch:0397 w:      3.37 b:     -0.24\n",
            "epoch:0398 w:      3.37 b:     -0.24\n",
            "epoch:0399 w:      3.37 b:     -0.24\n",
            "epoch:0400 w:      3.37 b:     -0.24\n",
            "epoch:0401 w:      3.37 b:     -0.24\n",
            "epoch:0402 w:      3.37 b:     -0.24\n",
            "epoch:0403 w:      3.37 b:     -0.24\n",
            "epoch:0404 w:      3.37 b:     -0.24\n",
            "epoch:0405 w:      3.37 b:     -0.24\n",
            "epoch:0406 w:      3.37 b:     -0.24\n",
            "epoch:0407 w:      3.37 b:     -0.24\n",
            "epoch:0408 w:      3.37 b:     -0.24\n",
            "epoch:0409 w:      3.37 b:     -0.24\n",
            "epoch:0410 w:      3.37 b:     -0.24\n",
            "epoch:0411 w:      3.37 b:     -0.24\n",
            "epoch:0412 w:      3.37 b:     -0.23\n",
            "epoch:0413 w:      3.37 b:     -0.23\n",
            "epoch:0414 w:      3.37 b:     -0.23\n",
            "epoch:0415 w:      3.37 b:     -0.23\n",
            "epoch:0416 w:      3.37 b:     -0.23\n",
            "epoch:0417 w:      3.37 b:     -0.23\n",
            "epoch:0418 w:      3.37 b:     -0.23\n",
            "epoch:0419 w:      3.37 b:     -0.23\n",
            "epoch:0420 w:      3.37 b:     -0.23\n",
            "epoch:0421 w:      3.37 b:     -0.23\n",
            "epoch:0422 w:      3.37 b:     -0.23\n",
            "epoch:0423 w:      3.37 b:     -0.23\n",
            "epoch:0424 w:      3.37 b:     -0.23\n",
            "epoch:0425 w:      3.37 b:     -0.23\n",
            "epoch:0426 w:      3.37 b:     -0.23\n",
            "epoch:0427 w:      3.37 b:     -0.23\n",
            "epoch:0428 w:      3.37 b:     -0.23\n",
            "epoch:0429 w:      3.37 b:     -0.23\n",
            "epoch:0430 w:      3.37 b:     -0.22\n",
            "epoch:0431 w:      3.37 b:     -0.22\n",
            "epoch:0432 w:      3.37 b:     -0.22\n",
            "epoch:0433 w:      3.37 b:     -0.22\n",
            "epoch:0434 w:      3.37 b:     -0.22\n",
            "epoch:0435 w:      3.37 b:     -0.22\n",
            "epoch:0436 w:      3.37 b:     -0.22\n",
            "epoch:0437 w:      3.37 b:     -0.22\n",
            "epoch:0438 w:      3.37 b:     -0.22\n",
            "epoch:0439 w:      3.37 b:     -0.22\n",
            "epoch:0440 w:      3.37 b:     -0.22\n",
            "epoch:0441 w:      3.37 b:     -0.22\n",
            "epoch:0442 w:      3.37 b:     -0.22\n",
            "epoch:0443 w:      3.37 b:     -0.22\n",
            "epoch:0444 w:      3.37 b:     -0.22\n",
            "epoch:0445 w:      3.37 b:     -0.22\n",
            "epoch:0446 w:      3.37 b:     -0.22\n",
            "epoch:0447 w:      3.37 b:     -0.22\n",
            "epoch:0448 w:      3.37 b:     -0.21\n",
            "epoch:0449 w:      3.37 b:     -0.21\n",
            "epoch:0450 w:      3.37 b:     -0.21\n",
            "epoch:0451 w:      3.37 b:     -0.21\n",
            "epoch:0452 w:      3.37 b:     -0.21\n",
            "epoch:0453 w:      3.37 b:     -0.21\n",
            "epoch:0454 w:      3.37 b:     -0.21\n",
            "epoch:0455 w:      3.37 b:     -0.21\n",
            "epoch:0456 w:      3.37 b:     -0.21\n",
            "epoch:0457 w:      3.37 b:     -0.21\n",
            "epoch:0458 w:      3.37 b:     -0.21\n",
            "epoch:0459 w:      3.37 b:     -0.21\n",
            "epoch:0460 w:      3.37 b:     -0.21\n",
            "epoch:0461 w:      3.37 b:     -0.21\n",
            "epoch:0462 w:      3.37 b:     -0.21\n",
            "epoch:0463 w:      3.36 b:     -0.21\n",
            "epoch:0464 w:      3.36 b:     -0.21\n",
            "epoch:0465 w:      3.36 b:     -0.21\n",
            "epoch:0466 w:      3.36 b:     -0.20\n",
            "epoch:0467 w:      3.36 b:     -0.20\n",
            "epoch:0468 w:      3.36 b:     -0.20\n",
            "epoch:0469 w:      3.36 b:     -0.20\n",
            "epoch:0470 w:      3.36 b:     -0.20\n",
            "epoch:0471 w:      3.36 b:     -0.20\n",
            "epoch:0472 w:      3.36 b:     -0.20\n",
            "epoch:0473 w:      3.36 b:     -0.20\n",
            "epoch:0474 w:      3.36 b:     -0.20\n",
            "epoch:0475 w:      3.36 b:     -0.20\n",
            "epoch:0476 w:      3.36 b:     -0.20\n",
            "epoch:0477 w:      3.36 b:     -0.20\n",
            "epoch:0478 w:      3.36 b:     -0.20\n",
            "epoch:0479 w:      3.36 b:     -0.20\n",
            "epoch:0480 w:      3.36 b:     -0.20\n",
            "epoch:0481 w:      3.36 b:     -0.20\n",
            "epoch:0482 w:      3.36 b:     -0.20\n",
            "epoch:0483 w:      3.36 b:     -0.20\n",
            "epoch:0484 w:      3.36 b:     -0.19\n",
            "epoch:0485 w:      3.36 b:     -0.19\n",
            "epoch:0486 w:      3.36 b:     -0.19\n",
            "epoch:0487 w:      3.36 b:     -0.19\n",
            "epoch:0488 w:      3.36 b:     -0.19\n",
            "epoch:0489 w:      3.36 b:     -0.19\n",
            "epoch:0490 w:      3.36 b:     -0.19\n",
            "epoch:0491 w:      3.36 b:     -0.19\n",
            "epoch:0492 w:      3.36 b:     -0.19\n",
            "epoch:0493 w:      3.36 b:     -0.19\n",
            "epoch:0494 w:      3.36 b:     -0.19\n",
            "epoch:0495 w:      3.36 b:     -0.19\n",
            "epoch:0496 w:      3.36 b:     -0.19\n",
            "epoch:0497 w:      3.36 b:     -0.19\n",
            "epoch:0498 w:      3.36 b:     -0.19\n",
            "epoch:0499 w:      3.36 b:     -0.19\n",
            "epoch:0500 w:      3.36 b:     -0.19\n",
            "epoch:0501 w:      3.36 b:     -0.19\n",
            "epoch:0502 w:      3.36 b:     -0.19\n",
            "epoch:0503 w:      3.36 b:     -0.18\n",
            "epoch:0504 w:      3.36 b:     -0.18\n",
            "epoch:0505 w:      3.36 b:     -0.18\n",
            "epoch:0506 w:      3.36 b:     -0.18\n",
            "epoch:0507 w:      3.36 b:     -0.18\n",
            "epoch:0508 w:      3.36 b:     -0.18\n",
            "epoch:0509 w:      3.36 b:     -0.18\n",
            "epoch:0510 w:      3.36 b:     -0.18\n",
            "epoch:0511 w:      3.36 b:     -0.18\n",
            "epoch:0512 w:      3.36 b:     -0.18\n",
            "epoch:0513 w:      3.36 b:     -0.18\n",
            "epoch:0514 w:      3.36 b:     -0.18\n",
            "epoch:0515 w:      3.36 b:     -0.18\n",
            "epoch:0516 w:      3.36 b:     -0.18\n",
            "epoch:0517 w:      3.36 b:     -0.18\n",
            "epoch:0518 w:      3.36 b:     -0.18\n",
            "epoch:0519 w:      3.36 b:     -0.18\n",
            "epoch:0520 w:      3.36 b:     -0.18\n",
            "epoch:0521 w:      3.36 b:     -0.17\n",
            "epoch:0522 w:      3.36 b:     -0.17\n",
            "epoch:0523 w:      3.36 b:     -0.17\n",
            "epoch:0524 w:      3.36 b:     -0.17\n",
            "epoch:0525 w:      3.36 b:     -0.17\n",
            "epoch:0526 w:      3.36 b:     -0.17\n",
            "epoch:0527 w:      3.36 b:     -0.17\n",
            "epoch:0528 w:      3.36 b:     -0.17\n",
            "epoch:0529 w:      3.36 b:     -0.17\n",
            "epoch:0530 w:      3.36 b:     -0.17\n",
            "epoch:0531 w:      3.36 b:     -0.17\n",
            "epoch:0532 w:      3.36 b:     -0.17\n",
            "epoch:0533 w:      3.36 b:     -0.17\n",
            "epoch:0534 w:      3.36 b:     -0.17\n",
            "epoch:0535 w:      3.36 b:     -0.17\n",
            "epoch:0536 w:      3.36 b:     -0.17\n",
            "epoch:0537 w:      3.36 b:     -0.17\n",
            "epoch:0538 w:      3.36 b:     -0.17\n",
            "epoch:0539 w:      3.36 b:     -0.17\n",
            "epoch:0540 w:      3.36 b:     -0.16\n",
            "epoch:0541 w:      3.36 b:     -0.16\n",
            "epoch:0542 w:      3.36 b:     -0.16\n",
            "epoch:0543 w:      3.36 b:     -0.16\n",
            "epoch:0544 w:      3.36 b:     -0.16\n",
            "epoch:0545 w:      3.36 b:     -0.16\n",
            "epoch:0546 w:      3.36 b:     -0.16\n",
            "epoch:0547 w:      3.36 b:     -0.16\n",
            "epoch:0548 w:      3.36 b:     -0.16\n",
            "epoch:0549 w:      3.36 b:     -0.16\n",
            "epoch:0550 w:      3.36 b:     -0.16\n",
            "epoch:0551 w:      3.36 b:     -0.16\n",
            "epoch:0552 w:      3.36 b:     -0.16\n",
            "epoch:0553 w:      3.36 b:     -0.16\n",
            "epoch:0554 w:      3.36 b:     -0.16\n",
            "epoch:0555 w:      3.36 b:     -0.16\n",
            "epoch:0556 w:      3.36 b:     -0.16\n",
            "epoch:0557 w:      3.36 b:     -0.16\n",
            "epoch:0558 w:      3.36 b:     -0.16\n",
            "epoch:0559 w:      3.36 b:     -0.15\n",
            "epoch:0560 w:      3.36 b:     -0.15\n",
            "epoch:0561 w:      3.36 b:     -0.15\n",
            "epoch:0562 w:      3.36 b:     -0.15\n",
            "epoch:0563 w:      3.36 b:     -0.15\n",
            "epoch:0564 w:      3.36 b:     -0.15\n",
            "epoch:0565 w:      3.36 b:     -0.15\n",
            "epoch:0566 w:      3.36 b:     -0.15\n",
            "epoch:0567 w:      3.36 b:     -0.15\n",
            "epoch:0568 w:      3.36 b:     -0.15\n",
            "epoch:0569 w:      3.36 b:     -0.15\n",
            "epoch:0570 w:      3.36 b:     -0.15\n",
            "epoch:0571 w:      3.36 b:     -0.15\n",
            "epoch:0572 w:      3.36 b:     -0.15\n",
            "epoch:0573 w:      3.36 b:     -0.15\n",
            "epoch:0574 w:      3.36 b:     -0.15\n",
            "epoch:0575 w:      3.36 b:     -0.15\n",
            "epoch:0576 w:      3.36 b:     -0.15\n",
            "epoch:0577 w:      3.36 b:     -0.15\n",
            "epoch:0578 w:      3.36 b:     -0.14\n",
            "epoch:0579 w:      3.36 b:     -0.14\n",
            "epoch:0580 w:      3.36 b:     -0.14\n",
            "epoch:0581 w:      3.36 b:     -0.14\n",
            "epoch:0582 w:      3.35 b:     -0.14\n",
            "epoch:0583 w:      3.35 b:     -0.14\n",
            "epoch:0584 w:      3.35 b:     -0.14\n",
            "epoch:0585 w:      3.35 b:     -0.14\n",
            "epoch:0586 w:      3.35 b:     -0.14\n",
            "epoch:0587 w:      3.35 b:     -0.14\n",
            "epoch:0588 w:      3.35 b:     -0.14\n",
            "epoch:0589 w:      3.35 b:     -0.14\n",
            "epoch:0590 w:      3.35 b:     -0.14\n",
            "epoch:0591 w:      3.35 b:     -0.14\n",
            "epoch:0592 w:      3.35 b:     -0.14\n",
            "epoch:0593 w:      3.35 b:     -0.14\n",
            "epoch:0594 w:      3.35 b:     -0.14\n",
            "epoch:0595 w:      3.35 b:     -0.14\n",
            "epoch:0596 w:      3.35 b:     -0.14\n",
            "epoch:0597 w:      3.35 b:     -0.13\n",
            "epoch:0598 w:      3.35 b:     -0.13\n",
            "epoch:0599 w:      3.35 b:     -0.13\n",
            "epoch:0600 w:      3.35 b:     -0.13\n",
            "epoch:0601 w:      3.35 b:     -0.13\n",
            "epoch:0602 w:      3.35 b:     -0.13\n",
            "epoch:0603 w:      3.35 b:     -0.13\n",
            "epoch:0604 w:      3.35 b:     -0.13\n",
            "epoch:0605 w:      3.35 b:     -0.13\n",
            "epoch:0606 w:      3.35 b:     -0.13\n",
            "epoch:0607 w:      3.35 b:     -0.13\n",
            "epoch:0608 w:      3.35 b:     -0.13\n",
            "epoch:0609 w:      3.35 b:     -0.13\n",
            "epoch:0610 w:      3.35 b:     -0.13\n",
            "epoch:0611 w:      3.35 b:     -0.13\n",
            "epoch:0612 w:      3.35 b:     -0.13\n",
            "epoch:0613 w:      3.35 b:     -0.13\n",
            "epoch:0614 w:      3.35 b:     -0.13\n",
            "epoch:0615 w:      3.35 b:     -0.13\n",
            "epoch:0616 w:      3.35 b:     -0.13\n",
            "epoch:0617 w:      3.35 b:     -0.12\n",
            "epoch:0618 w:      3.35 b:     -0.12\n",
            "epoch:0619 w:      3.35 b:     -0.12\n",
            "epoch:0620 w:      3.35 b:     -0.12\n",
            "epoch:0621 w:      3.35 b:     -0.12\n",
            "epoch:0622 w:      3.35 b:     -0.12\n",
            "epoch:0623 w:      3.35 b:     -0.12\n",
            "epoch:0624 w:      3.35 b:     -0.12\n",
            "epoch:0625 w:      3.35 b:     -0.12\n",
            "epoch:0626 w:      3.35 b:     -0.12\n",
            "epoch:0627 w:      3.35 b:     -0.12\n",
            "epoch:0628 w:      3.35 b:     -0.12\n",
            "epoch:0629 w:      3.35 b:     -0.12\n",
            "epoch:0630 w:      3.35 b:     -0.12\n",
            "epoch:0631 w:      3.35 b:     -0.12\n",
            "epoch:0632 w:      3.35 b:     -0.12\n",
            "epoch:0633 w:      3.35 b:     -0.12\n",
            "epoch:0634 w:      3.35 b:     -0.12\n",
            "epoch:0635 w:      3.35 b:     -0.12\n",
            "epoch:0636 w:      3.35 b:     -0.11\n",
            "epoch:0637 w:      3.35 b:     -0.11\n",
            "epoch:0638 w:      3.35 b:     -0.11\n",
            "epoch:0639 w:      3.35 b:     -0.11\n",
            "epoch:0640 w:      3.35 b:     -0.11\n",
            "epoch:0641 w:      3.35 b:     -0.11\n",
            "epoch:0642 w:      3.35 b:     -0.11\n",
            "epoch:0643 w:      3.35 b:     -0.11\n",
            "epoch:0644 w:      3.35 b:     -0.11\n",
            "epoch:0645 w:      3.35 b:     -0.11\n",
            "epoch:0646 w:      3.35 b:     -0.11\n",
            "epoch:0647 w:      3.35 b:     -0.11\n",
            "epoch:0648 w:      3.35 b:     -0.11\n",
            "epoch:0649 w:      3.35 b:     -0.11\n",
            "epoch:0650 w:      3.35 b:     -0.11\n",
            "epoch:0651 w:      3.35 b:     -0.11\n",
            "epoch:0652 w:      3.35 b:     -0.11\n",
            "epoch:0653 w:      3.35 b:     -0.11\n",
            "epoch:0654 w:      3.35 b:     -0.11\n",
            "epoch:0655 w:      3.35 b:     -0.11\n",
            "epoch:0656 w:      3.35 b:     -0.10\n",
            "epoch:0657 w:      3.35 b:     -0.10\n",
            "epoch:0658 w:      3.35 b:     -0.10\n",
            "epoch:0659 w:      3.35 b:     -0.10\n",
            "epoch:0660 w:      3.35 b:     -0.10\n",
            "epoch:0661 w:      3.35 b:     -0.10\n",
            "epoch:0662 w:      3.35 b:     -0.10\n",
            "epoch:0663 w:      3.35 b:     -0.10\n",
            "epoch:0664 w:      3.35 b:     -0.10\n",
            "epoch:0665 w:      3.35 b:     -0.10\n",
            "epoch:0666 w:      3.35 b:     -0.10\n",
            "epoch:0667 w:      3.35 b:     -0.10\n",
            "epoch:0668 w:      3.35 b:     -0.10\n",
            "epoch:0669 w:      3.35 b:     -0.10\n",
            "epoch:0670 w:      3.35 b:     -0.10\n",
            "epoch:0671 w:      3.35 b:     -0.10\n",
            "epoch:0672 w:      3.35 b:     -0.10\n",
            "epoch:0673 w:      3.35 b:     -0.10\n",
            "epoch:0674 w:      3.35 b:     -0.10\n",
            "epoch:0675 w:      3.35 b:     -0.10\n",
            "epoch:0676 w:      3.35 b:     -0.09\n",
            "epoch:0677 w:      3.35 b:     -0.09\n",
            "epoch:0678 w:      3.35 b:     -0.09\n",
            "epoch:0679 w:      3.35 b:     -0.09\n",
            "epoch:0680 w:      3.35 b:     -0.09\n",
            "epoch:0681 w:      3.35 b:     -0.09\n",
            "epoch:0682 w:      3.35 b:     -0.09\n",
            "epoch:0683 w:      3.35 b:     -0.09\n",
            "epoch:0684 w:      3.35 b:     -0.09\n",
            "epoch:0685 w:      3.35 b:     -0.09\n",
            "epoch:0686 w:      3.35 b:     -0.09\n",
            "epoch:0687 w:      3.35 b:     -0.09\n",
            "epoch:0688 w:      3.35 b:     -0.09\n",
            "epoch:0689 w:      3.35 b:     -0.09\n",
            "epoch:0690 w:      3.35 b:     -0.09\n",
            "epoch:0691 w:      3.35 b:     -0.09\n",
            "epoch:0692 w:      3.35 b:     -0.09\n",
            "epoch:0693 w:      3.35 b:     -0.09\n",
            "epoch:0694 w:      3.35 b:     -0.09\n",
            "epoch:0695 w:      3.35 b:     -0.09\n",
            "epoch:0696 w:      3.35 b:     -0.08\n",
            "epoch:0697 w:      3.35 b:     -0.08\n",
            "epoch:0698 w:      3.35 b:     -0.08\n",
            "epoch:0699 w:      3.35 b:     -0.08\n",
            "epoch:0700 w:      3.35 b:     -0.08\n",
            "epoch:0701 w:      3.35 b:     -0.08\n",
            "epoch:0702 w:      3.35 b:     -0.08\n",
            "epoch:0703 w:      3.35 b:     -0.08\n",
            "epoch:0704 w:      3.35 b:     -0.08\n",
            "epoch:0705 w:      3.35 b:     -0.08\n",
            "epoch:0706 w:      3.35 b:     -0.08\n",
            "epoch:0707 w:      3.35 b:     -0.08\n",
            "epoch:0708 w:      3.35 b:     -0.08\n",
            "epoch:0709 w:      3.34 b:     -0.08\n",
            "epoch:0710 w:      3.34 b:     -0.08\n",
            "epoch:0711 w:      3.34 b:     -0.08\n",
            "epoch:0712 w:      3.34 b:     -0.08\n",
            "epoch:0713 w:      3.34 b:     -0.08\n",
            "epoch:0714 w:      3.34 b:     -0.08\n",
            "epoch:0715 w:      3.34 b:     -0.08\n",
            "epoch:0716 w:      3.34 b:     -0.08\n",
            "epoch:0717 w:      3.34 b:     -0.07\n",
            "epoch:0718 w:      3.34 b:     -0.07\n",
            "epoch:0719 w:      3.34 b:     -0.07\n",
            "epoch:0720 w:      3.34 b:     -0.07\n",
            "epoch:0721 w:      3.34 b:     -0.07\n",
            "epoch:0722 w:      3.34 b:     -0.07\n",
            "epoch:0723 w:      3.34 b:     -0.07\n",
            "epoch:0724 w:      3.34 b:     -0.07\n",
            "epoch:0725 w:      3.34 b:     -0.07\n",
            "epoch:0726 w:      3.34 b:     -0.07\n",
            "epoch:0727 w:      3.34 b:     -0.07\n",
            "epoch:0728 w:      3.34 b:     -0.07\n",
            "epoch:0729 w:      3.34 b:     -0.07\n",
            "epoch:0730 w:      3.34 b:     -0.07\n",
            "epoch:0731 w:      3.34 b:     -0.07\n",
            "epoch:0732 w:      3.34 b:     -0.07\n",
            "epoch:0733 w:      3.34 b:     -0.07\n",
            "epoch:0734 w:      3.34 b:     -0.07\n",
            "epoch:0735 w:      3.34 b:     -0.07\n",
            "epoch:0736 w:      3.34 b:     -0.07\n",
            "epoch:0737 w:      3.34 b:     -0.06\n",
            "epoch:0738 w:      3.34 b:     -0.06\n",
            "epoch:0739 w:      3.34 b:     -0.06\n",
            "epoch:0740 w:      3.34 b:     -0.06\n",
            "epoch:0741 w:      3.34 b:     -0.06\n",
            "epoch:0742 w:      3.34 b:     -0.06\n",
            "epoch:0743 w:      3.34 b:     -0.06\n",
            "epoch:0744 w:      3.34 b:     -0.06\n",
            "epoch:0745 w:      3.34 b:     -0.06\n",
            "epoch:0746 w:      3.34 b:     -0.06\n",
            "epoch:0747 w:      3.34 b:     -0.06\n",
            "epoch:0748 w:      3.34 b:     -0.06\n",
            "epoch:0749 w:      3.34 b:     -0.06\n",
            "epoch:0750 w:      3.34 b:     -0.06\n",
            "epoch:0751 w:      3.34 b:     -0.06\n",
            "epoch:0752 w:      3.34 b:     -0.06\n",
            "epoch:0753 w:      3.34 b:     -0.06\n",
            "epoch:0754 w:      3.34 b:     -0.06\n",
            "epoch:0755 w:      3.34 b:     -0.06\n",
            "epoch:0756 w:      3.34 b:     -0.06\n",
            "epoch:0757 w:      3.34 b:     -0.06\n",
            "epoch:0758 w:      3.34 b:     -0.05\n",
            "epoch:0759 w:      3.34 b:     -0.05\n",
            "epoch:0760 w:      3.34 b:     -0.05\n",
            "epoch:0761 w:      3.34 b:     -0.05\n",
            "epoch:0762 w:      3.34 b:     -0.05\n",
            "epoch:0763 w:      3.34 b:     -0.05\n",
            "epoch:0764 w:      3.34 b:     -0.05\n",
            "epoch:0765 w:      3.34 b:     -0.05\n",
            "epoch:0766 w:      3.34 b:     -0.05\n",
            "epoch:0767 w:      3.34 b:     -0.05\n",
            "epoch:0768 w:      3.34 b:     -0.05\n",
            "epoch:0769 w:      3.34 b:     -0.05\n",
            "epoch:0770 w:      3.34 b:     -0.05\n",
            "epoch:0771 w:      3.34 b:     -0.05\n",
            "epoch:0772 w:      3.34 b:     -0.05\n",
            "epoch:0773 w:      3.34 b:     -0.05\n",
            "epoch:0774 w:      3.34 b:     -0.05\n",
            "epoch:0775 w:      3.34 b:     -0.05\n",
            "epoch:0776 w:      3.34 b:     -0.05\n",
            "epoch:0777 w:      3.34 b:     -0.05\n",
            "epoch:0778 w:      3.34 b:     -0.05\n",
            "epoch:0779 w:      3.34 b:     -0.04\n",
            "epoch:0780 w:      3.34 b:     -0.04\n",
            "epoch:0781 w:      3.34 b:     -0.04\n",
            "epoch:0782 w:      3.34 b:     -0.04\n",
            "epoch:0783 w:      3.34 b:     -0.04\n",
            "epoch:0784 w:      3.34 b:     -0.04\n",
            "epoch:0785 w:      3.34 b:     -0.04\n",
            "epoch:0786 w:      3.34 b:     -0.04\n",
            "epoch:0787 w:      3.34 b:     -0.04\n",
            "epoch:0788 w:      3.34 b:     -0.04\n",
            "epoch:0789 w:      3.34 b:     -0.04\n",
            "epoch:0790 w:      3.34 b:     -0.04\n",
            "epoch:0791 w:      3.34 b:     -0.04\n",
            "epoch:0792 w:      3.34 b:     -0.04\n",
            "epoch:0793 w:      3.34 b:     -0.04\n",
            "epoch:0794 w:      3.34 b:     -0.04\n",
            "epoch:0795 w:      3.34 b:     -0.04\n",
            "epoch:0796 w:      3.34 b:     -0.04\n",
            "epoch:0797 w:      3.34 b:     -0.04\n",
            "epoch:0798 w:      3.34 b:     -0.04\n",
            "epoch:0799 w:      3.34 b:     -0.04\n",
            "epoch:0800 w:      3.34 b:     -0.03\n",
            "epoch:0801 w:      3.34 b:     -0.03\n",
            "epoch:0802 w:      3.34 b:     -0.03\n",
            "epoch:0803 w:      3.34 b:     -0.03\n",
            "epoch:0804 w:      3.34 b:     -0.03\n",
            "epoch:0805 w:      3.34 b:     -0.03\n",
            "epoch:0806 w:      3.34 b:     -0.03\n",
            "epoch:0807 w:      3.34 b:     -0.03\n",
            "epoch:0808 w:      3.34 b:     -0.03\n",
            "epoch:0809 w:      3.34 b:     -0.03\n",
            "epoch:0810 w:      3.34 b:     -0.03\n",
            "epoch:0811 w:      3.34 b:     -0.03\n",
            "epoch:0812 w:      3.34 b:     -0.03\n",
            "epoch:0813 w:      3.34 b:     -0.03\n",
            "epoch:0814 w:      3.34 b:     -0.03\n",
            "epoch:0815 w:      3.34 b:     -0.03\n",
            "epoch:0816 w:      3.34 b:     -0.03\n",
            "epoch:0817 w:      3.34 b:     -0.03\n",
            "epoch:0818 w:      3.34 b:     -0.03\n",
            "epoch:0819 w:      3.34 b:     -0.03\n",
            "epoch:0820 w:      3.34 b:     -0.03\n",
            "epoch:0821 w:      3.34 b:     -0.03\n",
            "epoch:0822 w:      3.34 b:     -0.02\n",
            "epoch:0823 w:      3.34 b:     -0.02\n",
            "epoch:0824 w:      3.34 b:     -0.02\n",
            "epoch:0825 w:      3.34 b:     -0.02\n",
            "epoch:0826 w:      3.34 b:     -0.02\n",
            "epoch:0827 w:      3.34 b:     -0.02\n",
            "epoch:0828 w:      3.34 b:     -0.02\n",
            "epoch:0829 w:      3.34 b:     -0.02\n",
            "epoch:0830 w:      3.34 b:     -0.02\n",
            "epoch:0831 w:      3.34 b:     -0.02\n",
            "epoch:0832 w:      3.34 b:     -0.02\n",
            "epoch:0833 w:      3.34 b:     -0.02\n",
            "epoch:0834 w:      3.34 b:     -0.02\n",
            "epoch:0835 w:      3.34 b:     -0.02\n",
            "epoch:0836 w:      3.34 b:     -0.02\n",
            "epoch:0837 w:      3.34 b:     -0.02\n",
            "epoch:0838 w:      3.34 b:     -0.02\n",
            "epoch:0839 w:      3.34 b:     -0.02\n",
            "epoch:0840 w:      3.34 b:     -0.02\n",
            "epoch:0841 w:      3.34 b:     -0.02\n",
            "epoch:0842 w:      3.34 b:     -0.02\n",
            "epoch:0843 w:      3.34 b:     -0.01\n",
            "epoch:0844 w:      3.33 b:     -0.01\n",
            "epoch:0845 w:      3.33 b:     -0.01\n",
            "epoch:0846 w:      3.33 b:     -0.01\n",
            "epoch:0847 w:      3.33 b:     -0.01\n",
            "epoch:0848 w:      3.33 b:     -0.01\n",
            "epoch:0849 w:      3.33 b:     -0.01\n",
            "epoch:0850 w:      3.33 b:     -0.01\n",
            "epoch:0851 w:      3.33 b:     -0.01\n",
            "epoch:0852 w:      3.33 b:     -0.01\n",
            "epoch:0853 w:      3.33 b:     -0.01\n",
            "epoch:0854 w:      3.33 b:     -0.01\n",
            "epoch:0855 w:      3.33 b:     -0.01\n",
            "epoch:0856 w:      3.33 b:     -0.01\n",
            "epoch:0857 w:      3.33 b:     -0.01\n",
            "epoch:0858 w:      3.33 b:     -0.01\n",
            "epoch:0859 w:      3.33 b:     -0.01\n",
            "epoch:0860 w:      3.33 b:     -0.01\n",
            "epoch:0861 w:      3.33 b:     -0.01\n",
            "epoch:0862 w:      3.33 b:     -0.01\n",
            "epoch:0863 w:      3.33 b:     -0.01\n",
            "epoch:0864 w:      3.33 b:     -0.01\n",
            "epoch:0865 w:      3.33 b:     -0.00\n",
            "epoch:0866 w:      3.33 b:     -0.00\n",
            "epoch:0867 w:      3.33 b:     -0.00\n",
            "epoch:0868 w:      3.33 b:     -0.00\n",
            "epoch:0869 w:      3.33 b:     -0.00\n",
            "epoch:0870 w:      3.33 b:     -0.00\n",
            "epoch:0871 w:      3.33 b:     -0.00\n",
            "epoch:0872 w:      3.33 b:     -0.00\n",
            "epoch:0873 w:      3.33 b:     -0.00\n",
            "epoch:0874 w:      3.33 b:     -0.00\n",
            "epoch:0875 w:      3.33 b:     -0.00\n",
            "epoch:0876 w:      3.33 b:      0.00\n",
            "epoch:0877 w:      3.33 b:      0.00\n",
            "epoch:0878 w:      3.33 b:      0.00\n",
            "epoch:0879 w:      3.33 b:      0.00\n",
            "epoch:0880 w:      3.33 b:      0.00\n",
            "epoch:0881 w:      3.33 b:      0.00\n",
            "epoch:0882 w:      3.33 b:      0.00\n",
            "epoch:0883 w:      3.33 b:      0.00\n",
            "epoch:0884 w:      3.33 b:      0.00\n",
            "epoch:0885 w:      3.33 b:      0.00\n",
            "epoch:0886 w:      3.33 b:      0.00\n",
            "epoch:0887 w:      3.33 b:      0.00\n",
            "epoch:0888 w:      3.33 b:      0.01\n",
            "epoch:0889 w:      3.33 b:      0.01\n",
            "epoch:0890 w:      3.33 b:      0.01\n",
            "epoch:0891 w:      3.33 b:      0.01\n",
            "epoch:0892 w:      3.33 b:      0.01\n",
            "epoch:0893 w:      3.33 b:      0.01\n",
            "epoch:0894 w:      3.33 b:      0.01\n",
            "epoch:0895 w:      3.33 b:      0.01\n",
            "epoch:0896 w:      3.33 b:      0.01\n",
            "epoch:0897 w:      3.33 b:      0.01\n",
            "epoch:0898 w:      3.33 b:      0.01\n",
            "epoch:0899 w:      3.33 b:      0.01\n",
            "epoch:0900 w:      3.33 b:      0.01\n",
            "epoch:0901 w:      3.33 b:      0.01\n",
            "epoch:0902 w:      3.33 b:      0.01\n",
            "epoch:0903 w:      3.33 b:      0.01\n",
            "epoch:0904 w:      3.33 b:      0.01\n",
            "epoch:0905 w:      3.33 b:      0.01\n",
            "epoch:0906 w:      3.33 b:      0.01\n",
            "epoch:0907 w:      3.33 b:      0.01\n",
            "epoch:0908 w:      3.33 b:      0.01\n",
            "epoch:0909 w:      3.33 b:      0.01\n",
            "epoch:0910 w:      3.33 b:      0.02\n",
            "epoch:0911 w:      3.33 b:      0.02\n",
            "epoch:0912 w:      3.33 b:      0.02\n",
            "epoch:0913 w:      3.33 b:      0.02\n",
            "epoch:0914 w:      3.33 b:      0.02\n",
            "epoch:0915 w:      3.33 b:      0.02\n",
            "epoch:0916 w:      3.33 b:      0.02\n",
            "epoch:0917 w:      3.33 b:      0.02\n",
            "epoch:0918 w:      3.33 b:      0.02\n",
            "epoch:0919 w:      3.33 b:      0.02\n",
            "epoch:0920 w:      3.33 b:      0.02\n",
            "epoch:0921 w:      3.33 b:      0.02\n",
            "epoch:0922 w:      3.33 b:      0.02\n",
            "epoch:0923 w:      3.33 b:      0.02\n",
            "epoch:0924 w:      3.33 b:      0.02\n",
            "epoch:0925 w:      3.33 b:      0.02\n",
            "epoch:0926 w:      3.33 b:      0.02\n",
            "epoch:0927 w:      3.33 b:      0.02\n",
            "epoch:0928 w:      3.33 b:      0.02\n",
            "epoch:0929 w:      3.33 b:      0.02\n",
            "epoch:0930 w:      3.33 b:      0.02\n",
            "epoch:0931 w:      3.33 b:      0.02\n",
            "epoch:0932 w:      3.33 b:      0.02\n",
            "epoch:0933 w:      3.33 b:      0.03\n",
            "epoch:0934 w:      3.33 b:      0.03\n",
            "epoch:0935 w:      3.33 b:      0.03\n",
            "epoch:0936 w:      3.33 b:      0.03\n",
            "epoch:0937 w:      3.33 b:      0.03\n",
            "epoch:0938 w:      3.33 b:      0.03\n",
            "epoch:0939 w:      3.33 b:      0.03\n",
            "epoch:0940 w:      3.33 b:      0.03\n",
            "epoch:0941 w:      3.33 b:      0.03\n",
            "epoch:0942 w:      3.33 b:      0.03\n",
            "epoch:0943 w:      3.33 b:      0.03\n",
            "epoch:0944 w:      3.33 b:      0.03\n",
            "epoch:0945 w:      3.33 b:      0.03\n",
            "epoch:0946 w:      3.33 b:      0.03\n",
            "epoch:0947 w:      3.33 b:      0.03\n",
            "epoch:0948 w:      3.33 b:      0.03\n",
            "epoch:0949 w:      3.33 b:      0.03\n",
            "epoch:0950 w:      3.33 b:      0.03\n",
            "epoch:0951 w:      3.33 b:      0.03\n",
            "epoch:0952 w:      3.33 b:      0.03\n",
            "epoch:0953 w:      3.33 b:      0.03\n",
            "epoch:0954 w:      3.33 b:      0.03\n",
            "epoch:0955 w:      3.33 b:      0.03\n",
            "epoch:0956 w:      3.33 b:      0.04\n",
            "epoch:0957 w:      3.33 b:      0.04\n",
            "epoch:0958 w:      3.33 b:      0.04\n",
            "epoch:0959 w:      3.33 b:      0.04\n",
            "epoch:0960 w:      3.33 b:      0.04\n",
            "epoch:0961 w:      3.33 b:      0.04\n",
            "epoch:0962 w:      3.33 b:      0.04\n",
            "epoch:0963 w:      3.33 b:      0.04\n",
            "epoch:0964 w:      3.33 b:      0.04\n",
            "epoch:0965 w:      3.33 b:      0.04\n",
            "epoch:0966 w:      3.33 b:      0.04\n",
            "epoch:0967 w:      3.33 b:      0.04\n",
            "epoch:0968 w:      3.33 b:      0.04\n",
            "epoch:0969 w:      3.33 b:      0.04\n",
            "epoch:0970 w:      3.33 b:      0.04\n",
            "epoch:0971 w:      3.33 b:      0.04\n",
            "epoch:0972 w:      3.33 b:      0.04\n",
            "epoch:0973 w:      3.33 b:      0.04\n",
            "epoch:0974 w:      3.33 b:      0.04\n",
            "epoch:0975 w:      3.33 b:      0.04\n",
            "epoch:0976 w:      3.33 b:      0.04\n",
            "epoch:0977 w:      3.33 b:      0.04\n",
            "epoch:0978 w:      3.33 b:      0.04\n",
            "epoch:0979 w:      3.33 b:      0.05\n",
            "epoch:0980 w:      3.33 b:      0.05\n",
            "epoch:0981 w:      3.33 b:      0.05\n",
            "epoch:0982 w:      3.33 b:      0.05\n",
            "epoch:0983 w:      3.33 b:      0.05\n",
            "epoch:0984 w:      3.33 b:      0.05\n",
            "epoch:0985 w:      3.33 b:      0.05\n",
            "epoch:0986 w:      3.33 b:      0.05\n",
            "epoch:0987 w:      3.33 b:      0.05\n",
            "epoch:0988 w:      3.33 b:      0.05\n",
            "epoch:0989 w:      3.32 b:      0.05\n",
            "epoch:0990 w:      3.32 b:      0.05\n",
            "epoch:0991 w:      3.32 b:      0.05\n",
            "epoch:0992 w:      3.32 b:      0.05\n",
            "epoch:0993 w:      3.32 b:      0.05\n",
            "epoch:0994 w:      3.32 b:      0.05\n",
            "epoch:0995 w:      3.32 b:      0.05\n",
            "epoch:0996 w:      3.32 b:      0.05\n",
            "epoch:0997 w:      3.32 b:      0.05\n",
            "epoch:0998 w:      3.32 b:      0.05\n",
            "epoch:0999 w:      3.32 b:      0.05\n"
          ]
        }
      ]
    },
    {
      "cell_type": "code",
      "source": [
        "min_val = min(min(ex_arr), min(ey_arr))\n",
        "max_val = max(max(ex_arr), max(ey_arr))\n",
        "for epoch, (wb, bd) in enumerate(wphl):\n",
        "    plt.figure(figsize=(4,4))\n",
        "    sx = min_val\n",
        "    sy = wb * sx + bd\n",
        "    ex = max_val\n",
        "    ey = wb * ex + bd\n",
        "    plt.plot(ex_arr, ey_arr, '.', label='actual')\n",
        "    plt.plot([sx, ex], [sy, ey], label=f'epoch:{epoch} y = {wb:.2f} x + {bd:.2f}')\n",
        "    plt.xlim(min_val, max_val)\n",
        "    plt.ylim(min_val, max_val)\n",
        "    plt.legend()\n",
        "    plt.show()"
      ],
      "metadata": {
        "colab": {
          "base_uri": "https://localhost:8080/",
          "height": 1000
        },
        "id": "4K0LL_LQKiVp",
        "outputId": "2fd49970-58d2-469b-daf7-b8698a94d7f1"
      },
      "execution_count": null,
      "outputs": [
        {
          "output_type": "display_data",
          "data": {
            "text/plain": [
              "<Figure size 288x288 with 1 Axes>"
            ],
            "image/png": "[encoded data removed]"
          },
          "metadata": {
            "needs_background": "light"
          }
        },
        {
          "output_type": "display_data",
          "data": {
            "text/plain": [
              "<Figure size 288x288 with 1 Axes>"
            ],
            "image/png": "[encoded data removed]"
          },
          "metadata": {
            "needs_background": "light"
          }
        },
        {
          "output_type": "display_data",
          "data": {
            "text/plain": [
              "<Figure size 288x288 with 1 Axes>"
            ],
            "image/png": "[encoded data removed]"
          },
          "metadata": {
            "needs_background": "light"
          }
        },
        {
          "output_type": "display_data",
          "data": {
            "text/plain": [
              "<Figure size 288x288 with 1 Axes>"
            ],
            "image/png": "[encoded data removed]"
          },
          "metadata": {
            "needs_background": "light"
          }
        },
        {
          "output_type": "display_data",
          "data": {
            "text/plain": [
              "<Figure size 288x288 with 1 Axes>"
            ],
            "image/png": "[encoded data removed]"
          },
          "metadata": {
            "needs_background": "light"
          }
        },
        {
          "output_type": "display_data",
          "data": {
            "text/plain": [
              "<Figure size 288x288 with 1 Axes>"
            ],
            "image/png": "[encoded data removed]"
          },
          "metadata": {
            "needs_background": "light"
          }
        },
        {
          "output_type": "display_data",
          "data": {
            "text/plain": [
              "<Figure size 288x288 with 1 Axes>"
            ],
            "image/png": "[encoded data removed]"
          },
          "metadata": {
            "needs_background": "light"
          }
        },
        {
          "output_type": "display_data",
          "data": {
            "text/plain": [
              "<Figure size 288x288 with 1 Axes>"
            ],
            "image/png": "[encoded data removed]"
          },
          "metadata": {
            "needs_background": "light"
          }
        },
        {
          "output_type": "display_data",
          "data": {
            "text/plain": [
              "<Figure size 288x288 with 1 Axes>"
            ],
            "image/png": "[encoded data removed]"
          },
          "metadata": {
            "needs_background": "light"
          }
        },
        {
          "output_type": "display_data",
          "data": {
            "text/plain": [
              "<Figure size 288x288 with 1 Axes>"
            ],
            "image/png": "[encoded data removed]"
          },
          "metadata": {
            "needs_background": "light"
          }
        },
        {
          "output_type": "display_data",
          "data": {
            "text/plain": [
              "<Figure size 288x288 with 1 Axes>"
            ],
            "image/png": "[encoded data removed]"
          },
          "metadata": {
            "needs_background": "light"
          }
        },
        {
          "output_type": "display_data",
          "data": {
            "text/plain": [
              "<Figure size 288x288 with 1 Axes>"
            ],
            "image/png": "[encoded data removed]"
          },
          "metadata": {
            "needs_background": "light"
          }
        },
        {
          "output_type": "display_data",
          "data": {
            "text/plain": [
              "<Figure size 288x288 with 1 Axes>"
            ],
            "image/png": "[encoded data removed]"
          },
          "metadata": {
            "needs_background": "light"
          }
        },
        {
          "output_type": "display_data",
          "data": {
            "text/plain": [
              "<Figure size 288x288 with 1 Axes>"
            ],
            "image/png": "[encoded data removed]"
          },
          "metadata": {
            "needs_background": "light"
          }
        },
        {
          "output_type": "display_data",
          "data": {
            "text/plain": [
              "<Figure size 288x288 with 1 Axes>"
            ],
            "image/png": "[encoded data removed]"
          },
          "metadata": {
            "needs_background": "light"
          }
        },
        {
          "output_type": "display_data",
          "data": {
            "text/plain": [
              "<Figure size 288x288 with 1 Axes>"
            ],
            "image/png": "[encoded data removed]"
          },
          "metadata": {
            "needs_background": "light"
          }
        },
        {
          "output_type": "display_data",
          "data": {
            "text/plain": [
              "<Figure size 288x288 with 1 Axes>"
            ],
            "image/png": "[encoded data removed]"
          },
          "metadata": {
            "needs_background": "light"
          }
        },
        {
          "output_type": "display_data",
          "data": {
            "text/plain": [
              "<Figure size 288x288 with 1 Axes>"
            ],
            "image/png": "[encoded data removed]"
          },
          "metadata": {
            "needs_background": "light"
          }
        },
        {
          "output_type": "display_data",
          "data": {
            "text/plain": [
              "<Figure size 288x288 with 1 Axes>"
            ],
            "image/png": "[encoded data removed]"
          },
          "metadata": {
            "needs_background": "light"
          }
        },
        {
          "output_type": "display_data",
          "data": {
            "text/plain": [
              "<Figure size 288x288 with 1 Axes>"
            ],
            "image/png": "[encoded data removed]"
          },
          "metadata": {
            "needs_background": "light"
          }
        },
        {
          "output_type": "error",
          "ename": "KeyboardInterrupt",
          "evalue": "ignored",
          "traceback": [
            "\u001b[0;31m---------------------------------------------------------------------------\u001b[0m",
            "\u001b[0;31mKeyboardInterrupt\u001b[0m                         Traceback (most recent call last)",
            "\u001b[0;32m<ipython-input-152-1ed374e0a4f3>\u001b[0m in \u001b[0;36m<module>\u001b[0;34m()\u001b[0m\n\u001b[1;32m     12\u001b[0m     \u001b[0mplt\u001b[0m\u001b[0;34m.\u001b[0m\u001b[0mylim\u001b[0m\u001b[0;34m(\u001b[0m\u001b[0mmin_val\u001b[0m\u001b[0;34m,\u001b[0m \u001b[0mmax_val\u001b[0m\u001b[0;34m)\u001b[0m\u001b[0;34m\u001b[0m\u001b[0;34m\u001b[0m\u001b[0m\n\u001b[1;32m     13\u001b[0m     \u001b[0mplt\u001b[0m\u001b[0;34m.\u001b[0m\u001b[0mlegend\u001b[0m\u001b[0;34m(\u001b[0m\u001b[0;34m)\u001b[0m\u001b[0;34m\u001b[0m\u001b[0;34m\u001b[0m\u001b[0m\n\u001b[0;32m---> 14\u001b[0;31m     \u001b[0mplt\u001b[0m\u001b[0;34m.\u001b[0m\u001b[0mshow\u001b[0m\u001b[0;34m(\u001b[0m\u001b[0;34m)\u001b[0m\u001b[0;34m\u001b[0m\u001b[0;34m\u001b[0m\u001b[0m\n\u001b[0m",
            "\u001b[0;32m/usr/local/lib/python3.7/dist-packages/matplotlib/pyplot.py\u001b[0m in \u001b[0;36mshow\u001b[0;34m(*args, **kw)\u001b[0m\n\u001b[1;32m    270\u001b[0m     \"\"\"\n\u001b[1;32m    271\u001b[0m     \u001b[0;32mglobal\u001b[0m \u001b[0m_show\u001b[0m\u001b[0;34m\u001b[0m\u001b[0;34m\u001b[0m\u001b[0m\n\u001b[0;32m--> 272\u001b[0;31m     \u001b[0;32mreturn\u001b[0m \u001b[0m_show\u001b[0m\u001b[0;34m(\u001b[0m\u001b[0;34m*\u001b[0m\u001b[0margs\u001b[0m\u001b[0;34m,\u001b[0m \u001b[0;34m**\u001b[0m\u001b[0mkw\u001b[0m\u001b[0;34m)\u001b[0m\u001b[0;34m\u001b[0m\u001b[0;34m\u001b[0m\u001b[0m\n\u001b[0m\u001b[1;32m    273\u001b[0m \u001b[0;34m\u001b[0m\u001b[0m\n\u001b[1;32m    274\u001b[0m \u001b[0;34m\u001b[0m\u001b[0m\n",
            "\u001b[0;32m/usr/local/lib/python3.7/dist-packages/ipykernel/pylab/backend_inline.py\u001b[0m in \u001b[0;36mshow\u001b[0;34m(close, block)\u001b[0m\n\u001b[1;32m     37\u001b[0m             display(\n\u001b[1;32m     38\u001b[0m                 \u001b[0mfigure_manager\u001b[0m\u001b[0;34m.\u001b[0m\u001b[0mcanvas\u001b[0m\u001b[0;34m.\u001b[0m\u001b[0mfigure\u001b[0m\u001b[0;34m,\u001b[0m\u001b[0;34m\u001b[0m\u001b[0;34m\u001b[0m\u001b[0m\n\u001b[0;32m---> 39\u001b[0;31m                 \u001b[0mmetadata\u001b[0m\u001b[0;34m=\u001b[0m\u001b[0m_fetch_figure_metadata\u001b[0m\u001b[0;34m(\u001b[0m\u001b[0mfigure_manager\u001b[0m\u001b[0;34m.\u001b[0m\u001b[0mcanvas\u001b[0m\u001b[0;34m.\u001b[0m\u001b[0mfigure\u001b[0m\u001b[0;34m)\u001b[0m\u001b[0;34m\u001b[0m\u001b[0;34m\u001b[0m\u001b[0m\n\u001b[0m\u001b[1;32m     40\u001b[0m             )\n\u001b[1;32m     41\u001b[0m     \u001b[0;32mfinally\u001b[0m\u001b[0;34m:\u001b[0m\u001b[0;34m\u001b[0m\u001b[0;34m\u001b[0m\u001b[0m\n",
            "\u001b[0;32m/usr/local/lib/python3.7/dist-packages/ipykernel/pylab/backend_inline.py\u001b[0m in \u001b[0;36m_fetch_figure_metadata\u001b[0;34m(fig)\u001b[0m\n\u001b[1;32m    175\u001b[0m         \u001b[0;31m# the background is transparent\u001b[0m\u001b[0;34m\u001b[0m\u001b[0;34m\u001b[0m\u001b[0;34m\u001b[0m\u001b[0m\n\u001b[1;32m    176\u001b[0m         ticksLight = _is_light([label.get_color()\n\u001b[0;32m--> 177\u001b[0;31m                                 \u001b[0;32mfor\u001b[0m \u001b[0maxes\u001b[0m \u001b[0;32min\u001b[0m \u001b[0mfig\u001b[0m\u001b[0;34m.\u001b[0m\u001b[0maxes\u001b[0m\u001b[0;34m\u001b[0m\u001b[0;34m\u001b[0m\u001b[0m\n\u001b[0m\u001b[1;32m    178\u001b[0m                                 \u001b[0;32mfor\u001b[0m \u001b[0maxis\u001b[0m \u001b[0;32min\u001b[0m \u001b[0;34m(\u001b[0m\u001b[0maxes\u001b[0m\u001b[0;34m.\u001b[0m\u001b[0mxaxis\u001b[0m\u001b[0;34m,\u001b[0m \u001b[0maxes\u001b[0m\u001b[0;34m.\u001b[0m\u001b[0myaxis\u001b[0m\u001b[0;34m)\u001b[0m\u001b[0;34m\u001b[0m\u001b[0;34m\u001b[0m\u001b[0m\n\u001b[1;32m    179\u001b[0m                                 for label in axis.get_ticklabels()])\n",
            "\u001b[0;32m/usr/local/lib/python3.7/dist-packages/ipykernel/pylab/backend_inline.py\u001b[0m in \u001b[0;36m<listcomp>\u001b[0;34m(.0)\u001b[0m\n\u001b[1;32m    177\u001b[0m                                 \u001b[0;32mfor\u001b[0m \u001b[0maxes\u001b[0m \u001b[0;32min\u001b[0m \u001b[0mfig\u001b[0m\u001b[0;34m.\u001b[0m\u001b[0maxes\u001b[0m\u001b[0;34m\u001b[0m\u001b[0;34m\u001b[0m\u001b[0m\n\u001b[1;32m    178\u001b[0m                                 \u001b[0;32mfor\u001b[0m \u001b[0maxis\u001b[0m \u001b[0;32min\u001b[0m \u001b[0;34m(\u001b[0m\u001b[0maxes\u001b[0m\u001b[0;34m.\u001b[0m\u001b[0mxaxis\u001b[0m\u001b[0;34m,\u001b[0m \u001b[0maxes\u001b[0m\u001b[0;34m.\u001b[0m\u001b[0myaxis\u001b[0m\u001b[0;34m)\u001b[0m\u001b[0;34m\u001b[0m\u001b[0;34m\u001b[0m\u001b[0m\n\u001b[0;32m--> 179\u001b[0;31m                                 for label in axis.get_ticklabels()])\n\u001b[0m\u001b[1;32m    180\u001b[0m         \u001b[0;32mif\u001b[0m \u001b[0mticksLight\u001b[0m\u001b[0;34m.\u001b[0m\u001b[0msize\u001b[0m \u001b[0;32mand\u001b[0m \u001b[0;34m(\u001b[0m\u001b[0mticksLight\u001b[0m \u001b[0;34m==\u001b[0m \u001b[0mticksLight\u001b[0m\u001b[0;34m[\u001b[0m\u001b[0;36m0\u001b[0m\u001b[0;34m]\u001b[0m\u001b[0;34m)\u001b[0m\u001b[0;34m.\u001b[0m\u001b[0mall\u001b[0m\u001b[0;34m(\u001b[0m\u001b[0;34m)\u001b[0m\u001b[0;34m:\u001b[0m\u001b[0;34m\u001b[0m\u001b[0;34m\u001b[0m\u001b[0m\n\u001b[1;32m    181\u001b[0m             \u001b[0;31m# there are one or more tick labels, all with the same lightness\u001b[0m\u001b[0;34m\u001b[0m\u001b[0;34m\u001b[0m\u001b[0;34m\u001b[0m\u001b[0m\n",
            "\u001b[0;32m/usr/local/lib/python3.7/dist-packages/matplotlib/axis.py\u001b[0m in \u001b[0;36mget_ticklabels\u001b[0;34m(self, minor, which)\u001b[0m\n\u001b[1;32m   1318\u001b[0m         \u001b[0;32mif\u001b[0m \u001b[0mminor\u001b[0m\u001b[0;34m:\u001b[0m\u001b[0;34m\u001b[0m\u001b[0;34m\u001b[0m\u001b[0m\n\u001b[1;32m   1319\u001b[0m             \u001b[0;32mreturn\u001b[0m \u001b[0mself\u001b[0m\u001b[0;34m.\u001b[0m\u001b[0mget_minorticklabels\u001b[0m\u001b[0;34m(\u001b[0m\u001b[0;34m)\u001b[0m\u001b[0;34m\u001b[0m\u001b[0;34m\u001b[0m\u001b[0m\n\u001b[0;32m-> 1320\u001b[0;31m         \u001b[0;32mreturn\u001b[0m \u001b[0mself\u001b[0m\u001b[0;34m.\u001b[0m\u001b[0mget_majorticklabels\u001b[0m\u001b[0;34m(\u001b[0m\u001b[0;34m)\u001b[0m\u001b[0;34m\u001b[0m\u001b[0;34m\u001b[0m\u001b[0m\n\u001b[0m\u001b[1;32m   1321\u001b[0m \u001b[0;34m\u001b[0m\u001b[0m\n\u001b[1;32m   1322\u001b[0m     \u001b[0;32mdef\u001b[0m \u001b[0mget_majorticklines\u001b[0m\u001b[0;34m(\u001b[0m\u001b[0mself\u001b[0m\u001b[0;34m)\u001b[0m\u001b[0;34m:\u001b[0m\u001b[0;34m\u001b[0m\u001b[0;34m\u001b[0m\u001b[0m\n",
            "\u001b[0;32m/usr/local/lib/python3.7/dist-packages/matplotlib/axis.py\u001b[0m in \u001b[0;36mget_majorticklabels\u001b[0;34m(self)\u001b[0m\n\u001b[1;32m   1274\u001b[0m     \u001b[0;32mdef\u001b[0m \u001b[0mget_majorticklabels\u001b[0m\u001b[0;34m(\u001b[0m\u001b[0mself\u001b[0m\u001b[0;34m)\u001b[0m\u001b[0;34m:\u001b[0m\u001b[0;34m\u001b[0m\u001b[0;34m\u001b[0m\u001b[0m\n\u001b[1;32m   1275\u001b[0m         \u001b[0;34m'Return a list of Text instances for the major ticklabels.'\u001b[0m\u001b[0;34m\u001b[0m\u001b[0;34m\u001b[0m\u001b[0m\n\u001b[0;32m-> 1276\u001b[0;31m         \u001b[0mticks\u001b[0m \u001b[0;34m=\u001b[0m \u001b[0mself\u001b[0m\u001b[0;34m.\u001b[0m\u001b[0mget_major_ticks\u001b[0m\u001b[0;34m(\u001b[0m\u001b[0;34m)\u001b[0m\u001b[0;34m\u001b[0m\u001b[0;34m\u001b[0m\u001b[0m\n\u001b[0m\u001b[1;32m   1277\u001b[0m         \u001b[0mlabels1\u001b[0m \u001b[0;34m=\u001b[0m \u001b[0;34m[\u001b[0m\u001b[0mtick\u001b[0m\u001b[0;34m.\u001b[0m\u001b[0mlabel1\u001b[0m \u001b[0;32mfor\u001b[0m \u001b[0mtick\u001b[0m \u001b[0;32min\u001b[0m \u001b[0mticks\u001b[0m \u001b[0;32mif\u001b[0m \u001b[0mtick\u001b[0m\u001b[0;34m.\u001b[0m\u001b[0mlabel1\u001b[0m\u001b[0;34m.\u001b[0m\u001b[0mget_visible\u001b[0m\u001b[0;34m(\u001b[0m\u001b[0;34m)\u001b[0m\u001b[0;34m]\u001b[0m\u001b[0;34m\u001b[0m\u001b[0;34m\u001b[0m\u001b[0m\n\u001b[1;32m   1278\u001b[0m         \u001b[0mlabels2\u001b[0m \u001b[0;34m=\u001b[0m \u001b[0;34m[\u001b[0m\u001b[0mtick\u001b[0m\u001b[0;34m.\u001b[0m\u001b[0mlabel2\u001b[0m \u001b[0;32mfor\u001b[0m \u001b[0mtick\u001b[0m \u001b[0;32min\u001b[0m \u001b[0mticks\u001b[0m \u001b[0;32mif\u001b[0m \u001b[0mtick\u001b[0m\u001b[0;34m.\u001b[0m\u001b[0mlabel2\u001b[0m\u001b[0;34m.\u001b[0m\u001b[0mget_visible\u001b[0m\u001b[0;34m(\u001b[0m\u001b[0;34m)\u001b[0m\u001b[0;34m]\u001b[0m\u001b[0;34m\u001b[0m\u001b[0;34m\u001b[0m\u001b[0m\n",
            "\u001b[0;32m/usr/local/lib/python3.7/dist-packages/matplotlib/axis.py\u001b[0m in \u001b[0;36mget_major_ticks\u001b[0;34m(self, numticks)\u001b[0m\n\u001b[1;32m   1436\u001b[0m             \u001b[0mself\u001b[0m\u001b[0;34m.\u001b[0m\u001b[0mmajorTicks\u001b[0m\u001b[0;34m.\u001b[0m\u001b[0mappend\u001b[0m\u001b[0;34m(\u001b[0m\u001b[0mtick\u001b[0m\u001b[0;34m)\u001b[0m\u001b[0;34m\u001b[0m\u001b[0;34m\u001b[0m\u001b[0m\n\u001b[1;32m   1437\u001b[0m             \u001b[0mtick\u001b[0m\u001b[0;34m.\u001b[0m\u001b[0mgridline\u001b[0m\u001b[0;34m.\u001b[0m\u001b[0mset_visible\u001b[0m\u001b[0;34m(\u001b[0m\u001b[0mself\u001b[0m\u001b[0;34m.\u001b[0m\u001b[0m_gridOnMajor\u001b[0m\u001b[0;34m)\u001b[0m\u001b[0;34m\u001b[0m\u001b[0;34m\u001b[0m\u001b[0m\n\u001b[0;32m-> 1438\u001b[0;31m             \u001b[0mself\u001b[0m\u001b[0;34m.\u001b[0m\u001b[0m_copy_tick_props\u001b[0m\u001b[0;34m(\u001b[0m\u001b[0mself\u001b[0m\u001b[0;34m.\u001b[0m\u001b[0mmajorTicks\u001b[0m\u001b[0;34m[\u001b[0m\u001b[0;36m0\u001b[0m\u001b[0;34m]\u001b[0m\u001b[0;34m,\u001b[0m \u001b[0mtick\u001b[0m\u001b[0;34m)\u001b[0m\u001b[0;34m\u001b[0m\u001b[0;34m\u001b[0m\u001b[0m\n\u001b[0m\u001b[1;32m   1439\u001b[0m \u001b[0;34m\u001b[0m\u001b[0m\n\u001b[1;32m   1440\u001b[0m         \u001b[0;32mreturn\u001b[0m \u001b[0mself\u001b[0m\u001b[0;34m.\u001b[0m\u001b[0mmajorTicks\u001b[0m\u001b[0;34m[\u001b[0m\u001b[0;34m:\u001b[0m\u001b[0mnumticks\u001b[0m\u001b[0;34m]\u001b[0m\u001b[0;34m\u001b[0m\u001b[0;34m\u001b[0m\u001b[0m\n",
            "\u001b[0;32m/usr/local/lib/python3.7/dist-packages/matplotlib/axis.py\u001b[0m in \u001b[0;36m_copy_tick_props\u001b[0;34m(self, src, dest)\u001b[0m\n\u001b[1;32m   1402\u001b[0m         \u001b[0mdest\u001b[0m\u001b[0;34m.\u001b[0m\u001b[0mlabel1\u001b[0m\u001b[0;34m.\u001b[0m\u001b[0mupdate_from\u001b[0m\u001b[0;34m(\u001b[0m\u001b[0msrc\u001b[0m\u001b[0;34m.\u001b[0m\u001b[0mlabel1\u001b[0m\u001b[0;34m)\u001b[0m\u001b[0;34m\u001b[0m\u001b[0;34m\u001b[0m\u001b[0m\n\u001b[1;32m   1403\u001b[0m         \u001b[0mdest\u001b[0m\u001b[0;34m.\u001b[0m\u001b[0mlabel2\u001b[0m\u001b[0;34m.\u001b[0m\u001b[0mupdate_from\u001b[0m\u001b[0;34m(\u001b[0m\u001b[0msrc\u001b[0m\u001b[0;34m.\u001b[0m\u001b[0mlabel2\u001b[0m\u001b[0;34m)\u001b[0m\u001b[0;34m\u001b[0m\u001b[0;34m\u001b[0m\u001b[0m\n\u001b[0;32m-> 1404\u001b[0;31m         \u001b[0mdest\u001b[0m\u001b[0;34m.\u001b[0m\u001b[0mtick1line\u001b[0m\u001b[0;34m.\u001b[0m\u001b[0mupdate_from\u001b[0m\u001b[0;34m(\u001b[0m\u001b[0msrc\u001b[0m\u001b[0;34m.\u001b[0m\u001b[0mtick1line\u001b[0m\u001b[0;34m)\u001b[0m\u001b[0;34m\u001b[0m\u001b[0;34m\u001b[0m\u001b[0m\n\u001b[0m\u001b[1;32m   1405\u001b[0m         \u001b[0mdest\u001b[0m\u001b[0;34m.\u001b[0m\u001b[0mtick2line\u001b[0m\u001b[0;34m.\u001b[0m\u001b[0mupdate_from\u001b[0m\u001b[0;34m(\u001b[0m\u001b[0msrc\u001b[0m\u001b[0;34m.\u001b[0m\u001b[0mtick2line\u001b[0m\u001b[0;34m)\u001b[0m\u001b[0;34m\u001b[0m\u001b[0;34m\u001b[0m\u001b[0m\n\u001b[1;32m   1406\u001b[0m         \u001b[0mdest\u001b[0m\u001b[0;34m.\u001b[0m\u001b[0mgridline\u001b[0m\u001b[0;34m.\u001b[0m\u001b[0mupdate_from\u001b[0m\u001b[0;34m(\u001b[0m\u001b[0msrc\u001b[0m\u001b[0;34m.\u001b[0m\u001b[0mgridline\u001b[0m\u001b[0;34m)\u001b[0m\u001b[0;34m\u001b[0m\u001b[0;34m\u001b[0m\u001b[0m\n",
            "\u001b[0;32m/usr/local/lib/python3.7/dist-packages/matplotlib/lines.py\u001b[0m in \u001b[0;36mupdate_from\u001b[0;34m(self, other)\u001b[0m\n\u001b[1;32m   1350\u001b[0m         \u001b[0mself\u001b[0m\u001b[0;34m.\u001b[0m\u001b[0m_linestyle\u001b[0m \u001b[0;34m=\u001b[0m \u001b[0mother\u001b[0m\u001b[0;34m.\u001b[0m\u001b[0m_linestyle\u001b[0m\u001b[0;34m\u001b[0m\u001b[0;34m\u001b[0m\u001b[0m\n\u001b[1;32m   1351\u001b[0m         self._marker = MarkerStyle(other._marker.get_marker(),\n\u001b[0;32m-> 1352\u001b[0;31m                                    other._marker.get_fillstyle())\n\u001b[0m\u001b[1;32m   1353\u001b[0m         \u001b[0mself\u001b[0m\u001b[0;34m.\u001b[0m\u001b[0m_drawstyle\u001b[0m \u001b[0;34m=\u001b[0m \u001b[0mother\u001b[0m\u001b[0;34m.\u001b[0m\u001b[0m_drawstyle\u001b[0m\u001b[0;34m\u001b[0m\u001b[0;34m\u001b[0m\u001b[0m\n\u001b[1;32m   1354\u001b[0m \u001b[0;34m\u001b[0m\u001b[0m\n",
            "\u001b[0;32m/usr/local/lib/python3.7/dist-packages/matplotlib/markers.py\u001b[0m in \u001b[0;36m__init__\u001b[0;34m(self, marker, fillstyle)\u001b[0m\n\u001b[1;32m    223\u001b[0m         \u001b[0mself\u001b[0m\u001b[0;34m.\u001b[0m\u001b[0m_marker_function\u001b[0m \u001b[0;34m=\u001b[0m \u001b[0;32mNone\u001b[0m\u001b[0;34m\u001b[0m\u001b[0;34m\u001b[0m\u001b[0m\n\u001b[1;32m    224\u001b[0m         \u001b[0mself\u001b[0m\u001b[0;34m.\u001b[0m\u001b[0mset_fillstyle\u001b[0m\u001b[0;34m(\u001b[0m\u001b[0mfillstyle\u001b[0m\u001b[0;34m)\u001b[0m\u001b[0;34m\u001b[0m\u001b[0;34m\u001b[0m\u001b[0m\n\u001b[0;32m--> 225\u001b[0;31m         \u001b[0mself\u001b[0m\u001b[0;34m.\u001b[0m\u001b[0mset_marker\u001b[0m\u001b[0;34m(\u001b[0m\u001b[0mmarker\u001b[0m\u001b[0;34m)\u001b[0m\u001b[0;34m\u001b[0m\u001b[0;34m\u001b[0m\u001b[0m\n\u001b[0m\u001b[1;32m    226\u001b[0m \u001b[0;34m\u001b[0m\u001b[0m\n\u001b[1;32m    227\u001b[0m     \u001b[0;32mdef\u001b[0m \u001b[0m_recache\u001b[0m\u001b[0;34m(\u001b[0m\u001b[0mself\u001b[0m\u001b[0;34m)\u001b[0m\u001b[0;34m:\u001b[0m\u001b[0;34m\u001b[0m\u001b[0;34m\u001b[0m\u001b[0m\n",
            "\u001b[0;32m/usr/local/lib/python3.7/dist-packages/matplotlib/markers.py\u001b[0m in \u001b[0;36mset_marker\u001b[0;34m(self, marker)\u001b[0m\n\u001b[1;32m    284\u001b[0m               marker in self.markers):\n\u001b[1;32m    285\u001b[0m             self._marker_function = getattr(\n\u001b[0;32m--> 286\u001b[0;31m                 self, '_set_' + self.markers[marker])\n\u001b[0m\u001b[1;32m    287\u001b[0m         \u001b[0;32melse\u001b[0m\u001b[0;34m:\u001b[0m\u001b[0;34m\u001b[0m\u001b[0;34m\u001b[0m\u001b[0m\n\u001b[1;32m    288\u001b[0m             \u001b[0;32mtry\u001b[0m\u001b[0;34m:\u001b[0m\u001b[0;34m\u001b[0m\u001b[0;34m\u001b[0m\u001b[0m\n",
            "\u001b[0;31mKeyboardInterrupt\u001b[0m: "
          ]
        }
      ]
    },
    {
      "cell_type": "code",
      "source": [
        ""
      ],
      "metadata": {
        "id": "U8qzLhBILz7-"
      },
      "execution_count": null,
      "outputs": []
    }
  ]
}